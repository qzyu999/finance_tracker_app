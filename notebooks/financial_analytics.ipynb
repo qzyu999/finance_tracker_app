{
 "cells": [
  {
   "cell_type": "code",
   "execution_count": 2,
   "metadata": {},
   "outputs": [],
   "source": [
    "import os\n",
    "import pandas as pd\n",
    "import gspread\n",
    "\n",
    "SPREADSHEET_KEY=os.environ['SPREADSHEET_KEY']\n",
    "EAST_WEST_BANK_BANK_STATEMENTS_WORKSHEET_NAME='east_west_bank_bank_statements'\n",
    "EAST_WEST_BANK_BANK_STATEMENTS_CATEGORIZED_WORKSHEET_NAME='east_west_bank_bank_statements_categorized'"
   ]
  },
  {
   "cell_type": "code",
   "execution_count": 3,
   "metadata": {},
   "outputs": [],
   "source": [
    "gc = gspread.service_account()\n",
    "finance_tracker_db_spreadsheet = gc.open_by_key(SPREADSHEET_KEY)"
   ]
  },
  {
   "cell_type": "code",
   "execution_count": 4,
   "metadata": {},
   "outputs": [],
   "source": [
    "east_west_bank_bank_statements_worksheet = finance_tracker_db_spreadsheet.worksheet(EAST_WEST_BANK_BANK_STATEMENTS_WORKSHEET_NAME)\n",
    "east_west_bank_bank_statements_df = pd.DataFrame(east_west_bank_bank_statements_worksheet.get_all_records())"
   ]
  },
  {
   "cell_type": "code",
   "execution_count": 5,
   "metadata": {},
   "outputs": [],
   "source": [
    "description_category_mapping = {\n",
    "    'Deposit': 'Deposit',\n",
    "    'Mobile Check DE': 'Deposit',\n",
    "    'ARTECH LLC DIR DEP': 'Paycheck',\n",
    "    'INSYNC STAFFING': 'Paycheck',\n",
    "    'CPRIME INC DIRECT DEP': 'Paycheck',\n",
    "    'CARDMEMBER SERV WEB PYMT': 'CC Payment',\n",
    "    'DISCOVER E-PAYMENT': 'CC Payment',\n",
    "    'VENMO': 'Venmo',\n",
    "    'ZELLE': 'Zelle',\n",
    "    'PAYPAL': 'PayPal',\n",
    "    'ROBINHOOD': 'Robinhood',\n",
    "    'GOLDMAN SACHS': 'Marcus',\n",
    "    'Goldman Sachs': 'Marcus',\n",
    "    'WYZANT ACH ACH ITEMS': 'Tutoring',\n",
    "    'JHULIVE': 'Tuition',\n",
    "    'JHU REFUND': 'Tuition',\n",
    "    'IRS TREAS': 'IRS',\n",
    "    'ST OF CA DMV': 'DMV',\n",
    "    'Trade App': 'Financial',\n",
    "    'AMERITRADE': 'Financial',\n",
    "    'FID BKG SVC LLC': 'Financial',\n",
    "    'Public.com': 'Financial',\n",
    "    'TASTYWORKS': 'Financial',\n",
    "    'FIRSTRADE': 'Financial',\n",
    "    'WEBULL': 'Financial',\n",
    "    'IG US LLC': 'Financial',\n",
    "    'OANDA': 'Financial',\n",
    "    'Trading.com': 'Financial',\n",
    "    'Apple Cash': 'Financial',\n",
    "    '99 RANCH MARKET': 'Grocery',\n",
    "    'COSTCO': 'Grocery',\n",
    "}\n",
    "for k, v in description_category_mapping.items():\n",
    "    east_west_bank_bank_statements_df.loc[\n",
    "        east_west_bank_bank_statements_df['description'].str.contains(k),\n",
    "        'category'\n",
    "    ] = v\n",
    "east_west_bank_bank_statements_df.loc[\n",
    "    east_west_bank_bank_statements_df['category'].isna(),\n",
    "    'category'\n",
    "] = 'Other'\n",
    "\n",
    "east_west_bank_bank_statements_df['amount'] = east_west_bank_bank_statements_df['amount'].apply(\n",
    "    lambda x: float(x.replace('$', '').replace(',', ''))\n",
    ")"
   ]
  },
  {
   "cell_type": "code",
   "execution_count": 6,
   "metadata": {},
   "outputs": [
    {
     "data": {
      "text/html": [
       "<div>\n",
       "<style scoped>\n",
       "    .dataframe tbody tr th:only-of-type {\n",
       "        vertical-align: middle;\n",
       "    }\n",
       "\n",
       "    .dataframe tbody tr th {\n",
       "        vertical-align: top;\n",
       "    }\n",
       "\n",
       "    .dataframe thead th {\n",
       "        text-align: right;\n",
       "    }\n",
       "</style>\n",
       "<table border=\"1\" class=\"dataframe\">\n",
       "  <thead>\n",
       "    <tr style=\"text-align: right;\">\n",
       "      <th></th>\n",
       "      <th>transaction_date</th>\n",
       "      <th>description</th>\n",
       "      <th>amount</th>\n",
       "      <th>category</th>\n",
       "    </tr>\n",
       "  </thead>\n",
       "  <tbody>\n",
       "    <tr>\n",
       "      <th>0</th>\n",
       "      <td>2020-01-02</td>\n",
       "      <td>Deposit</td>\n",
       "      <td>510.00</td>\n",
       "      <td>Deposit</td>\n",
       "    </tr>\n",
       "    <tr>\n",
       "      <th>1</th>\n",
       "      <td>2020-01-06</td>\n",
       "      <td>Preauth Debit        VENMO PAYMENT 200106</td>\n",
       "      <td>-160.00</td>\n",
       "      <td>Venmo</td>\n",
       "    </tr>\n",
       "    <tr>\n",
       "      <th>2</th>\n",
       "      <td>2020-01-06</td>\n",
       "      <td>Preauth Debit        VENMO PAYMENT 200106</td>\n",
       "      <td>-180.00</td>\n",
       "      <td>Venmo</td>\n",
       "    </tr>\n",
       "    <tr>\n",
       "      <th>3</th>\n",
       "      <td>2020-01-06</td>\n",
       "      <td>Preauth Debit        VENMO PAYMENT 200106</td>\n",
       "      <td>-240.00</td>\n",
       "      <td>Venmo</td>\n",
       "    </tr>\n",
       "    <tr>\n",
       "      <th>4</th>\n",
       "      <td>2020-01-06</td>\n",
       "      <td>Preauth Debit        VENMO PAYMENT 200106</td>\n",
       "      <td>-370.00</td>\n",
       "      <td>Venmo</td>\n",
       "    </tr>\n",
       "    <tr>\n",
       "      <th>...</th>\n",
       "      <td>...</td>\n",
       "      <td>...</td>\n",
       "      <td>...</td>\n",
       "      <td>...</td>\n",
       "    </tr>\n",
       "    <tr>\n",
       "      <th>621</th>\n",
       "      <td>2024-04-08</td>\n",
       "      <td>Pre-Auth Credit             CPRIME INC DIRECT ...</td>\n",
       "      <td>5839.26</td>\n",
       "      <td>Paycheck</td>\n",
       "    </tr>\n",
       "    <tr>\n",
       "      <th>622</th>\n",
       "      <td>2024-04-08</td>\n",
       "      <td>Preauth Debit        GOLDMAN SACHS BA COLLECTI...</td>\n",
       "      <td>-6300.00</td>\n",
       "      <td>Marcus</td>\n",
       "    </tr>\n",
       "    <tr>\n",
       "      <th>623</th>\n",
       "      <td>2024-04-23</td>\n",
       "      <td>Pre-Auth Credit             CPRIME INC DIRECT ...</td>\n",
       "      <td>3235.25</td>\n",
       "      <td>Paycheck</td>\n",
       "    </tr>\n",
       "    <tr>\n",
       "      <th>624</th>\n",
       "      <td>2024-04-23</td>\n",
       "      <td>Preauth Debit        GOLDMAN SACHS BA COLLECTI...</td>\n",
       "      <td>-3000.00</td>\n",
       "      <td>Marcus</td>\n",
       "    </tr>\n",
       "    <tr>\n",
       "      <th>625</th>\n",
       "      <td>2024-04-24</td>\n",
       "      <td>Preauth Debit        DISCOVER E-PAYMENT 240424</td>\n",
       "      <td>-427.16</td>\n",
       "      <td>CC Payment</td>\n",
       "    </tr>\n",
       "  </tbody>\n",
       "</table>\n",
       "<p>626 rows × 4 columns</p>\n",
       "</div>"
      ],
      "text/plain": [
       "    transaction_date                                        description  \\\n",
       "0         2020-01-02                                            Deposit   \n",
       "1         2020-01-06          Preauth Debit        VENMO PAYMENT 200106   \n",
       "2         2020-01-06          Preauth Debit        VENMO PAYMENT 200106   \n",
       "3         2020-01-06          Preauth Debit        VENMO PAYMENT 200106   \n",
       "4         2020-01-06          Preauth Debit        VENMO PAYMENT 200106   \n",
       "..               ...                                                ...   \n",
       "621       2024-04-08  Pre-Auth Credit             CPRIME INC DIRECT ...   \n",
       "622       2024-04-08  Preauth Debit        GOLDMAN SACHS BA COLLECTI...   \n",
       "623       2024-04-23  Pre-Auth Credit             CPRIME INC DIRECT ...   \n",
       "624       2024-04-23  Preauth Debit        GOLDMAN SACHS BA COLLECTI...   \n",
       "625       2024-04-24     Preauth Debit        DISCOVER E-PAYMENT 240424   \n",
       "\n",
       "      amount    category  \n",
       "0     510.00     Deposit  \n",
       "1    -160.00       Venmo  \n",
       "2    -180.00       Venmo  \n",
       "3    -240.00       Venmo  \n",
       "4    -370.00       Venmo  \n",
       "..       ...         ...  \n",
       "621  5839.26    Paycheck  \n",
       "622 -6300.00      Marcus  \n",
       "623  3235.25    Paycheck  \n",
       "624 -3000.00      Marcus  \n",
       "625  -427.16  CC Payment  \n",
       "\n",
       "[626 rows x 4 columns]"
      ]
     },
     "execution_count": 6,
     "metadata": {},
     "output_type": "execute_result"
    }
   ],
   "source": [
    "east_west_bank_bank_statements_df"
   ]
  },
  {
   "cell_type": "code",
   "execution_count": 5,
   "metadata": {},
   "outputs": [
    {
     "data": {
      "text/plain": [
       "{'spreadsheetId': '1CAyyf2kr-pS7LNX1a_0ithw6niL3Js3K4ZEOlwDViZY',\n",
       " 'replies': [{}]}"
      ]
     },
     "execution_count": 5,
     "metadata": {},
     "output_type": "execute_result"
    }
   ],
   "source": [
    "east_west_bank_bank_statements_categorized_worksheet = finance_tracker_db_spreadsheet.worksheet(\n",
    "    EAST_WEST_BANK_BANK_STATEMENTS_CATEGORIZED_WORKSHEET_NAME\n",
    ")\n",
    "east_west_bank_bank_statements_categorized_worksheet.update(\n",
    "    [east_west_bank_bank_statements_df.columns.values.tolist()] + \\\n",
    "    east_west_bank_bank_statements_df.values.tolist()\n",
    ")\n",
    "east_west_bank_bank_statements_categorized_worksheet.format(\"C:C\", {\"numberFormat\": {\"type\": \"CURRENCY\"}})\n",
    "east_west_bank_bank_statements_categorized_worksheet.format(\"A:A\", {\"numberFormat\": {\"type\": \"DATE_TIME\"}})"
   ]
  },
  {
   "cell_type": "code",
   "execution_count": 43,
   "metadata": {},
   "outputs": [],
   "source": [
    "pd.set_option('display.max_rows', 1000)"
   ]
  },
  {
   "cell_type": "code",
   "execution_count": null,
   "metadata": {},
   "outputs": [],
   "source": []
  },
  {
   "cell_type": "code",
   "execution_count": null,
   "metadata": {},
   "outputs": [],
   "source": [
    "# gc = gspread.service_account()\n",
    "# finance_tracker_db_spreadsheet = gc.open_by_key(SPREADSHEET_KEY)\n",
    "# east_west_bank_worksheet = finance_tracker_db_spreadsheet.worksheet('east_west_bank_bank_statements')\n",
    "# east_west_bank_worksheet.update([total_transactions_df.columns.values.tolist()] + total_transactions_df.values.tolist())\n",
    "# east_west_bank_worksheet.format(\"C:C\", {\"numberFormat\": {\"type\": \"CURRENCY\"}})\n",
    "# east_west_bank_worksheet.format(\"A\", {\"numberFormat\": {\"type\": \"DATE_TIME\"}})"
   ]
  },
  {
   "cell_type": "code",
   "execution_count": 7,
   "metadata": {},
   "outputs": [],
   "source": [
    "# gc = gspread.service_account()\n",
    "# finance_tracker_db_spreadsheet = gc.open_by_key(SPREADSHEET_KEY)\n",
    "# marcus_worksheet = finance_tracker_db_spreadsheet.worksheet('marcus_bank_statements')\n",
    "# marcus_worksheet.update([transactions_df.columns.values.tolist()] + transactions_df.values.tolist())\n",
    "# marcus_worksheet.format(\"C:D\", {\"numberFormat\": {\"type\": \"CURRENCY\"}})"
   ]
  },
  {
   "cell_type": "code",
   "execution_count": 8,
   "metadata": {},
   "outputs": [],
   "source": [
    "# gc = gspread.service_account()\n",
    "# finance_tracker_db_spreadsheet = gc.open_by_key(SPREADSHEET_KEY)\n",
    "# east_west_bank_credit_card_statements_worksheet = finance_tracker_db_spreadsheet.worksheet('east_west_bank_credit_card_statements')\n",
    "# east_west_bank_credit_card_statements_worksheet.update([total_transactions_df.columns.values.tolist()] + total_transactions_df.values.tolist())\n",
    "# east_west_bank_credit_card_statements_worksheet.format(\"D:D\", {\"numberFormat\": {\"type\": \"CURRENCY\"}})\n",
    "# east_west_bank_credit_card_statements_worksheet.format(\"A:B\", {\"numberFormat\": {\"type\": \"DATE_TIME\"}})"
   ]
  },
  {
   "cell_type": "code",
   "execution_count": 9,
   "metadata": {},
   "outputs": [],
   "source": [
    "# gc = gspread.service_account()\n",
    "# finance_tracker_db_spreadsheet = gc.open_by_key(SPREADSHEET_KEY)\n",
    "# east_west_bank_credit_card_statements_worksheet = finance_tracker_db_spreadsheet.worksheet('discover_credit_card_statements')\n",
    "# east_west_bank_credit_card_statements_worksheet.update([df.columns.values.tolist()] + df.values.tolist())\n",
    "# east_west_bank_credit_card_statements_worksheet.format(\"D:D\", {\"numberFormat\": {\"type\": \"CURRENCY\"}})\n",
    "# east_west_bank_credit_card_statements_worksheet.format(\"A:B\", {\"numberFormat\": {\"type\": \"DATE_TIME\"}})"
   ]
  }
 ],
 "metadata": {
  "kernelspec": {
   "display_name": "finance_tracker_app",
   "language": "python",
   "name": "python3"
  },
  "language_info": {
   "codemirror_mode": {
    "name": "ipython",
    "version": 3
   },
   "file_extension": ".py",
   "mimetype": "text/x-python",
   "name": "python",
   "nbconvert_exporter": "python",
   "pygments_lexer": "ipython3",
   "version": "3.11.9"
  }
 },
 "nbformat": 4,
 "nbformat_minor": 2
}
