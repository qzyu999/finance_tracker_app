{
 "cells": [
  {
   "cell_type": "code",
   "execution_count": 1,
   "metadata": {},
   "outputs": [],
   "source": [
    "import os\n",
    "import pandas as pd\n",
    "import gspread\n",
    "import plotly.express as px\n",
    "\n",
    "SPREADSHEET_KEY=os.environ['SPREADSHEET_KEY']\n",
    "EAST_WEST_BANK_BANK_STATEMENTS_WORKSHEET_NAME='east_west_bank_bank_statements'\n",
    "EAST_WEST_BANK_BANK_STATEMENTS_CATEGORIZED_WORKSHEET_NAME='east_west_bank_bank_statements_categorized'"
   ]
  },
  {
   "cell_type": "code",
   "execution_count": 2,
   "metadata": {},
   "outputs": [],
   "source": [
    "gc = gspread.service_account()\n",
    "finance_tracker_db_spreadsheet = gc.open_by_key(SPREADSHEET_KEY)"
   ]
  },
  {
   "cell_type": "code",
   "execution_count": 3,
   "metadata": {},
   "outputs": [],
   "source": [
    "east_west_bank_bank_statements_worksheet = finance_tracker_db_spreadsheet.worksheet(EAST_WEST_BANK_BANK_STATEMENTS_WORKSHEET_NAME)\n",
    "east_west_bank_bank_statements_df = pd.DataFrame(east_west_bank_bank_statements_worksheet.get_all_records())"
   ]
  },
  {
   "cell_type": "code",
   "execution_count": 4,
   "metadata": {},
   "outputs": [],
   "source": [
    "description_category_mapping = {\n",
    "    'Deposit': 'Deposit',\n",
    "    'Mobile Check DE': 'Deposit',\n",
    "    'ARTECH LLC DIR DEP': 'Paycheck',\n",
    "    'INSYNC STAFFING': 'Paycheck',\n",
    "    'CPRIME INC DIRECT DEP': 'Paycheck',\n",
    "    'CARDMEMBER SERV WEB PYMT': 'CC Payment',\n",
    "    'DISCOVER E-PAYMENT': 'CC Payment',\n",
    "    'VENMO': 'Venmo',\n",
    "    'ZELLE': 'Zelle',\n",
    "    'PAYPAL': 'PayPal',\n",
    "    'ROBINHOOD': 'Robinhood',\n",
    "    'GOLDMAN SACHS': 'Marcus',\n",
    "    'Goldman Sachs': 'Marcus',\n",
    "    'WYZANT ACH ACH ITEMS': 'Tutoring',\n",
    "    'JHULIVE': 'Tuition',\n",
    "    'JHU REFUND': 'Tuition',\n",
    "    'IRS TREAS': 'IRS',\n",
    "    'ST OF CA DMV': 'DMV',\n",
    "    'Trade App': 'Financial',\n",
    "    'AMERITRADE': 'Financial',\n",
    "    'FID BKG SVC LLC': 'Financial',\n",
    "    'Public.com': 'Financial',\n",
    "    'TASTYWORKS': 'Financial',\n",
    "    'FIRSTRADE': 'Financial',\n",
    "    'WEBULL': 'Financial',\n",
    "    'IG US LLC': 'Financial',\n",
    "    'OANDA': 'Financial',\n",
    "    'Trading.com': 'Financial',\n",
    "    'Apple Cash': 'Financial',\n",
    "    '99 RANCH MARKET': 'Grocery',\n",
    "    'COSTCO': 'Grocery',\n",
    "}\n",
    "for k, v in description_category_mapping.items():\n",
    "    east_west_bank_bank_statements_df.loc[\n",
    "        east_west_bank_bank_statements_df['description'].str.contains(k),\n",
    "        'category'\n",
    "    ] = v\n",
    "east_west_bank_bank_statements_df.loc[\n",
    "    east_west_bank_bank_statements_df['category'].isna(),\n",
    "    'category'\n",
    "] = 'Other'\n",
    "\n",
    "east_west_bank_bank_statements_df['amount'] = east_west_bank_bank_statements_df['amount'].apply(\n",
    "    lambda x: float(x.replace('$', '').replace(',', ''))\n",
    ")"
   ]
  },
  {
   "cell_type": "code",
   "execution_count": 5,
   "metadata": {},
   "outputs": [
    {
     "data": {
      "text/plain": [
       "{'spreadsheetId': '1CAyyf2kr-pS7LNX1a_0ithw6niL3Js3K4ZEOlwDViZY',\n",
       " 'replies': [{}]}"
      ]
     },
     "execution_count": 5,
     "metadata": {},
     "output_type": "execute_result"
    }
   ],
   "source": [
    "east_west_bank_bank_statements_categorized_worksheet = finance_tracker_db_spreadsheet.worksheet(\n",
    "    EAST_WEST_BANK_BANK_STATEMENTS_CATEGORIZED_WORKSHEET_NAME\n",
    ")\n",
    "east_west_bank_bank_statements_categorized_worksheet.update(\n",
    "    [east_west_bank_bank_statements_df.columns.values.tolist()] + \\\n",
    "    east_west_bank_bank_statements_df.values.tolist()\n",
    ")\n",
    "east_west_bank_bank_statements_categorized_worksheet.format(\"C:C\", {\"numberFormat\": {\"type\": \"CURRENCY\"}})\n",
    "east_west_bank_bank_statements_categorized_worksheet.format(\"A:A\", {\"numberFormat\": {\"type\": \"DATE_TIME\"}})"
   ]
  },
  {
   "cell_type": "code",
   "execution_count": 43,
   "metadata": {},
   "outputs": [],
   "source": [
    "pd.set_option('display.max_rows', 1000)"
   ]
  },
  {
   "cell_type": "code",
   "execution_count": 6,
   "metadata": {},
   "outputs": [],
   "source": [
    "east_west_bank_bank_statements_categorized_worksheet = finance_tracker_db_spreadsheet.worksheet(EAST_WEST_BANK_BANK_STATEMENTS_CATEGORIZED_WORKSHEET_NAME)\n",
    "east_west_bank_bank_statements_categorized_worksheet_df = pd.DataFrame(east_west_bank_bank_statements_categorized_worksheet.get_all_records())\n",
    "\n",
    "marcus_worksheet = finance_tracker_db_spreadsheet.worksheet('marcus_bank_statements')\n",
    "marcus_worksheet_df = pd.DataFrame(marcus_worksheet.get_all_records())\n",
    "\n",
    "discover_credit_card_statements_worksheet = finance_tracker_db_spreadsheet.worksheet('discover_credit_card_statements')\n",
    "discover_credit_card_statements_worksheet_df = pd.DataFrame(discover_credit_card_statements_worksheet.get_all_records())\n",
    "\n",
    "robinhood_brokerage_worksheet = finance_tracker_db_spreadsheet.worksheet('robinhood_brokerage_modified')\n",
    "robinhood_brokerage_worksheet_df = pd.DataFrame(robinhood_brokerage_worksheet.get_all_records())\n",
    "\n",
    "robinhood_traditional_ira_worksheet = finance_tracker_db_spreadsheet.worksheet('robinhood_traditional_ira_modified')\n",
    "robinhood_traditional_ira_worksheet_df = pd.DataFrame(robinhood_traditional_ira_worksheet.get_all_records())\n",
    "\n",
    "east_west_bank_credit_card_statements_worksheet = finance_tracker_db_spreadsheet.worksheet('east_west_bank_credit_card_statements')\n",
    "east_west_bank_credit_card_statements_worksheet_df = pd.DataFrame(east_west_bank_credit_card_statements_worksheet.get_all_records())"
   ]
  },
  {
   "cell_type": "code",
   "execution_count": 7,
   "metadata": {},
   "outputs": [],
   "source": [
    "east_west_bank_credit_card_statements_worksheet_df['float_amount'] = east_west_bank_credit_card_statements_worksheet_df['amount'] \\\n",
    "    .apply(lambda x: float(x.replace('$', '').replace(',', '')))"
   ]
  },
  {
   "cell_type": "code",
   "execution_count": 8,
   "metadata": {},
   "outputs": [],
   "source": [
    "net_worth_worksheet = finance_tracker_db_spreadsheet.worksheet('net_worth')\n",
    "net_worth_worksheet_df = pd.DataFrame(net_worth_worksheet.get_all_records())"
   ]
  },
  {
   "cell_type": "code",
   "execution_count": 9,
   "metadata": {},
   "outputs": [
    {
     "data": {
      "text/html": [
       "<div>\n",
       "<style scoped>\n",
       "    .dataframe tbody tr th:only-of-type {\n",
       "        vertical-align: middle;\n",
       "    }\n",
       "\n",
       "    .dataframe tbody tr th {\n",
       "        vertical-align: top;\n",
       "    }\n",
       "\n",
       "    .dataframe thead th {\n",
       "        text-align: right;\n",
       "    }\n",
       "</style>\n",
       "<table border=\"1\" class=\"dataframe\">\n",
       "  <thead>\n",
       "    <tr style=\"text-align: right;\">\n",
       "      <th></th>\n",
       "      <th>update_date</th>\n",
       "      <th>total_assets</th>\n",
       "      <th>total_liabilities</th>\n",
       "      <th>net_worth</th>\n",
       "      <th>latest_net_worth</th>\n",
       "    </tr>\n",
       "  </thead>\n",
       "  <tbody>\n",
       "    <tr>\n",
       "      <th>0</th>\n",
       "      <td>05/27/2024</td>\n",
       "      <td>$97,122.76</td>\n",
       "      <td>-$2,212.59</td>\n",
       "      <td>$94,910.17</td>\n",
       "      <td>$94,910.17</td>\n",
       "    </tr>\n",
       "  </tbody>\n",
       "</table>\n",
       "</div>"
      ],
      "text/plain": [
       "  update_date total_assets total_liabilities   net_worth latest_net_worth\n",
       "0  05/27/2024   $97,122.76        -$2,212.59  $94,910.17       $94,910.17"
      ]
     },
     "execution_count": 9,
     "metadata": {},
     "output_type": "execute_result"
    }
   ],
   "source": [
    "net_worth_worksheet_df"
   ]
  },
  {
   "cell_type": "code",
   "execution_count": 90,
   "metadata": {},
   "outputs": [
    {
     "data": {
      "text/plain": [
       "0    $94,663.51\n",
       "Name: total_assets, dtype: object"
      ]
     },
     "execution_count": 90,
     "metadata": {},
     "output_type": "execute_result"
    }
   ],
   "source": [
    "net_worth_worksheet_df.tail(1)['total_assets'].values[0]\n",
    "net_worth_worksheet_df.tail(1)['total_liabilities'].values[0]\n",
    "net_worth_worksheet_df.tail(1)['net_worth'].values[0]"
   ]
  },
  {
   "cell_type": "code",
   "execution_count": 108,
   "metadata": {},
   "outputs": [
    {
     "data": {
      "text/plain": [
       "99335.35"
      ]
     },
     "execution_count": 108,
     "metadata": {},
     "output_type": "execute_result"
    }
   ],
   "source": [
    "2982.74+30478.36+45198.00+18463.66+2212.59"
   ]
  },
  {
   "cell_type": "code",
   "execution_count": 10,
   "metadata": {},
   "outputs": [],
   "source": [
    "east_west_bank_balance = round(east_west_bank_bank_statements_categorized_worksheet_df.loc[\n",
    "    ~east_west_bank_bank_statements_categorized_worksheet_df['amount'].isna()\n",
    "]['amount'].apply(lambda x: float(x.replace('$', '').replace(',', ''))).sum(), 2)\n",
    "\n",
    "marcus_balance = round(float(marcus_worksheet_df['balance'].tail(1).values[0].replace('$', '').replace(',', '')), 2)\n",
    "\n",
    "robinhood_brokerage_portfolio_value = robinhood_brokerage_worksheet_df['Latest Portfolio Value'].tail(1).values[0]\n",
    "\n",
    "robinhood_traditional_ira_worksheet_value = robinhood_traditional_ira_worksheet_df['Latest Portfolio Value'].tail(1).values[0]\n",
    "\n",
    "east_west_bank_credit_card_balance = round(east_west_bank_credit_card_statements_worksheet_df.loc[\n",
    "    ~east_west_bank_credit_card_statements_worksheet_df['amount'].isna()\n",
    "]['amount'].apply(lambda x: float(x.replace('$', '').replace(',', ''))).sum(), 2)\n",
    "\n",
    "discover_credit_card_balance = round(discover_credit_card_statements_worksheet_df.loc[\n",
    "    ~discover_credit_card_statements_worksheet_df['Amount'].isna()\n",
    "]['Amount'].apply(lambda x: float(x.replace('$', '').replace(',', ''))).sum(), 2)"
   ]
  },
  {
   "cell_type": "code",
   "execution_count": 110,
   "metadata": {},
   "outputs": [
    {
     "data": {
      "text/plain": [
       "0"
      ]
     },
     "execution_count": 110,
     "metadata": {},
     "output_type": "execute_result"
    }
   ],
   "source": [
    "sum(east_west_bank_credit_card_statements_worksheet_df['float_amount'].isna())"
   ]
  },
  {
   "cell_type": "code",
   "execution_count": 111,
   "metadata": {},
   "outputs": [
    {
     "data": {
      "text/html": [
       "<div>\n",
       "<style scoped>\n",
       "    .dataframe tbody tr th:only-of-type {\n",
       "        vertical-align: middle;\n",
       "    }\n",
       "\n",
       "    .dataframe tbody tr th {\n",
       "        vertical-align: top;\n",
       "    }\n",
       "\n",
       "    .dataframe thead th {\n",
       "        text-align: right;\n",
       "    }\n",
       "</style>\n",
       "<table border=\"1\" class=\"dataframe\">\n",
       "  <thead>\n",
       "    <tr style=\"text-align: right;\">\n",
       "      <th></th>\n",
       "      <th>Trans. Date</th>\n",
       "      <th>Post Date</th>\n",
       "      <th>Description</th>\n",
       "      <th>Amount</th>\n",
       "      <th>Category</th>\n",
       "    </tr>\n",
       "  </thead>\n",
       "  <tbody>\n",
       "    <tr>\n",
       "      <th>0</th>\n",
       "      <td>09/03/2022</td>\n",
       "      <td>09/03/2022</td>\n",
       "      <td>GROUPON INC GROUPON.COM ILP6A3TAAO</td>\n",
       "      <td>$23.50</td>\n",
       "      <td>Services</td>\n",
       "    </tr>\n",
       "    <tr>\n",
       "      <th>1</th>\n",
       "      <td>09/04/2022</td>\n",
       "      <td>09/05/2022</td>\n",
       "      <td>$100 STATEMENT CREDIT W 1ST PU</td>\n",
       "      <td>-$100.00</td>\n",
       "      <td>Awards and Rebate Credits</td>\n",
       "    </tr>\n",
       "    <tr>\n",
       "      <th>2</th>\n",
       "      <td>09/05/2022</td>\n",
       "      <td>09/05/2022</td>\n",
       "      <td>AMZN MKTP US*1F51Z3LP1 AMZN.COM/BILLWA5FJW334UQ38</td>\n",
       "      <td>$17.23</td>\n",
       "      <td>Merchandise</td>\n",
       "    </tr>\n",
       "    <tr>\n",
       "      <th>3</th>\n",
       "      <td>09/07/2022</td>\n",
       "      <td>09/07/2022</td>\n",
       "      <td>SMART AND FINAL 702 GOLETA CA</td>\n",
       "      <td>$1.68</td>\n",
       "      <td>Supermarkets</td>\n",
       "    </tr>\n",
       "    <tr>\n",
       "      <th>4</th>\n",
       "      <td>09/08/2022</td>\n",
       "      <td>09/08/2022</td>\n",
       "      <td>SPIRIT AIRLINES 8014012222 FL</td>\n",
       "      <td>$87.18</td>\n",
       "      <td>Travel/ Entertainment</td>\n",
       "    </tr>\n",
       "    <tr>\n",
       "      <th>...</th>\n",
       "      <td>...</td>\n",
       "      <td>...</td>\n",
       "      <td>...</td>\n",
       "      <td>...</td>\n",
       "      <td>...</td>\n",
       "    </tr>\n",
       "    <tr>\n",
       "      <th>306</th>\n",
       "      <td>04/23/2024</td>\n",
       "      <td>04/23/2024</td>\n",
       "      <td>SHELL57444216600 SAN FRANCISCOCA</td>\n",
       "      <td>$40.74</td>\n",
       "      <td>Gasoline</td>\n",
       "    </tr>\n",
       "    <tr>\n",
       "      <th>307</th>\n",
       "      <td>05/02/2024</td>\n",
       "      <td>05/02/2024</td>\n",
       "      <td>ROTTEN ROBBIE #25 CUPERTINO CA</td>\n",
       "      <td>$37.82</td>\n",
       "      <td>Gasoline</td>\n",
       "    </tr>\n",
       "    <tr>\n",
       "      <th>308</th>\n",
       "      <td>05/03/2024</td>\n",
       "      <td>05/03/2024</td>\n",
       "      <td>HABIT CLAIRMONT MESA#111 949-851-8881 CAAPPLE ...</td>\n",
       "      <td>$3.11</td>\n",
       "      <td>Restaurants</td>\n",
       "    </tr>\n",
       "    <tr>\n",
       "      <th>309</th>\n",
       "      <td>05/05/2024</td>\n",
       "      <td>05/05/2024</td>\n",
       "      <td>TST* PACIFIC CATCH - L 241-579-8179 CA00003416...</td>\n",
       "      <td>$5.39</td>\n",
       "      <td>Restaurants</td>\n",
       "    </tr>\n",
       "    <tr>\n",
       "      <th>310</th>\n",
       "      <td>05/08/2024</td>\n",
       "      <td>05/08/2024</td>\n",
       "      <td>INTERNET PAYMENT - THANK YOU</td>\n",
       "      <td>-$87.06</td>\n",
       "      <td>Payments and Credits</td>\n",
       "    </tr>\n",
       "  </tbody>\n",
       "</table>\n",
       "<p>311 rows × 5 columns</p>\n",
       "</div>"
      ],
      "text/plain": [
       "    Trans. Date   Post Date  \\\n",
       "0    09/03/2022  09/03/2022   \n",
       "1    09/04/2022  09/05/2022   \n",
       "2    09/05/2022  09/05/2022   \n",
       "3    09/07/2022  09/07/2022   \n",
       "4    09/08/2022  09/08/2022   \n",
       "..          ...         ...   \n",
       "306  04/23/2024  04/23/2024   \n",
       "307  05/02/2024  05/02/2024   \n",
       "308  05/03/2024  05/03/2024   \n",
       "309  05/05/2024  05/05/2024   \n",
       "310  05/08/2024  05/08/2024   \n",
       "\n",
       "                                           Description    Amount  \\\n",
       "0                   GROUPON INC GROUPON.COM ILP6A3TAAO    $23.50   \n",
       "1                       $100 STATEMENT CREDIT W 1ST PU  -$100.00   \n",
       "2    AMZN MKTP US*1F51Z3LP1 AMZN.COM/BILLWA5FJW334UQ38    $17.23   \n",
       "3                        SMART AND FINAL 702 GOLETA CA     $1.68   \n",
       "4                        SPIRIT AIRLINES 8014012222 FL    $87.18   \n",
       "..                                                 ...       ...   \n",
       "306                   SHELL57444216600 SAN FRANCISCOCA    $40.74   \n",
       "307                     ROTTEN ROBBIE #25 CUPERTINO CA    $37.82   \n",
       "308  HABIT CLAIRMONT MESA#111 949-851-8881 CAAPPLE ...     $3.11   \n",
       "309  TST* PACIFIC CATCH - L 241-579-8179 CA00003416...     $5.39   \n",
       "310                       INTERNET PAYMENT - THANK YOU   -$87.06   \n",
       "\n",
       "                      Category  \n",
       "0                     Services  \n",
       "1    Awards and Rebate Credits  \n",
       "2                  Merchandise  \n",
       "3                 Supermarkets  \n",
       "4        Travel/ Entertainment  \n",
       "..                         ...  \n",
       "306                   Gasoline  \n",
       "307                   Gasoline  \n",
       "308                Restaurants  \n",
       "309                Restaurants  \n",
       "310       Payments and Credits  \n",
       "\n",
       "[311 rows x 5 columns]"
      ]
     },
     "execution_count": 111,
     "metadata": {},
     "output_type": "execute_result"
    }
   ],
   "source": [
    "discover_credit_card_statements_worksheet_df"
   ]
  },
  {
   "cell_type": "code",
   "execution_count": 54,
   "metadata": {},
   "outputs": [],
   "source": [
    "east_west_bank_bank_statements_categorized_worksheet_df['float_amount'] = \\\n",
    "    east_west_bank_bank_statements_categorized_worksheet_df['amount'] \\\n",
    "    .apply(lambda x: float(x.replace('$', '').replace(',', '')))\n",
    "\n",
    "EAST_WEST_BANK_BANK_STATEMENT_INITIAL_BALANCE=2459.25\n",
    "east_west_bank_bank_statements_categorized_worksheet_df.loc[0, 'float_amount'] += EAST_WEST_BANK_BANK_STATEMENT_INITIAL_BALANCE\n",
    "\n",
    "east_west_bank_bank_statements_categorized_worksheet_df['balance'] = \\\n",
    "    east_west_bank_bank_statements_categorized_worksheet_df['float_amount'].cumsum()\n",
    "\n",
    "marcus_worksheet_df['float_balance'] = marcus_worksheet_df['balance'].apply(lambda x: float(x.replace('$', '').replace(',', '')))"
   ]
  },
  {
   "cell_type": "code",
   "execution_count": 89,
   "metadata": {},
   "outputs": [],
   "source": [
    "from plotly.subplots import make_subplots\n",
    "import plotly.graph_objects as go\n",
    "import numpy as np"
   ]
  },
  {
   "cell_type": "code",
   "execution_count": 97,
   "metadata": {},
   "outputs": [],
   "source": [
    "robinhood_brokerage_worksheet_df['Portfolio Value'].replace('', np.nan, inplace=True)\n",
    "robinhood_brokerage_worksheet_df['Portfolio Value'].ffill(inplace=True)"
   ]
  },
  {
   "cell_type": "code",
   "execution_count": 99,
   "metadata": {},
   "outputs": [
    {
     "data": {
      "application/vnd.plotly.v1+json": {
       "config": {
        "plotlyServerURL": "https://plot.ly"
       },
       "data": [
        {
         "name": "East West Bank Checking",
         "type": "scatter",
         "x": [
          "2020-01-02",
          "2020-01-06",
          "2020-01-06",
          "2020-01-06",
          "2020-01-06",
          "2020-01-06",
          "2020-01-15",
          "2020-01-16",
          "2020-01-16",
          "2020-01-16",
          "2020-01-16",
          "2020-01-16",
          "2020-01-21",
          "2020-01-21",
          "2020-01-21",
          "2020-01-21",
          "2020-01-21",
          "2020-01-21",
          "2020-01-21",
          "2020-01-21",
          "2020-01-21",
          "2020-01-23",
          "2020-01-23",
          "2020-01-23",
          "2020-01-23",
          "2020-01-24",
          "2020-01-24",
          "2020-01-27",
          "2020-01-27",
          "2020-02-04",
          "2020-02-06",
          "2020-02-06",
          "2020-02-11",
          "2020-02-18",
          "2020-02-24",
          "2020-03-02",
          "2020-03-03",
          "2020-03-27",
          "2020-03-30",
          "2020-04-07",
          "2020-04-09",
          "2020-04-22",
          "2020-04-22",
          "2020-04-29",
          "2020-04-30",
          "2020-05-19",
          "2020-05-19",
          "2020-05-21",
          "2020-06-01",
          "2020-06-02",
          "2020-06-02",
          "2020-06-09",
          "2020-06-18",
          "2020-06-19",
          "2020-06-19",
          "2020-06-19",
          "2020-06-19",
          "2020-06-19",
          "2020-06-19",
          "2020-06-19",
          "2020-06-19",
          "2020-06-19",
          "2020-06-19",
          "2020-06-22",
          "2020-06-22",
          "2020-06-22",
          "2020-06-22",
          "2020-06-24",
          "2020-07-20",
          "2020-07-22",
          "2020-07-29",
          "2020-07-31",
          "2020-08-04",
          "2020-08-11",
          "2020-08-12",
          "2020-09-16",
          "2020-09-21",
          "2020-09-22",
          "2020-09-24",
          "2020-09-28",
          "2020-09-29",
          "2020-09-30",
          "2020-10-05",
          "2020-10-08",
          "2020-10-13",
          "2020-10-19",
          "2020-10-20",
          "2020-10-27",
          "2020-10-29",
          "2020-11-13",
          "2020-11-18",
          "2020-11-24",
          "2020-12-10",
          "2020-12-18",
          "2020-12-21",
          "2020-12-22",
          "2020-12-28",
          "2020-12-28",
          "2020-12-29",
          "2020-12-30",
          "2020-12-30",
          "2020-12-30",
          "2020-12-30",
          "2021-01-04",
          "2021-01-04",
          "2021-01-12",
          "2021-01-15",
          "2021-01-19",
          "2021-01-19",
          "2021-01-19",
          "2021-01-19",
          "2021-01-21",
          "2021-02-02",
          "2021-02-02",
          "2021-02-03",
          "2021-02-03",
          "2021-02-03",
          "2021-02-03",
          "2021-02-03",
          "2021-02-04",
          "2021-02-04",
          "2021-02-08",
          "2021-02-08",
          "2021-02-09",
          "2021-02-09",
          "2021-02-09",
          "2021-02-09",
          "2021-02-09",
          "2021-02-10",
          "2021-02-10",
          "2021-02-10",
          "2021-02-10",
          "2021-02-10",
          "2021-02-10",
          "2021-02-10",
          "2021-02-10",
          "2021-02-10",
          "2021-02-10",
          "2021-02-10",
          "2021-02-11",
          "2021-02-11",
          "2021-02-16",
          "2021-02-17",
          "2021-02-17",
          "2021-02-17",
          "2021-02-17",
          "2021-02-17",
          "2021-02-17",
          "2021-02-18",
          "2021-02-25",
          "2021-02-25",
          "2021-02-25",
          "2021-03-01",
          "2021-03-01",
          "2021-03-01",
          "2021-03-01",
          "2021-03-01",
          "2021-03-01",
          "2021-03-04",
          "2021-03-09",
          "2021-03-09",
          "2021-03-10",
          "2021-03-11",
          "2021-03-16",
          "2021-03-17",
          "2021-03-23",
          "2021-03-26",
          "2021-03-26",
          "2021-03-26",
          "2021-04-06",
          "2021-04-07",
          "2021-04-09",
          "2021-04-09",
          "2021-04-12",
          "2021-04-13",
          "2021-04-23",
          "2021-04-26",
          "2021-04-29",
          "2021-05-03",
          "2021-05-07",
          "2021-05-07",
          "2021-05-07",
          "2021-05-10",
          "2021-05-12",
          "2021-05-21",
          "2021-05-25",
          "2021-06-03",
          "2021-06-03",
          "2021-06-03",
          "2021-06-04",
          "2021-06-07",
          "2021-06-09",
          "2021-06-15",
          "2021-06-18",
          "2021-06-18",
          "2021-06-18",
          "2021-06-23",
          "2021-06-24",
          "2021-07-01",
          "2021-07-02",
          "2021-07-06",
          "2021-07-07",
          "2021-07-09",
          "2021-07-13",
          "2021-07-16",
          "2021-07-19",
          "2021-07-27",
          "2021-07-30",
          "2021-08-02",
          "2021-08-05",
          "2021-08-11",
          "2021-08-12",
          "2021-08-13",
          "2021-08-13",
          "2021-08-16",
          "2021-08-16",
          "2021-08-17",
          "2021-08-25",
          "2021-08-27",
          "2021-08-31",
          "2021-09-01",
          "2021-09-01",
          "2021-09-10",
          "2021-09-13",
          "2021-09-14",
          "2021-09-24",
          "2021-09-28",
          "2021-10-04",
          "2021-10-08",
          "2021-10-12",
          "2021-10-15",
          "2021-10-18",
          "2021-10-19",
          "2021-10-22",
          "2021-10-25",
          "2021-10-25",
          "2021-10-26",
          "2021-10-26",
          "2021-10-26",
          "2021-11-03",
          "2021-11-03",
          "2021-11-03",
          "2021-11-08",
          "2021-11-08",
          "2021-11-18",
          "2021-11-19",
          "2021-11-24",
          "2021-11-24",
          "2021-11-26",
          "2021-11-30",
          "2021-12-01",
          "2021-12-03",
          "2021-12-08",
          "2021-12-10",
          "2021-12-13",
          "2021-12-15",
          "2021-12-15",
          "2021-12-16",
          "2021-12-17",
          "2021-12-22",
          "2021-12-23",
          "2021-12-24",
          "2021-12-29",
          "2021-12-30",
          "2022-01-07",
          "2022-01-07",
          "2022-01-10",
          "2022-01-12",
          "2022-01-14",
          "2022-01-19",
          "2022-01-19",
          "2022-01-21",
          "2022-01-21",
          "2022-01-25",
          "2022-01-26",
          "2022-01-27",
          "2022-01-27",
          "2022-01-28",
          "2022-01-28",
          "2022-02-01",
          "2022-02-01",
          "2022-02-02",
          "2022-02-03",
          "2022-02-04",
          "2022-02-08",
          "2022-02-11",
          "2022-02-11",
          "2022-02-11",
          "2022-02-14",
          "2022-02-14",
          "2022-02-14",
          "2022-02-18",
          "2022-02-18",
          "2022-02-22",
          "2022-02-24",
          "2022-02-24",
          "2022-02-25",
          "2022-02-28",
          "2022-02-28",
          "2022-03-04",
          "2022-03-07",
          "2022-03-11",
          "2022-03-18",
          "2022-03-21",
          "2022-03-25",
          "2022-03-29",
          "2022-03-30",
          "2022-03-30",
          "2022-03-30",
          "2022-04-01",
          "2022-04-08",
          "2022-04-11",
          "2022-04-15",
          "2022-04-18",
          "2022-04-22",
          "2022-04-26",
          "2022-04-29",
          "2022-05-02",
          "2022-05-03",
          "2022-05-06",
          "2022-05-09",
          "2022-05-10",
          "2022-05-11",
          "2022-05-12",
          "2022-05-12",
          "2022-05-13",
          "2022-05-13",
          "2022-05-13",
          "2022-05-20",
          "2022-05-23",
          "2022-05-27",
          "2022-06-03",
          "2022-06-07",
          "2022-06-07",
          "2022-06-09",
          "2022-06-10",
          "2022-06-14",
          "2022-06-16",
          "2022-06-17",
          "2022-06-21",
          "2022-06-21",
          "2022-06-23",
          "2022-06-23",
          "2022-06-24",
          "2022-06-27",
          "2022-06-27",
          "2022-06-30",
          "2022-07-01",
          "2022-07-05",
          "2022-07-07",
          "2022-07-08",
          "2022-07-14",
          "2022-07-15",
          "2022-07-18",
          "2022-07-20",
          "2022-07-21",
          "2022-07-22",
          "2022-07-29",
          "2022-08-01",
          "2022-08-01",
          "2022-08-02",
          "2022-08-05",
          "2022-08-12",
          "2022-08-12",
          "2022-08-15",
          "2022-08-19",
          "2022-08-22",
          "2022-08-24",
          "2022-08-25",
          "2022-08-26",
          "2022-08-29",
          "2022-08-31",
          "2022-08-31",
          "2022-09-01",
          "2022-09-02",
          "2022-09-09",
          "2022-09-12",
          "2022-09-13",
          "2022-09-16",
          "2022-09-19",
          "2022-09-23",
          "2022-09-26",
          "2022-09-26",
          "2022-09-30",
          "2022-10-04",
          "2022-10-04",
          "2022-10-06",
          "2022-10-07",
          "2022-10-11",
          "2022-10-12",
          "2022-10-14",
          "2022-10-17",
          "2022-10-17",
          "2022-10-17",
          "2022-10-21",
          "2022-10-26",
          "2022-10-26",
          "2022-10-28",
          "2022-11-02",
          "2022-11-03",
          "2022-11-04",
          "2022-11-04",
          "2022-11-07",
          "2022-11-07",
          "2022-11-08",
          "2022-11-10",
          "2022-11-14",
          "2022-11-14",
          "2022-11-15",
          "2022-11-15",
          "2022-11-16",
          "2022-11-17",
          "2022-11-17",
          "2022-11-17",
          "2022-11-17",
          "2022-11-17",
          "2022-11-18",
          "2022-11-18",
          "2022-11-18",
          "2022-11-21",
          "2022-11-21",
          "2022-11-23",
          "2022-11-25",
          "2022-11-25",
          "2022-11-28",
          "2022-11-29",
          "2022-12-01",
          "2022-12-01",
          "2022-12-02",
          "2022-12-02",
          "2022-12-02",
          "2022-12-05",
          "2022-12-05",
          "2022-12-06",
          "2022-12-09",
          "2022-12-12",
          "2022-12-12",
          "2022-12-12",
          "2022-12-14",
          "2022-12-14",
          "2022-12-15",
          "2022-12-16",
          "2022-12-16",
          "2022-12-19",
          "2022-12-23",
          "2022-12-27",
          "2022-12-28",
          "2022-12-28",
          "2022-12-30",
          "2023-01-03",
          "2023-01-03",
          "2023-01-05",
          "2023-01-06",
          "2023-01-06",
          "2023-01-09",
          "2023-01-09",
          "2023-01-11",
          "2023-01-11",
          "2023-01-12",
          "2023-01-12",
          "2023-01-13",
          "2023-01-18",
          "2023-01-20",
          "2023-01-20",
          "2023-01-23",
          "2023-01-23",
          "2023-01-25",
          "2023-01-25",
          "2023-01-27",
          "2023-01-27",
          "2023-01-30",
          "2023-02-03",
          "2023-02-03",
          "2023-02-06",
          "2023-02-06",
          "2023-02-06",
          "2023-02-10",
          "2023-02-13",
          "2023-02-13",
          "2023-02-13",
          "2023-02-13",
          "2023-02-14",
          "2023-02-17",
          "2023-02-17",
          "2023-02-21",
          "2023-02-23",
          "2023-02-23",
          "2023-02-24",
          "2023-02-24",
          "2023-02-28",
          "2023-03-02",
          "2023-03-03",
          "2023-03-06",
          "2023-03-08",
          "2023-03-10",
          "2023-03-10",
          "2023-03-13",
          "2023-03-13",
          "2023-03-13",
          "2023-03-14",
          "2023-03-15",
          "2023-03-17",
          "2023-03-24",
          "2023-03-24",
          "2023-03-30",
          "2023-03-30",
          "2023-03-30",
          "2023-03-31",
          "2023-03-31",
          "2023-03-31",
          "2023-04-03",
          "2023-04-04",
          "2023-04-12",
          "2023-04-13",
          "2023-04-14",
          "2023-04-21",
          "2023-04-24",
          "2023-04-24",
          "2023-04-24",
          "2023-04-25",
          "2023-05-01",
          "2023-05-02",
          "2023-05-02",
          "2023-05-08",
          "2023-05-08",
          "2023-05-10",
          "2023-05-11",
          "2023-05-11",
          "2023-05-23",
          "2023-05-25",
          "2023-05-26",
          "2023-05-30",
          "2023-05-31",
          "2023-06-05",
          "2023-06-06",
          "2023-06-08",
          "2023-06-08",
          "2023-06-09",
          "2023-06-12",
          "2023-06-12",
          "2023-06-21",
          "2023-06-23",
          "2023-06-26",
          "2023-06-26",
          "2023-06-27",
          "2023-07-07",
          "2023-07-10",
          "2023-07-10",
          "2023-07-12",
          "2023-07-13",
          "2023-07-13",
          "2023-07-21",
          "2023-07-21",
          "2023-07-27",
          "2023-07-28",
          "2023-07-28",
          "2023-07-31",
          "2023-07-31",
          "2023-08-01",
          "2023-08-02",
          "2023-08-02",
          "2023-08-03",
          "2023-08-07",
          "2023-08-08",
          "2023-08-09",
          "2023-08-10",
          "2023-08-11",
          "2023-08-22",
          "2023-08-22",
          "2023-08-23",
          "2023-08-24",
          "2023-09-08",
          "2023-09-08",
          "2023-09-20",
          "2023-09-22",
          "2023-09-25",
          "2023-10-06",
          "2023-10-06",
          "2023-10-23",
          "2023-10-23",
          "2023-10-23",
          "2023-10-24",
          "2023-10-24",
          "2023-11-03",
          "2023-11-08",
          "2023-11-08",
          "2023-11-09",
          "2023-11-22",
          "2023-11-22",
          "2023-11-22",
          "2023-12-08",
          "2023-12-08",
          "2023-12-12",
          "2023-12-13",
          "2023-12-21",
          "2023-12-22",
          "2023-12-29",
          "2023-12-29",
          "2024-01-02",
          "2024-01-04",
          "2024-01-08",
          "2024-01-08",
          "2024-01-10",
          "2024-01-16",
          "2024-01-16",
          "2024-01-23",
          "2024-01-23",
          "2024-01-24",
          "2024-01-30",
          "2024-02-08",
          "2024-02-08",
          "2024-02-09",
          "2024-02-22",
          "2024-02-23",
          "2024-02-26",
          "2024-03-08",
          "2024-03-11",
          "2024-03-11",
          "2024-03-22",
          "2024-04-02",
          "2024-04-03",
          "2024-04-08",
          "2024-04-08",
          "2024-04-23",
          "2024-04-23",
          "2024-04-24"
         ],
         "xaxis": "x",
         "y": [
          2969.25,
          2809.25,
          2629.25,
          2389.25,
          2019.25,
          1619.25,
          1579.79,
          6879.79,
          6639.79,
          6359.79,
          6039.79,
          5679.79,
          6679.79,
          6529.79,
          6289.79,
          6049.79,
          5809.79,
          5529.79,
          5249.79,
          4929.79,
          3603.51,
          3363.51,
          3123.51,
          2883.51,
          1883.5100000000002,
          1643.5100000000002,
          1403.5100000000002,
          1163.5100000000002,
          923.5100000000002,
          1263.5100000000002,
          1363.5100000000002,
          1345.5100000000002,
          1295.5100000000002,
          1275.5100000000002,
          1075.5100000000002,
          1375.5100000000002,
          1345.5100000000002,
          345.5100000000002,
          225.51000000000022,
          287.7600000000002,
          229.76000000000022,
          1229.7600000000002,
          1029.7600000000002,
          2229.76,
          1206.7800000000002,
          1406.9100000000003,
          1050.8400000000004,
          14912.84,
          14912.86,
          14850.86,
          1065.8600000000006,
          565.8600000000006,
          9755.86,
          9615.86,
          9465.86,
          9285.86,
          9085.86,
          8835.86,
          8535.86,
          8135.860000000001,
          7685.860000000001,
          6785.860000000001,
          5785.860000000001,
          5685.860000000001,
          5585.860000000001,
          5435.860000000001,
          5035.860000000001,
          3702.2700000000004,
          3732.3400000000006,
          3752.0700000000006,
          3565.8100000000004,
          14565.810000000001,
          14515.810000000001,
          730.8100000000013,
          576.4700000000013,
          559.3200000000013,
          459.3200000000013,
          445.1700000000013,
          420.1700000000013,
          2420.1700000000014,
          2408.5100000000016,
          683.1400000000017,
          671.8700000000017,
          660.8700000000017,
          647.7000000000018,
          572.2500000000017,
          557.1100000000017,
          538.0600000000018,
          523.0600000000018,
          483.06000000000176,
          533.0600000000018,
          89.62000000000177,
          75.62000000000177,
          2075.6200000000017,
          2024.6200000000017,
          914.3000000000018,
          15931.910000000002,
          18931.910000000003,
          18619.650000000005,
          18319.650000000005,
          17919.650000000005,
          16819.650000000005,
          15619.650000000005,
          16219.650000000005,
          1328.650000000005,
          1077.700000000005,
          4677.700000000005,
          4477.700000000005,
          4227.700000000005,
          3877.7000000000053,
          2677.7000000000053,
          1103.9400000000053,
          1104.2800000000052,
          1104.3100000000052,
          1604.3100000000052,
          1604.5000000000052,
          1604.5400000000052,
          1604.5100000000052,
          1604.1700000000053,
          1604.1300000000053,
          1603.9400000000053,
          2143.940000000005,
          1652.000000000005,
          7353.0000000000055,
          8953.000000000005,
          8953.420000000006,
          8953.770000000006,
          8873.180000000006,
          8872.830000000005,
          8872.410000000005,
          8772.410000000005,
          8672.410000000005,
          8272.410000000005,
          7722.410000000005,
          7072.410000000005,
          6247.410000000005,
          5347.410000000005,
          4147.410000000005,
          2147.4100000000053,
          2047.4100000000053,
          1797.4100000000053,
          2347.4100000000053,
          2247.4100000000053,
          2147.4100000000053,
          1897.4100000000053,
          1497.4100000000053,
          1097.4100000000053,
          597.4100000000053,
          495.1800000000053,
          995.1800000000053,
          995.6600000000053,
          995.8100000000053,
          1095.8100000000054,
          1098.8500000000054,
          1098.7000000000053,
          1098.2200000000053,
          1088.9500000000053,
          1007.6600000000053,
          1132.7900000000054,
          1133.0000000000055,
          1133.0900000000054,
          1059.1700000000053,
          1609.1700000000053,
          1069.1700000000053,
          2469.1700000000055,
          1993.4400000000055,
          2839.9500000000053,
          1993.4400000000053,
          1028.0900000000051,
          1528.0900000000051,
          11128.090000000006,
          12565.670000000006,
          12146.360000000006,
          2636.360000000006,
          1198.780000000006,
          2783.200000000006,
          1198.780000000006,
          830.5300000000061,
          1330.530000000006,
          2914.980000000006,
          2926.1600000000058,
          2536.1600000000058,
          951.7100000000057,
          615.0600000000057,
          2199.500000000006,
          1368.3000000000059,
          1898.3000000000059,
          1784.1400000000058,
          1145.0600000000059,
          2584.650000000006,
          1145.060000000006,
          930.3400000000061,
          5685.340000000006,
          7124.9200000000055,
          5685.340000000006,
          930.3400000000056,
          712.3700000000056,
          445.0900000000056,
          180.8300000000056,
          1765.2600000000057,
          765.2600000000057,
          2830.9700000000057,
          830.9700000000057,
          461.4200000000057,
          1901.0000000000057,
          901.0000000000057,
          373.14000000000567,
          1957.5900000000056,
          957.5900000000056,
          457.5900000000056,
          16457.590000000004,
          16294.250000000004,
          17878.690000000002,
          1878.6900000000023,
          1878.1000000000024,
          878.1000000000024,
          378.1000000000024,
          278.1000000000024,
          1862.5300000000025,
          1362.5300000000025,
          862.5300000000025,
          148.61000000000251,
          1733.0500000000025,
          733.0500000000025,
          233.05000000000246,
          1672.6400000000024,
          672.6400000000024,
          499.6400000000024,
          2084.060000000002,
          1084.0600000000022,
          821.9200000000022,
          819.9200000000022,
          319.92000000000223,
          2572.120000000002,
          3072.120000000002,
          1572.1200000000022,
          2525.1100000000024,
          2131.0100000000025,
          1631.0100000000025,
          1531.0100000000025,
          1190.9900000000025,
          690.9900000000025,
          2190.9900000000025,
          2090.9900000000025,
          1840.9900000000025,
          2601.0900000000024,
          3101.0900000000024,
          2638.1300000000024,
          3549.5900000000024,
          2049.5900000000024,
          1776.8100000000024,
          2362.5400000000027,
          2185.690000000003,
          3097.150000000003,
          3098.7100000000028,
          8098.710000000003,
          7924.520000000003,
          12924.520000000004,
          13786.150000000003,
          13734.110000000002,
          14595.740000000002,
          13828.190000000002,
          13690.410000000002,
          14552.04,
          15421.400000000001,
          15305.440000000002,
          11105.440000000002,
          9080.700000000003,
          9950.060000000003,
          9937.250000000004,
          7573.380000000004,
          8442.740000000003,
          7612.800000000003,
          7131.310000000003,
          6131.310000000003,
          5931.310000000003,
          5431.310000000003,
          6147.880000000003,
          6042.300000000003,
          6004.330000000003,
          5904.330000000003,
          3904.3300000000027,
          3817.2300000000027,
          4686.590000000003,
          4336.590000000003,
          6336.590000000003,
          7205.950000000003,
          6645.150000000002,
          6640.150000000002,
          6635.150000000002,
          6618.150000000002,
          7487.510000000002,
          7501.410000000002,
          7089.6100000000015,
          6089.6100000000015,
          2534.7100000000014,
          3404.0700000000015,
          3394.0700000000015,
          2394.0700000000015,
          3110.6400000000017,
          2929.8500000000017,
          3799.210000000002,
          4668.5700000000015,
          4361.230000000001,
          5230.590000000001,
          4230.590000000001,
          4636.590000000001,
          4119.990000000001,
          3119.9900000000007,
          3989.350000000001,
          4858.710000000001,
          4172.920000000001,
          5042.280000000001,
          4855.400000000001,
          5724.76,
          5279.5,
          6148.86,
          5748.86,
          2748.8599999999997,
          3618.22,
          3040.99,
          2840.99,
          6063.9,
          5992.429999999999,
          2992.4299999999994,
          3861.7899999999995,
          3860.7899999999995,
          3859.3499999999995,
          4728.709999999999,
          4359.149999999999,
          5228.509999999998,
          6097.869999999998,
          6089.619999999998,
          4089.619999999998,
          4087.529999999998,
          4804.099999999998,
          4628.329999999997,
          4317.059999999998,
          5186.419999999997,
          5182.819999999997,
          4699.469999999997,
          9699.469999999998,
          9297.249999999998,
          10013.819999999998,
          9645.819999999998,
          4645.819999999998,
          4578.139999999998,
          5294.709999999997,
          8319.709999999997,
          5180.789999999997,
          6050.149999999997,
          5619.809999999997,
          6336.3799999999965,
          2836.3799999999965,
          3640.3799999999965,
          2780.9899999999966,
          3650.3499999999967,
          4519.709999999996,
          4394.309999999997,
          2394.3099999999968,
          2677.209999999997,
          3546.569999999997,
          4415.929999999997,
          3415.9299999999967,
          2415.9299999999967,
          3285.289999999997,
          3377.789999999997,
          2377.789999999997,
          1891.9399999999969,
          2761.299999999997,
          4761.299999999997,
          4300.029999999997,
          2300.029999999997,
          2266.149999999997,
          3135.509999999997,
          4004.869999999997,
          3791.599999999997,
          3612.3399999999974,
          4481.699999999997,
          4456.699999999997,
          5326.059999999997,
          4858.519999999997,
          1858.5199999999968,
          2727.879999999997,
          2464.959999999997,
          2023.149999999997,
          1679.1899999999969,
          2062.159999999997,
          2042.1599999999971,
          1962.1499999999971,
          2831.509999999997,
          2856.509999999997,
          2815.179999999997,
          2015.179999999997,
          2884.5399999999972,
          2864.079999999997,
          2430.639999999997,
          2813.609999999997,
          2763.5599999999968,
          2738.609999999997,
          3607.969999999997,
          3777.969999999997,
          3812.969999999997,
          3827.969999999997,
          2527.969999999997,
          3397.329999999997,
          3521.889999999997,
          2021.8899999999971,
          2041.8899999999971,
          2035.439999999997,
          2012.289999999997,
          2086.2899999999972,
          2111.7899999999972,
          2136.7899999999972,
          2137.7899999999972,
          1993.2299999999973,
          2709.7999999999975,
          2734.7999999999975,
          2634.7999999999975,
          2594.8499999999976,
          2094.8499999999976,
          1610.1499999999976,
          2479.5099999999975,
          2492.0099999999975,
          2448.1899999999973,
          2488.1899999999973,
          2500.6899999999973,
          2450.6899999999973,
          3002.7199999999975,
          3053.7199999999975,
          2553.7199999999975,
          2583.7299999999977,
          2608.7299999999977,
          2621.4799999999977,
          3490.839999999998,
          3520.839999999998,
          3525.839999999998,
          3388.319999999998,
          3435.069999999998,
          2435.069999999998,
          2455.069999999998,
          3324.429999999998,
          3383.929999999998,
          3388.929999999998,
          4258.289999999998,
          2758.289999999998,
          2698.4399999999982,
          2177.1499999999983,
          3046.5099999999984,
          3246.7999999999984,
          2246.7999999999984,
          2046.7999999999984,
          2770.329999999998,
          2349.869999999998,
          4549.869999999998,
          4522.059999999998,
          4502.769999999998,
          2280.149999999998,
          2300.149999999998,
          2285.149999999998,
          3008.6799999999976,
          2508.6799999999976,
          3394.7499999999977,
          2967.569999999998,
          7967.569999999998,
          6967.569999999998,
          6567.569999999998,
          1967.569999999998,
          2691.0999999999976,
          2191.0999999999976,
          2224.0999999999976,
          3110.169999999998,
          2110.169999999998,
          3116.089999999998,
          2616.089999999998,
          1616.0899999999979,
          2502.159999999998,
          2602.159999999998,
          2532.619999999998,
          2432.619999999998,
          2032.619999999998,
          1980.629999999998,
          2866.699999999998,
          2666.699999999998,
          2696.699999999998,
          2721.699999999998,
          2320.189999999998,
          3206.259999999998,
          2985.259999999998,
          7968.259999999998,
          2968.2599999999984,
          3691.789999999998,
          3745.789999999998,
          2245.789999999998,
          3131.8599999999983,
          3631.8599999999983,
          3553.849999999998,
          2921.4399999999982,
          1721.4399999999982,
          1744.8199999999983,
          1764.8199999999983,
          2650.8899999999985,
          3536.9599999999987,
          2536.9599999999987,
          2736.9599999999987,
          2322.9599999999987,
          1822.9599999999987,
          2709.029999999999,
          2522.449999999999,
          2222.449999999999,
          3108.519999999999,
          1608.519999999999,
          1708.519999999999,
          1630.889999999999,
          1546.579999999999,
          4841.119999999999,
          4810.229999999999,
          4414.219999999998,
          2914.2199999999984,
          2414.2199999999984,
          1914.2199999999984,
          2004.2199999999984,
          1904.2199999999984,
          5123.709999999998,
          5305.529999999998,
          5136.209999999998,
          5126.409999999998,
          2126.409999999998,
          5345.889999999998,
          2345.8899999999976,
          1879.4499999999975,
          1909.4499999999975,
          1959.4499999999975,
          1989.4499999999975,
          2079.4499999999975,
          5298.949999999997,
          4798.949999999997,
          3798.949999999997,
          3450.319999999997,
          3043.009999999997,
          3103.009999999997,
          7123.119999999997,
          7128.119999999997,
          3128.119999999997,
          2589.159999999997,
          6876.129999999997,
          6488.639999999998,
          2188.6399999999976,
          2228.6399999999976,
          2203.6999999999975,
          2086.0399999999977,
          5031.649999999998,
          2531.649999999998,
          2431.0599999999977,
          3431.0599999999977,
          3035.0499999999975,
          6035.049999999997,
          8035.049999999997,
          5927.179999999998,
          4874.279999999997,
          2970.3099999999968,
          5170.309999999997,
          3046.7799999999966,
          6366.3399999999965,
          5137.769999999997,
          3137.769999999997,
          3096.549999999997,
          2942.619999999997,
          2411.369999999997,
          5630.859999999997,
          2630.859999999997,
          6650.9699999999975,
          3150.9699999999975,
          2962.4499999999975,
          6181.929999999998,
          3181.9299999999976,
          6401.419999999997,
          3001.4199999999973,
          6220.909999999997,
          6320.909999999997,
          3320.909999999997,
          3024.219999999997,
          2716.689999999997,
          2611.0999999999967,
          5830.579999999996,
          2530.5799999999963,
          2523.049999999996,
          5742.549999999996,
          5689.299999999996,
          2189.2999999999956,
          4008.7399999999957,
          2008.7399999999957,
          1931.9299999999957,
          1928.0199999999957,
          15728.019999999995,
          19214.379999999994,
          19487.949999999993,
          19634.879999999994,
          6634.879999999994,
          2634.8799999999937,
          4117.4099999999935,
          2617.4099999999935,
          7317.4099999999935,
          7292.219999999994,
          7226.789999999994,
          10186.769999999993,
          5514.099999999993,
          2514.099999999993,
          2286.099999999993,
          5246.099999999993,
          2746.099999999993,
          2613.8999999999933,
          3213.8999999999933,
          5623.349999999993,
          2623.349999999993,
          5858.599999999993,
          5609.009999999993,
          3109.009999999993,
          3501.609999999993,
          3335.389999999993,
          3635.389999999993,
          9474.649999999994,
          3174.649999999994,
          6409.899999999994,
          3409.899999999994,
          2982.7399999999943
         ],
         "yaxis": "y"
        },
        {
         "name": "Marcus Savings",
         "type": "scatter",
         "x": [
          "2021-03-26",
          "2021-03-31",
          "2021-04-12",
          "2021-04-26",
          "2021-04-30",
          "2021-05-10",
          "2021-05-31",
          "2021-06-02",
          "2021-06-07",
          "2021-06-18",
          "2021-06-18",
          "2021-06-30",
          "2021-07-06",
          "2021-07-19",
          "2021-07-31",
          "2021-08-02",
          "2021-08-11",
          "2021-08-16",
          "2021-08-31",
          "2021-09-13",
          "2021-09-28",
          "2021-09-30",
          "2021-10-05",
          "2021-10-12",
          "2021-10-25",
          "2021-10-25",
          "2021-10-31",
          "2021-11-03",
          "2021-11-03",
          "2021-11-08",
          "2021-11-08",
          "2021-11-15",
          "2021-11-29",
          "2021-11-29",
          "2021-11-30",
          "2021-12-01",
          "2021-12-01",
          "2021-12-01",
          "2021-12-15",
          "2021-12-31",
          "2022-01-10",
          "2022-01-20",
          "2022-01-25",
          "2022-01-27",
          "2022-01-27",
          "2022-01-27",
          "2022-01-31",
          "2022-02-02",
          "2022-02-10",
          "2022-02-23",
          "2022-02-25",
          "2022-02-28",
          "2022-03-04",
          "2022-03-29",
          "2022-03-31",
          "2022-04-04",
          "2022-04-30",
          "2022-05-03",
          "2022-05-11",
          "2022-05-31",
          "2022-06-27",
          "2022-06-30",
          "2022-07-05",
          "2022-07-18",
          "2022-07-29",
          "2022-07-31",
          "2022-08-08",
          "2022-08-12",
          "2022-08-24",
          "2022-08-30",
          "2022-08-31",
          "2022-09-12",
          "2022-09-16",
          "2022-09-26",
          "2022-09-30",
          "2022-10-13",
          "2022-10-13",
          "2022-10-17",
          "2022-10-31",
          "2022-11-01",
          "2022-11-01",
          "2022-11-01",
          "2022-11-01",
          "2022-11-02",
          "2022-11-03",
          "2022-11-03",
          "2022-11-04",
          "2022-11-07",
          "2022-11-14",
          "2022-11-17",
          "2022-11-18",
          "2022-11-30",
          "2022-12-02",
          "2022-12-06",
          "2022-12-14",
          "2022-12-16",
          "2022-12-27",
          "2022-12-28",
          "2022-12-31",
          "2023-01-03",
          "2023-01-05",
          "2023-01-09",
          "2023-01-17",
          "2023-01-18",
          "2023-01-20",
          "2023-01-23",
          "2023-01-27",
          "2023-01-31",
          "2023-02-02",
          "2023-02-03",
          "2023-02-06",
          "2023-02-06",
          "2023-02-07",
          "2023-02-09",
          "2023-02-09",
          "2023-02-13",
          "2023-02-13",
          "2023-02-16",
          "2023-02-17",
          "2023-02-28",
          "2023-03-02",
          "2023-03-07",
          "2023-03-09",
          "2023-03-10",
          "2023-03-13",
          "2023-03-21",
          "2023-03-21",
          "2023-03-24",
          "2023-03-29",
          "2023-03-31",
          "2023-04-04",
          "2023-04-04",
          "2023-04-12",
          "2023-04-17",
          "2023-04-24",
          "2023-04-24",
          "2023-04-24",
          "2023-04-30",
          "2023-05-01",
          "2023-05-02",
          "2023-05-11",
          "2023-05-15",
          "2023-05-25",
          "2023-05-31",
          "2023-06-09",
          "2023-06-20",
          "2023-06-26",
          "2023-06-30",
          "2023-07-03",
          "2023-07-10",
          "2023-07-21",
          "2023-07-27",
          "2023-07-31",
          "2023-07-31",
          "2023-07-31",
          "2023-07-31",
          "2023-08-03",
          "2023-08-10",
          "2023-08-24",
          "2023-08-31",
          "2023-09-08",
          "2023-09-18",
          "2023-09-25",
          "2023-09-30",
          "2023-10-02",
          "2023-10-06",
          "2023-10-23",
          "2023-10-31",
          "2023-11-02",
          "2023-11-08",
          "2023-11-13",
          "2023-11-14",
          "2023-11-22",
          "2023-11-27",
          "2023-11-30",
          "2023-12-05",
          "2023-12-08",
          "2023-12-31",
          "2024-01-02",
          "2024-01-03",
          "2024-01-08",
          "2024-01-09",
          "2024-01-16",
          "2024-01-22",
          "2024-01-24",
          "2024-01-31",
          "2024-02-08",
          "2024-02-23",
          "2024-02-29",
          "2024-03-04",
          "2024-03-08",
          "2024-03-31",
          "2024-04-02",
          "2024-04-08",
          "2024-04-08",
          "2024-04-08",
          "2024-04-08",
          "2024-04-23",
          "2024-04-30",
          "2024-04-30"
         ],
         "xaxis": "x2",
         "y": [
          846.51,
          846.57,
          2284.15,
          3868.57,
          3869.4,
          5453.85,
          5455.97,
          5570.13,
          7009.72,
          11764.72,
          13204.3,
          13208.15,
          14208.15,
          15208.15,
          15214.28,
          16214.28,
          214.28,
          1214.28,
          1216.77,
          2216.77,
          3216.77,
          3217.55,
          1717.55,
          2717.55,
          3717.55,
          2217.55,
          3718.73,
          3218.73,
          3518.73,
          1218.73,
          2718.73,
          218.73,
          11718.73,
          1718.73,
          11719.53,
          6719.26,
          1719.53,
          1719.26,
          1719.26,
          1720.94,
          5920.94,
          1720.94,
          720.94,
          920.94,
          720.94,
          220.94,
          222.12,
          2222.12,
          222.12,
          1222.12,
          2222.12,
          2222.56,
          222.56,
          1222.56,
          1222.78,
          222.78,
          222.91,
          3222.91,
          0,
          0.43,
          5000.43,
          5000.98,
          1975.98,
          5475.98,
          7475.98,
          7480.36,
          7518.76,
          8518.76,
          9518.76,
          11518.76,
          11530.55,
          11030.55,
          10030.55,
          13030.55,
          13048.12,
          7048.12,
          12048.12,
          7848.12,
          7866.64,
          7866.64,
          7866.53,
          7866.24,
          7866.35,
          2866.64,
          7822.76,
          7922.76,
          1822.76,
          3122.76,
          4622.76,
          4767.32,
          4867.32,
          4877.32,
          5377.32,
          3377.32,
          4377.32,
          4373.32,
          5873.32,
          6523.32,
          6535.32,
          7535.32,
          7735.32,
          5535.32,
          6035.32,
          8038.85,
          9038.85,
          4038.85,
          4538.85,
          4555.9,
          4557.28,
          5557.28,
          7057.28,
          6057.28,
          6557.28,
          16557.3,
          6557.3,
          16657.3,
          17057.3,
          17058.3,
          17258.3,
          17306.12,
          22306.12,
          23806.12,
          13806.12,
          13306.12,
          14506.12,
          14606.12,
          19617.63,
          20617.63,
          20417.63,
          20490.17,
          24108.17,
          22608.17,
          24008.17,
          22968.17,
          26156.17,
          24656.17,
          25116.17,
          25208.34,
          25708.34,
          25808.34,
          28808.34,
          27758.34,
          30758.34,
          30858.38,
          31858.38,
          30778.38,
          34778.38,
          34885.04,
          24885.04,
          29185.04,
          31685.04,
          30685.04,
          11685.04,
          28685.04,
          25685.04,
          11784.31,
          9584.31,
          11584.31,
          14584.31,
          14626.87,
          18126.87,
          16826.87,
          19826.87,
          19887.76,
          18587.76,
          21987.76,
          24987.76,
          25069.65,
          23769.65,
          27069.65,
          27123.65,
          27173.65,
          30673.65,
          28673.65,
          28770.03,
          4770.03,
          6770.03,
          6804.76,
          19804.76,
          23804.76,
          25304.76,
          20604.76,
          6204.76,
          4904.76,
          7904.76,
          7956.04,
          10456.04,
          13456.04,
          13492.99,
          10492.99,
          12992.99,
          13040.49,
          14540.49,
          13940.49,
          20240.49,
          19940.49,
          16940.49,
          19940.49,
          30416.49,
          30478.36
         ],
         "yaxis": "y2"
        }
       ],
       "layout": {
        "template": {
         "data": {
          "bar": [
           {
            "error_x": {
             "color": "#2a3f5f"
            },
            "error_y": {
             "color": "#2a3f5f"
            },
            "marker": {
             "line": {
              "color": "#E5ECF6",
              "width": 0.5
             },
             "pattern": {
              "fillmode": "overlay",
              "size": 10,
              "solidity": 0.2
             }
            },
            "type": "bar"
           }
          ],
          "barpolar": [
           {
            "marker": {
             "line": {
              "color": "#E5ECF6",
              "width": 0.5
             },
             "pattern": {
              "fillmode": "overlay",
              "size": 10,
              "solidity": 0.2
             }
            },
            "type": "barpolar"
           }
          ],
          "carpet": [
           {
            "aaxis": {
             "endlinecolor": "#2a3f5f",
             "gridcolor": "white",
             "linecolor": "white",
             "minorgridcolor": "white",
             "startlinecolor": "#2a3f5f"
            },
            "baxis": {
             "endlinecolor": "#2a3f5f",
             "gridcolor": "white",
             "linecolor": "white",
             "minorgridcolor": "white",
             "startlinecolor": "#2a3f5f"
            },
            "type": "carpet"
           }
          ],
          "choropleth": [
           {
            "colorbar": {
             "outlinewidth": 0,
             "ticks": ""
            },
            "type": "choropleth"
           }
          ],
          "contour": [
           {
            "colorbar": {
             "outlinewidth": 0,
             "ticks": ""
            },
            "colorscale": [
             [
              0,
              "#0d0887"
             ],
             [
              0.1111111111111111,
              "#46039f"
             ],
             [
              0.2222222222222222,
              "#7201a8"
             ],
             [
              0.3333333333333333,
              "#9c179e"
             ],
             [
              0.4444444444444444,
              "#bd3786"
             ],
             [
              0.5555555555555556,
              "#d8576b"
             ],
             [
              0.6666666666666666,
              "#ed7953"
             ],
             [
              0.7777777777777778,
              "#fb9f3a"
             ],
             [
              0.8888888888888888,
              "#fdca26"
             ],
             [
              1,
              "#f0f921"
             ]
            ],
            "type": "contour"
           }
          ],
          "contourcarpet": [
           {
            "colorbar": {
             "outlinewidth": 0,
             "ticks": ""
            },
            "type": "contourcarpet"
           }
          ],
          "heatmap": [
           {
            "colorbar": {
             "outlinewidth": 0,
             "ticks": ""
            },
            "colorscale": [
             [
              0,
              "#0d0887"
             ],
             [
              0.1111111111111111,
              "#46039f"
             ],
             [
              0.2222222222222222,
              "#7201a8"
             ],
             [
              0.3333333333333333,
              "#9c179e"
             ],
             [
              0.4444444444444444,
              "#bd3786"
             ],
             [
              0.5555555555555556,
              "#d8576b"
             ],
             [
              0.6666666666666666,
              "#ed7953"
             ],
             [
              0.7777777777777778,
              "#fb9f3a"
             ],
             [
              0.8888888888888888,
              "#fdca26"
             ],
             [
              1,
              "#f0f921"
             ]
            ],
            "type": "heatmap"
           }
          ],
          "heatmapgl": [
           {
            "colorbar": {
             "outlinewidth": 0,
             "ticks": ""
            },
            "colorscale": [
             [
              0,
              "#0d0887"
             ],
             [
              0.1111111111111111,
              "#46039f"
             ],
             [
              0.2222222222222222,
              "#7201a8"
             ],
             [
              0.3333333333333333,
              "#9c179e"
             ],
             [
              0.4444444444444444,
              "#bd3786"
             ],
             [
              0.5555555555555556,
              "#d8576b"
             ],
             [
              0.6666666666666666,
              "#ed7953"
             ],
             [
              0.7777777777777778,
              "#fb9f3a"
             ],
             [
              0.8888888888888888,
              "#fdca26"
             ],
             [
              1,
              "#f0f921"
             ]
            ],
            "type": "heatmapgl"
           }
          ],
          "histogram": [
           {
            "marker": {
             "pattern": {
              "fillmode": "overlay",
              "size": 10,
              "solidity": 0.2
             }
            },
            "type": "histogram"
           }
          ],
          "histogram2d": [
           {
            "colorbar": {
             "outlinewidth": 0,
             "ticks": ""
            },
            "colorscale": [
             [
              0,
              "#0d0887"
             ],
             [
              0.1111111111111111,
              "#46039f"
             ],
             [
              0.2222222222222222,
              "#7201a8"
             ],
             [
              0.3333333333333333,
              "#9c179e"
             ],
             [
              0.4444444444444444,
              "#bd3786"
             ],
             [
              0.5555555555555556,
              "#d8576b"
             ],
             [
              0.6666666666666666,
              "#ed7953"
             ],
             [
              0.7777777777777778,
              "#fb9f3a"
             ],
             [
              0.8888888888888888,
              "#fdca26"
             ],
             [
              1,
              "#f0f921"
             ]
            ],
            "type": "histogram2d"
           }
          ],
          "histogram2dcontour": [
           {
            "colorbar": {
             "outlinewidth": 0,
             "ticks": ""
            },
            "colorscale": [
             [
              0,
              "#0d0887"
             ],
             [
              0.1111111111111111,
              "#46039f"
             ],
             [
              0.2222222222222222,
              "#7201a8"
             ],
             [
              0.3333333333333333,
              "#9c179e"
             ],
             [
              0.4444444444444444,
              "#bd3786"
             ],
             [
              0.5555555555555556,
              "#d8576b"
             ],
             [
              0.6666666666666666,
              "#ed7953"
             ],
             [
              0.7777777777777778,
              "#fb9f3a"
             ],
             [
              0.8888888888888888,
              "#fdca26"
             ],
             [
              1,
              "#f0f921"
             ]
            ],
            "type": "histogram2dcontour"
           }
          ],
          "mesh3d": [
           {
            "colorbar": {
             "outlinewidth": 0,
             "ticks": ""
            },
            "type": "mesh3d"
           }
          ],
          "parcoords": [
           {
            "line": {
             "colorbar": {
              "outlinewidth": 0,
              "ticks": ""
             }
            },
            "type": "parcoords"
           }
          ],
          "pie": [
           {
            "automargin": true,
            "type": "pie"
           }
          ],
          "scatter": [
           {
            "fillpattern": {
             "fillmode": "overlay",
             "size": 10,
             "solidity": 0.2
            },
            "type": "scatter"
           }
          ],
          "scatter3d": [
           {
            "line": {
             "colorbar": {
              "outlinewidth": 0,
              "ticks": ""
             }
            },
            "marker": {
             "colorbar": {
              "outlinewidth": 0,
              "ticks": ""
             }
            },
            "type": "scatter3d"
           }
          ],
          "scattercarpet": [
           {
            "marker": {
             "colorbar": {
              "outlinewidth": 0,
              "ticks": ""
             }
            },
            "type": "scattercarpet"
           }
          ],
          "scattergeo": [
           {
            "marker": {
             "colorbar": {
              "outlinewidth": 0,
              "ticks": ""
             }
            },
            "type": "scattergeo"
           }
          ],
          "scattergl": [
           {
            "marker": {
             "colorbar": {
              "outlinewidth": 0,
              "ticks": ""
             }
            },
            "type": "scattergl"
           }
          ],
          "scattermapbox": [
           {
            "marker": {
             "colorbar": {
              "outlinewidth": 0,
              "ticks": ""
             }
            },
            "type": "scattermapbox"
           }
          ],
          "scatterpolar": [
           {
            "marker": {
             "colorbar": {
              "outlinewidth": 0,
              "ticks": ""
             }
            },
            "type": "scatterpolar"
           }
          ],
          "scatterpolargl": [
           {
            "marker": {
             "colorbar": {
              "outlinewidth": 0,
              "ticks": ""
             }
            },
            "type": "scatterpolargl"
           }
          ],
          "scatterternary": [
           {
            "marker": {
             "colorbar": {
              "outlinewidth": 0,
              "ticks": ""
             }
            },
            "type": "scatterternary"
           }
          ],
          "surface": [
           {
            "colorbar": {
             "outlinewidth": 0,
             "ticks": ""
            },
            "colorscale": [
             [
              0,
              "#0d0887"
             ],
             [
              0.1111111111111111,
              "#46039f"
             ],
             [
              0.2222222222222222,
              "#7201a8"
             ],
             [
              0.3333333333333333,
              "#9c179e"
             ],
             [
              0.4444444444444444,
              "#bd3786"
             ],
             [
              0.5555555555555556,
              "#d8576b"
             ],
             [
              0.6666666666666666,
              "#ed7953"
             ],
             [
              0.7777777777777778,
              "#fb9f3a"
             ],
             [
              0.8888888888888888,
              "#fdca26"
             ],
             [
              1,
              "#f0f921"
             ]
            ],
            "type": "surface"
           }
          ],
          "table": [
           {
            "cells": {
             "fill": {
              "color": "#EBF0F8"
             },
             "line": {
              "color": "white"
             }
            },
            "header": {
             "fill": {
              "color": "#C8D4E3"
             },
             "line": {
              "color": "white"
             }
            },
            "type": "table"
           }
          ]
         },
         "layout": {
          "annotationdefaults": {
           "arrowcolor": "#2a3f5f",
           "arrowhead": 0,
           "arrowwidth": 1
          },
          "autotypenumbers": "strict",
          "coloraxis": {
           "colorbar": {
            "outlinewidth": 0,
            "ticks": ""
           }
          },
          "colorscale": {
           "diverging": [
            [
             0,
             "#8e0152"
            ],
            [
             0.1,
             "#c51b7d"
            ],
            [
             0.2,
             "#de77ae"
            ],
            [
             0.3,
             "#f1b6da"
            ],
            [
             0.4,
             "#fde0ef"
            ],
            [
             0.5,
             "#f7f7f7"
            ],
            [
             0.6,
             "#e6f5d0"
            ],
            [
             0.7,
             "#b8e186"
            ],
            [
             0.8,
             "#7fbc41"
            ],
            [
             0.9,
             "#4d9221"
            ],
            [
             1,
             "#276419"
            ]
           ],
           "sequential": [
            [
             0,
             "#0d0887"
            ],
            [
             0.1111111111111111,
             "#46039f"
            ],
            [
             0.2222222222222222,
             "#7201a8"
            ],
            [
             0.3333333333333333,
             "#9c179e"
            ],
            [
             0.4444444444444444,
             "#bd3786"
            ],
            [
             0.5555555555555556,
             "#d8576b"
            ],
            [
             0.6666666666666666,
             "#ed7953"
            ],
            [
             0.7777777777777778,
             "#fb9f3a"
            ],
            [
             0.8888888888888888,
             "#fdca26"
            ],
            [
             1,
             "#f0f921"
            ]
           ],
           "sequentialminus": [
            [
             0,
             "#0d0887"
            ],
            [
             0.1111111111111111,
             "#46039f"
            ],
            [
             0.2222222222222222,
             "#7201a8"
            ],
            [
             0.3333333333333333,
             "#9c179e"
            ],
            [
             0.4444444444444444,
             "#bd3786"
            ],
            [
             0.5555555555555556,
             "#d8576b"
            ],
            [
             0.6666666666666666,
             "#ed7953"
            ],
            [
             0.7777777777777778,
             "#fb9f3a"
            ],
            [
             0.8888888888888888,
             "#fdca26"
            ],
            [
             1,
             "#f0f921"
            ]
           ]
          },
          "colorway": [
           "#636efa",
           "#EF553B",
           "#00cc96",
           "#ab63fa",
           "#FFA15A",
           "#19d3f3",
           "#FF6692",
           "#B6E880",
           "#FF97FF",
           "#FECB52"
          ],
          "font": {
           "color": "#2a3f5f"
          },
          "geo": {
           "bgcolor": "white",
           "lakecolor": "white",
           "landcolor": "#E5ECF6",
           "showlakes": true,
           "showland": true,
           "subunitcolor": "white"
          },
          "hoverlabel": {
           "align": "left"
          },
          "hovermode": "closest",
          "mapbox": {
           "style": "light"
          },
          "paper_bgcolor": "white",
          "plot_bgcolor": "#E5ECF6",
          "polar": {
           "angularaxis": {
            "gridcolor": "white",
            "linecolor": "white",
            "ticks": ""
           },
           "bgcolor": "#E5ECF6",
           "radialaxis": {
            "gridcolor": "white",
            "linecolor": "white",
            "ticks": ""
           }
          },
          "scene": {
           "xaxis": {
            "backgroundcolor": "#E5ECF6",
            "gridcolor": "white",
            "gridwidth": 2,
            "linecolor": "white",
            "showbackground": true,
            "ticks": "",
            "zerolinecolor": "white"
           },
           "yaxis": {
            "backgroundcolor": "#E5ECF6",
            "gridcolor": "white",
            "gridwidth": 2,
            "linecolor": "white",
            "showbackground": true,
            "ticks": "",
            "zerolinecolor": "white"
           },
           "zaxis": {
            "backgroundcolor": "#E5ECF6",
            "gridcolor": "white",
            "gridwidth": 2,
            "linecolor": "white",
            "showbackground": true,
            "ticks": "",
            "zerolinecolor": "white"
           }
          },
          "shapedefaults": {
           "line": {
            "color": "#2a3f5f"
           }
          },
          "ternary": {
           "aaxis": {
            "gridcolor": "white",
            "linecolor": "white",
            "ticks": ""
           },
           "baxis": {
            "gridcolor": "white",
            "linecolor": "white",
            "ticks": ""
           },
           "bgcolor": "#E5ECF6",
           "caxis": {
            "gridcolor": "white",
            "linecolor": "white",
            "ticks": ""
           }
          },
          "title": {
           "x": 0.05
          },
          "xaxis": {
           "automargin": true,
           "gridcolor": "white",
           "linecolor": "white",
           "ticks": "",
           "title": {
            "standoff": 15
           },
           "zerolinecolor": "white",
           "zerolinewidth": 2
          },
          "yaxis": {
           "automargin": true,
           "gridcolor": "white",
           "linecolor": "white",
           "ticks": "",
           "title": {
            "standoff": 15
           },
           "zerolinecolor": "white",
           "zerolinewidth": 2
          }
         }
        },
        "xaxis": {
         "anchor": "y",
         "domain": [
          0,
          0.45
         ]
        },
        "xaxis2": {
         "anchor": "y2",
         "domain": [
          0.55,
          1
         ]
        },
        "yaxis": {
         "anchor": "x",
         "domain": [
          0,
          1
         ]
        },
        "yaxis2": {
         "anchor": "x2",
         "domain": [
          0,
          1
         ]
        }
       }
      }
     },
     "metadata": {},
     "output_type": "display_data"
    }
   ],
   "source": [
    "fig = make_subplots(rows=1, cols=2)\n",
    "\n",
    "fig.add_trace(\n",
    "    go.Scatter(\n",
    "        name='East West Bank Checking',\n",
    "        x=east_west_bank_bank_statements_categorized_worksheet_df['transaction_date'].values.tolist(),\n",
    "        y=east_west_bank_bank_statements_categorized_worksheet_df['balance'].values.tolist()\n",
    "    ),\n",
    "    row=1, col=1\n",
    ")\n",
    "\n",
    "fig.add_trace(\n",
    "    go.Scatter(\n",
    "        name='Marcus Savings',\n",
    "        x=marcus_worksheet_df['transaction_date'].values.tolist(),\n",
    "        y=marcus_worksheet_df['float_balance'].values.tolist()\n",
    "    ),\n",
    "    row=1, col=2\n",
    ")\n",
    "\n",
    "fig.show()\n",
    "\n",
    "# fig.add_trace(\n",
    "#     go.Scatter(\n",
    "#         name='Robinhood Brokerage',\n",
    "#         x=robinhood_brokerage_worksheet_df['Activity Date'].values.tolist(),\n",
    "#         y=robinhood_brokerage_worksheet_df['Portfolio Value'].values.tolist()\n",
    "#     ),\n",
    "#     row=1, col=1\n",
    "# )"
   ]
  },
  {
   "cell_type": "code",
   "execution_count": null,
   "metadata": {},
   "outputs": [],
   "source": []
  },
  {
   "cell_type": "code",
   "execution_count": 29,
   "metadata": {},
   "outputs": [],
   "source": [
    "assets = pd.DataFrame({\n",
    "    'East West Bank': [east_west_bank_balance],\n",
    "    'Marcus': [marcus_balance],\n",
    "    'Robinhood Brokerage': [robinhood_brokerage_portfolio_value],\n",
    "    'Robinhood Traditional IRA': [robinhood_traditional_ira_worksheet_value]\n",
    "}).T\n",
    "assets.reset_index(inplace=True)"
   ]
  },
  {
   "cell_type": "code",
   "execution_count": 30,
   "metadata": {},
   "outputs": [],
   "source": [
    "assets.columns = ['Source', 'Value']"
   ]
  },
  {
   "cell_type": "code",
   "execution_count": 33,
   "metadata": {},
   "outputs": [],
   "source": [
    "# fig = px.pie(assets, values='Value', names='Source', title='Pie Chart of Assets')\n",
    "# fig.show()"
   ]
  },
  {
   "cell_type": "code",
   "execution_count": 62,
   "metadata": {},
   "outputs": [],
   "source": [
    "total_assets = round(\n",
    "    east_west_bank_balance + \n",
    "    marcus_balance + \n",
    "    robinhood_brokerage_portfolio_value + \n",
    "    robinhood_traditional_ira_worksheet_value,\n",
    "    2\n",
    ")\n",
    "\n",
    "total_liabilities = round(\n",
    "    east_west_bank_credit_card_balance + \n",
    "    discover_credit_card_balance,\n",
    "    2\n",
    ")\n",
    "\n",
    "net_worth = round(total_assets + total_liabilities, 2)"
   ]
  },
  {
   "cell_type": "code",
   "execution_count": 85,
   "metadata": {},
   "outputs": [],
   "source": [
    "net_worth_df = pd.DataFrame({\n",
    "    'update_date': ['05/27/2024'],\n",
    "    'total_assets': [total_assets],\n",
    "    'total_liabilities': [total_liabilities],\n",
    "    'net_worth': [net_worth],\n",
    "})\n",
    "net_worth_df['latest_net_worth'] = net_worth_df \\\n",
    "    .sort_values(by='update_date', ascending=True).tail(1)['net_worth'].values[0]"
   ]
  },
  {
   "cell_type": "code",
   "execution_count": 86,
   "metadata": {},
   "outputs": [
    {
     "data": {
      "text/plain": [
       "{'spreadsheetId': '1CAyyf2kr-pS7LNX1a_0ithw6niL3Js3K4ZEOlwDViZY',\n",
       " 'replies': [{}]}"
      ]
     },
     "execution_count": 86,
     "metadata": {},
     "output_type": "execute_result"
    }
   ],
   "source": [
    "net_worth_worksheet = finance_tracker_db_spreadsheet.worksheet(\n",
    "    'net_worth'\n",
    ")\n",
    "net_worth_worksheet.update(\n",
    "    [net_worth_df.columns.values.tolist()] + \\\n",
    "    net_worth_df.values.tolist()\n",
    ")\n",
    "net_worth_worksheet.format(\"A:A\", {\"numberFormat\": {\"type\": \"DATE_TIME\"}})\n",
    "net_worth_worksheet.format(\"B:E\", {\"numberFormat\": {\"type\": \"CURRENCY\"}})"
   ]
  },
  {
   "cell_type": "code",
   "execution_count": 74,
   "metadata": {},
   "outputs": [],
   "source": [
    "# finance_tracker_db_spreadsheet = gc.open_by_key(SPREADSHEET_KEY)\n",
    "# east_west_bank_worksheet = finance_tracker_db_spreadsheet.worksheet('east_west_bank_bank_statements')\n",
    "# east_west_bank_worksheet.update([total_transactions_df.columns.values.tolist()] + total_transactions_df.values.tolist())"
   ]
  },
  {
   "cell_type": "code",
   "execution_count": null,
   "metadata": {},
   "outputs": [],
   "source": [
    "# gc = gspread.service_account()\n",
    "# finance_tracker_db_spreadsheet = gc.open_by_key(SPREADSHEET_KEY)\n",
    "# east_west_bank_worksheet = finance_tracker_db_spreadsheet.worksheet('east_west_bank_bank_statements')\n",
    "# east_west_bank_worksheet.update([total_transactions_df.columns.values.tolist()] + total_transactions_df.values.tolist())\n",
    "# east_west_bank_worksheet.format(\"C:C\", {\"numberFormat\": {\"type\": \"CURRENCY\"}})\n",
    "# east_west_bank_worksheet.format(\"A\", {\"numberFormat\": {\"type\": \"DATE_TIME\"}})"
   ]
  },
  {
   "cell_type": "code",
   "execution_count": 7,
   "metadata": {},
   "outputs": [],
   "source": [
    "# gc = gspread.service_account()\n",
    "# finance_tracker_db_spreadsheet = gc.open_by_key(SPREADSHEET_KEY)\n",
    "# marcus_worksheet = finance_tracker_db_spreadsheet.worksheet('marcus_bank_statements')\n",
    "# marcus_worksheet.update([transactions_df.columns.values.tolist()] + transactions_df.values.tolist())\n",
    "# marcus_worksheet.format(\"C:D\", {\"numberFormat\": {\"type\": \"CURRENCY\"}})"
   ]
  },
  {
   "cell_type": "code",
   "execution_count": 8,
   "metadata": {},
   "outputs": [],
   "source": [
    "# gc = gspread.service_account()\n",
    "# finance_tracker_db_spreadsheet = gc.open_by_key(SPREADSHEET_KEY)\n",
    "# east_west_bank_credit_card_statements_worksheet = finance_tracker_db_spreadsheet.worksheet('east_west_bank_credit_card_statements')\n",
    "# east_west_bank_credit_card_statements_worksheet.update([total_transactions_df.columns.values.tolist()] + total_transactions_df.values.tolist())\n",
    "# east_west_bank_credit_card_statements_worksheet.format(\"D:D\", {\"numberFormat\": {\"type\": \"CURRENCY\"}})\n",
    "# east_west_bank_credit_card_statements_worksheet.format(\"A:B\", {\"numberFormat\": {\"type\": \"DATE_TIME\"}})"
   ]
  },
  {
   "cell_type": "code",
   "execution_count": 9,
   "metadata": {},
   "outputs": [],
   "source": [
    "# gc = gspread.service_account()\n",
    "# finance_tracker_db_spreadsheet = gc.open_by_key(SPREADSHEET_KEY)\n",
    "# east_west_bank_credit_card_statements_worksheet = finance_tracker_db_spreadsheet.worksheet('discover_credit_card_statements')\n",
    "# east_west_bank_credit_card_statements_worksheet.update([df.columns.values.tolist()] + df.values.tolist())\n",
    "# east_west_bank_credit_card_statements_worksheet.format(\"D:D\", {\"numberFormat\": {\"type\": \"CURRENCY\"}})\n",
    "# east_west_bank_credit_card_statements_worksheet.format(\"A:B\", {\"numberFormat\": {\"type\": \"DATE_TIME\"}})"
   ]
  },
  {
   "cell_type": "code",
   "execution_count": 4,
   "metadata": {},
   "outputs": [
    {
     "data": {
      "text/plain": [
       "94663.51000000001"
      ]
     },
     "execution_count": 4,
     "metadata": {},
     "output_type": "execute_result"
    }
   ],
   "source": [
    "523.49+30478.36+45198+18463.66\n",
    "# 523.49+45198+18463.66\n",
    "# 523.49+30478.36+18463.66"
   ]
  }
 ],
 "metadata": {
  "kernelspec": {
   "display_name": "finance_tracker_app",
   "language": "python",
   "name": "python3"
  },
  "language_info": {
   "codemirror_mode": {
    "name": "ipython",
    "version": 3
   },
   "file_extension": ".py",
   "mimetype": "text/x-python",
   "name": "python",
   "nbconvert_exporter": "python",
   "pygments_lexer": "ipython3",
   "version": "3.11.9"
  }
 },
 "nbformat": 4,
 "nbformat_minor": 2
}
