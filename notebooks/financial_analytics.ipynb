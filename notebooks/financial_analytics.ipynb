{
 "cells": [
  {
   "cell_type": "code",
   "execution_count": 1,
   "metadata": {},
   "outputs": [],
   "source": [
    "import os\n",
    "import pandas as pd\n",
    "import gspread\n",
    "import plotly.express as px\n",
    "\n",
    "SPREADSHEET_KEY=os.environ['SPREADSHEET_KEY']\n",
    "EAST_WEST_BANK_BANK_STATEMENTS_WORKSHEET_NAME='east_west_bank_bank_statements'\n",
    "EAST_WEST_BANK_BANK_STATEMENTS_CATEGORIZED_WORKSHEET_NAME='east_west_bank_bank_statements_categorized'"
   ]
  },
  {
   "cell_type": "code",
   "execution_count": 2,
   "metadata": {},
   "outputs": [],
   "source": [
    "gc = gspread.service_account()\n",
    "finance_tracker_db_spreadsheet = gc.open_by_key(SPREADSHEET_KEY)"
   ]
  },
  {
   "cell_type": "code",
   "execution_count": 3,
   "metadata": {},
   "outputs": [],
   "source": [
    "east_west_bank_bank_statements_worksheet = finance_tracker_db_spreadsheet.worksheet(EAST_WEST_BANK_BANK_STATEMENTS_WORKSHEET_NAME)\n",
    "east_west_bank_bank_statements_df = pd.DataFrame(east_west_bank_bank_statements_worksheet.get_all_records())"
   ]
  },
  {
   "cell_type": "code",
   "execution_count": 4,
   "metadata": {},
   "outputs": [],
   "source": [
    "description_category_mapping = {\n",
    "    'Deposit': 'Deposit',\n",
    "    'Mobile Check DE': 'Deposit',\n",
    "    'ARTECH LLC DIR DEP': 'Paycheck',\n",
    "    'INSYNC STAFFING': 'Paycheck',\n",
    "    'CPRIME INC DIRECT DEP': 'Paycheck',\n",
    "    'CARDMEMBER SERV WEB PYMT': 'CC Payment',\n",
    "    'DISCOVER E-PAYMENT': 'CC Payment',\n",
    "    'VENMO': 'Venmo',\n",
    "    'ZELLE': 'Zelle',\n",
    "    'PAYPAL': 'PayPal',\n",
    "    'ROBINHOOD': 'Robinhood',\n",
    "    'GOLDMAN SACHS': 'Marcus',\n",
    "    'Goldman Sachs': 'Marcus',\n",
    "    'WYZANT ACH ACH ITEMS': 'Tutoring',\n",
    "    'JHULIVE': 'Tuition',\n",
    "    'JHU REFUND': 'Tuition',\n",
    "    'IRS TREAS': 'IRS',\n",
    "    'ST OF CA DMV': 'DMV',\n",
    "    'Trade App': 'Financial',\n",
    "    'AMERITRADE': 'Financial',\n",
    "    'FID BKG SVC LLC': 'Financial',\n",
    "    'Public.com': 'Financial',\n",
    "    'TASTYWORKS': 'Financial',\n",
    "    'FIRSTRADE': 'Financial',\n",
    "    'WEBULL': 'Financial',\n",
    "    'IG US LLC': 'Financial',\n",
    "    'OANDA': 'Financial',\n",
    "    'Trading.com': 'Financial',\n",
    "    'Apple Cash': 'Financial',\n",
    "    '99 RANCH MARKET': 'Grocery',\n",
    "    'COSTCO': 'Grocery',\n",
    "}\n",
    "for k, v in description_category_mapping.items():\n",
    "    east_west_bank_bank_statements_df.loc[\n",
    "        east_west_bank_bank_statements_df['description'].str.contains(k),\n",
    "        'category'\n",
    "    ] = v\n",
    "east_west_bank_bank_statements_df.loc[\n",
    "    east_west_bank_bank_statements_df['category'].isna(),\n",
    "    'category'\n",
    "] = 'Other'\n",
    "\n",
    "east_west_bank_bank_statements_df['amount'] = east_west_bank_bank_statements_df['amount'].apply(\n",
    "    lambda x: float(x.replace('$', '').replace(',', ''))\n",
    ")"
   ]
  },
  {
   "cell_type": "code",
   "execution_count": 5,
   "metadata": {},
   "outputs": [
    {
     "data": {
      "text/plain": [
       "{'spreadsheetId': '1CAyyf2kr-pS7LNX1a_0ithw6niL3Js3K4ZEOlwDViZY',\n",
       " 'replies': [{}]}"
      ]
     },
     "execution_count": 5,
     "metadata": {},
     "output_type": "execute_result"
    }
   ],
   "source": [
    "east_west_bank_bank_statements_categorized_worksheet = finance_tracker_db_spreadsheet.worksheet(\n",
    "    EAST_WEST_BANK_BANK_STATEMENTS_CATEGORIZED_WORKSHEET_NAME\n",
    ")\n",
    "east_west_bank_bank_statements_categorized_worksheet.update(\n",
    "    [east_west_bank_bank_statements_df.columns.values.tolist()] + \\\n",
    "    east_west_bank_bank_statements_df.values.tolist()\n",
    ")\n",
    "east_west_bank_bank_statements_categorized_worksheet.format(\"C:C\", {\"numberFormat\": {\"type\": \"CURRENCY\"}})\n",
    "east_west_bank_bank_statements_categorized_worksheet.format(\"A:A\", {\"numberFormat\": {\"type\": \"DATE_TIME\"}})"
   ]
  },
  {
   "cell_type": "code",
   "execution_count": 43,
   "metadata": {},
   "outputs": [],
   "source": [
    "pd.set_option('display.max_rows', 1000)"
   ]
  },
  {
   "cell_type": "code",
   "execution_count": 6,
   "metadata": {},
   "outputs": [],
   "source": [
    "east_west_bank_bank_statements_categorized_worksheet = finance_tracker_db_spreadsheet.worksheet(EAST_WEST_BANK_BANK_STATEMENTS_CATEGORIZED_WORKSHEET_NAME)\n",
    "east_west_bank_bank_statements_categorized_worksheet_df = pd.DataFrame(east_west_bank_bank_statements_categorized_worksheet.get_all_records())\n",
    "\n",
    "marcus_worksheet = finance_tracker_db_spreadsheet.worksheet('marcus_bank_statements')\n",
    "marcus_worksheet_df = pd.DataFrame(marcus_worksheet.get_all_records())\n",
    "\n",
    "discover_credit_card_statements_worksheet = finance_tracker_db_spreadsheet.worksheet('discover_credit_card_statements')\n",
    "discover_credit_card_statements_worksheet_df = pd.DataFrame(discover_credit_card_statements_worksheet.get_all_records())\n",
    "\n",
    "robinhood_brokerage_worksheet = finance_tracker_db_spreadsheet.worksheet('robinhood_brokerage_modified')\n",
    "robinhood_brokerage_worksheet_df = pd.DataFrame(robinhood_brokerage_worksheet.get_all_records())\n",
    "\n",
    "robinhood_traditional_ira_worksheet = finance_tracker_db_spreadsheet.worksheet('robinhood_traditional_ira_modified')\n",
    "robinhood_traditional_ira_worksheet_df = pd.DataFrame(robinhood_traditional_ira_worksheet.get_all_records())\n",
    "\n",
    "east_west_bank_credit_card_statements_worksheet = finance_tracker_db_spreadsheet.worksheet('east_west_bank_credit_card_statements')\n",
    "east_west_bank_credit_card_statements_worksheet_df = pd.DataFrame(east_west_bank_credit_card_statements_worksheet.get_all_records())"
   ]
  },
  {
   "cell_type": "code",
   "execution_count": 7,
   "metadata": {},
   "outputs": [],
   "source": [
    "east_west_bank_credit_card_statements_worksheet_df['float_amount'] = east_west_bank_credit_card_statements_worksheet_df['amount'] \\\n",
    "    .apply(lambda x: float(x.replace('$', '').replace(',', '')))"
   ]
  },
  {
   "cell_type": "code",
   "execution_count": 8,
   "metadata": {},
   "outputs": [],
   "source": [
    "net_worth_worksheet = finance_tracker_db_spreadsheet.worksheet('net_worth')\n",
    "net_worth_worksheet_df = pd.DataFrame(net_worth_worksheet.get_all_records())"
   ]
  },
  {
   "cell_type": "code",
   "execution_count": 9,
   "metadata": {},
   "outputs": [
    {
     "data": {
      "text/html": [
       "<div>\n",
       "<style scoped>\n",
       "    .dataframe tbody tr th:only-of-type {\n",
       "        vertical-align: middle;\n",
       "    }\n",
       "\n",
       "    .dataframe tbody tr th {\n",
       "        vertical-align: top;\n",
       "    }\n",
       "\n",
       "    .dataframe thead th {\n",
       "        text-align: right;\n",
       "    }\n",
       "</style>\n",
       "<table border=\"1\" class=\"dataframe\">\n",
       "  <thead>\n",
       "    <tr style=\"text-align: right;\">\n",
       "      <th></th>\n",
       "      <th>update_date</th>\n",
       "      <th>total_assets</th>\n",
       "      <th>total_liabilities</th>\n",
       "      <th>net_worth</th>\n",
       "      <th>latest_net_worth</th>\n",
       "    </tr>\n",
       "  </thead>\n",
       "  <tbody>\n",
       "    <tr>\n",
       "      <th>0</th>\n",
       "      <td>05/27/2024</td>\n",
       "      <td>$97,122.76</td>\n",
       "      <td>-$2,212.59</td>\n",
       "      <td>$94,910.17</td>\n",
       "      <td>$94,910.17</td>\n",
       "    </tr>\n",
       "  </tbody>\n",
       "</table>\n",
       "</div>"
      ],
      "text/plain": [
       "  update_date total_assets total_liabilities   net_worth latest_net_worth\n",
       "0  05/27/2024   $97,122.76        -$2,212.59  $94,910.17       $94,910.17"
      ]
     },
     "execution_count": 9,
     "metadata": {},
     "output_type": "execute_result"
    }
   ],
   "source": [
    "net_worth_worksheet_df"
   ]
  },
  {
   "cell_type": "code",
   "execution_count": 90,
   "metadata": {},
   "outputs": [
    {
     "data": {
      "text/plain": [
       "0    $94,663.51\n",
       "Name: total_assets, dtype: object"
      ]
     },
     "execution_count": 90,
     "metadata": {},
     "output_type": "execute_result"
    }
   ],
   "source": [
    "net_worth_worksheet_df.tail(1)['total_assets'].values[0]\n",
    "net_worth_worksheet_df.tail(1)['total_liabilities'].values[0]\n",
    "net_worth_worksheet_df.tail(1)['net_worth'].values[0]"
   ]
  },
  {
   "cell_type": "code",
   "execution_count": 108,
   "metadata": {},
   "outputs": [
    {
     "data": {
      "text/plain": [
       "99335.35"
      ]
     },
     "execution_count": 108,
     "metadata": {},
     "output_type": "execute_result"
    }
   ],
   "source": [
    "2982.74+30478.36+45198.00+18463.66+2212.59"
   ]
  },
  {
   "cell_type": "code",
   "execution_count": 10,
   "metadata": {},
   "outputs": [],
   "source": [
    "east_west_bank_balance = round(east_west_bank_bank_statements_categorized_worksheet_df.loc[\n",
    "    ~east_west_bank_bank_statements_categorized_worksheet_df['amount'].isna()\n",
    "]['amount'].apply(lambda x: float(x.replace('$', '').replace(',', ''))).sum(), 2)\n",
    "\n",
    "marcus_balance = round(float(marcus_worksheet_df['balance'].tail(1).values[0].replace('$', '').replace(',', '')), 2)\n",
    "\n",
    "robinhood_brokerage_portfolio_value = robinhood_brokerage_worksheet_df['Latest Portfolio Value'].tail(1).values[0]\n",
    "\n",
    "robinhood_traditional_ira_worksheet_value = robinhood_traditional_ira_worksheet_df['Latest Portfolio Value'].tail(1).values[0]\n",
    "\n",
    "east_west_bank_credit_card_balance = round(east_west_bank_credit_card_statements_worksheet_df.loc[\n",
    "    ~east_west_bank_credit_card_statements_worksheet_df['amount'].isna()\n",
    "]['amount'].apply(lambda x: float(x.replace('$', '').replace(',', ''))).sum(), 2)\n",
    "\n",
    "discover_credit_card_balance = round(discover_credit_card_statements_worksheet_df.loc[\n",
    "    ~discover_credit_card_statements_worksheet_df['Amount'].isna()\n",
    "]['Amount'].apply(lambda x: float(x.replace('$', '').replace(',', ''))).sum(), 2)"
   ]
  },
  {
   "cell_type": "code",
   "execution_count": 110,
   "metadata": {},
   "outputs": [
    {
     "data": {
      "text/plain": [
       "0"
      ]
     },
     "execution_count": 110,
     "metadata": {},
     "output_type": "execute_result"
    }
   ],
   "source": [
    "sum(east_west_bank_credit_card_statements_worksheet_df['float_amount'].isna())"
   ]
  },
  {
   "cell_type": "code",
   "execution_count": 112,
   "metadata": {},
   "outputs": [],
   "source": [
    "from datetime import datetime"
   ]
  },
  {
   "cell_type": "code",
   "execution_count": 120,
   "metadata": {},
   "outputs": [],
   "source": [
    "east_west_bank_bank_statements_categorized_worksheet = finance_tracker_db_spreadsheet.worksheet(EAST_WEST_BANK_BANK_STATEMENTS_CATEGORIZED_WORKSHEET_NAME)\n",
    "east_west_bank_bank_statements_categorized_worksheet_df = pd.DataFrame(east_west_bank_bank_statements_categorized_worksheet.get_all_records())\n",
    "\n",
    "# # st.title('East West Bank Checking')\n",
    "# todays_date = datetime.now()\n",
    "# # date_range = st.date_input('Select Date Range', value=(datetime(todays_date.year, 1, 1), todays_date))\n",
    "# start, end = datetime(todays_date.year, 1, 1), todays_date"
   ]
  },
  {
   "cell_type": "code",
   "execution_count": 125,
   "metadata": {},
   "outputs": [],
   "source": [
    "east_west_bank_bank_statements_categorized_worksheet_df['transaction_date'] = pd.to_datetime(east_west_bank_bank_statements_categorized_worksheet_df['transaction_date'])\n",
    "# east_west_bank_bank_statements_categorized_worksheet_df.loc[\n",
    "#     (east_west_bank_bank_statements_categorized_worksheet_df['transaction_date'] >= start) &\n",
    "#     (east_west_bank_bank_statements_categorized_worksheet_df['transaction_date'] <= end)\n",
    "# ]"
   ]
  },
  {
   "cell_type": "code",
   "execution_count": 134,
   "metadata": {},
   "outputs": [],
   "source": [
    "east_west_bank_bank_statements_categorized_worksheet_df['float_amount'] = \\\n",
    "    east_west_bank_bank_statements_categorized_worksheet_df['amount'] \\\n",
    "    .apply(lambda x: float(x.replace('$', '').replace(',', '')))\n",
    "east_west_bank_bank_statements_categorized_worksheet_df.loc[0, 'float_amount'] += EAST_WEST_BANK_BANK_STATEMENT_INITIAL_BALANCE"
   ]
  },
  {
   "cell_type": "code",
   "execution_count": 139,
   "metadata": {},
   "outputs": [],
   "source": [
    "east_west_bank_bank_statements_categorized_worksheet_df['float_amount_cumsum'] = east_west_bank_bank_statements_categorized_worksheet_df['float_amount'].cumsum()"
   ]
  },
  {
   "cell_type": "code",
   "execution_count": 137,
   "metadata": {},
   "outputs": [
    {
     "data": {
      "application/vnd.plotly.v1+json": {
       "config": {
        "plotlyServerURL": "https://plot.ly"
       },
       "data": [
        {
         "alignmentgroup": "True",
         "hovertemplate": "category=%{x}<br>float_amount=%{y}<extra></extra>",
         "legendgroup": "",
         "marker": {
          "color": "#636efa",
          "pattern": {
           "shape": ""
          }
         },
         "name": "",
         "offsetgroup": "",
         "orientation": "v",
         "showlegend": false,
         "textposition": "auto",
         "type": "bar",
         "x": [
          "Deposit",
          "Venmo",
          "Venmo",
          "Venmo",
          "Venmo",
          "Venmo",
          "Other",
          "Deposit",
          "Venmo",
          "Venmo",
          "Venmo",
          "Venmo",
          "Deposit",
          "Venmo",
          "Venmo",
          "Venmo",
          "Venmo",
          "Venmo",
          "Venmo",
          "Venmo",
          "CC Payment",
          "Venmo",
          "Venmo",
          "Venmo",
          "CC Payment",
          "Venmo",
          "Venmo",
          "Venmo",
          "Venmo",
          "Deposit",
          "Deposit",
          "Venmo",
          "Financial",
          "Venmo",
          "Venmo",
          "Deposit",
          "CC Payment",
          "CC Payment",
          "PayPal",
          "Deposit",
          "CC Payment",
          "IRS",
          "Robinhood",
          "IRS",
          "CC Payment",
          "Robinhood",
          "CC Payment",
          "Deposit",
          "Robinhood",
          "CC Payment",
          "Tuition",
          "CC Payment",
          "Tuition",
          "Venmo",
          "Venmo",
          "Venmo",
          "Venmo",
          "Venmo",
          "Venmo",
          "Venmo",
          "Venmo",
          "Venmo",
          "Venmo",
          "Venmo",
          "Venmo",
          "Venmo",
          "Venmo",
          "CC Payment",
          "Financial",
          "Financial",
          "CC Payment",
          "Deposit",
          "Financial",
          "Tuition",
          "CC Payment",
          "Venmo",
          "CC Payment",
          "Venmo",
          "Venmo",
          "Deposit",
          "Venmo",
          "CC Payment",
          "Venmo",
          "Venmo",
          "Venmo",
          "CC Payment",
          "Venmo",
          "Venmo",
          "Venmo",
          "CC Payment",
          "Financial",
          "PayPal",
          "Venmo",
          "Deposit",
          "CC Payment",
          "CC Payment",
          "Deposit",
          "Deposit",
          "CC Payment",
          "Venmo",
          "Venmo",
          "Venmo",
          "Venmo",
          "IRS",
          "Tuition",
          "CC Payment",
          "Deposit",
          "Venmo",
          "Venmo",
          "Venmo",
          "Venmo",
          "Other",
          "Financial",
          "Financial",
          "Deposit",
          "Financial",
          "Financial",
          "Financial",
          "Financial",
          "Financial",
          "Financial",
          "Deposit",
          "CC Payment",
          "Tuition",
          "Deposit",
          "Financial",
          "Financial",
          "CC Payment",
          "Financial",
          "Financial",
          "Financial",
          "Venmo",
          "Venmo",
          "Venmo",
          "Venmo",
          "Venmo",
          "Venmo",
          "Venmo",
          "Financial",
          "Venmo",
          "Venmo",
          "Deposit",
          "Venmo",
          "Venmo",
          "Venmo",
          "Venmo",
          "Venmo",
          "CC Payment",
          "CC Payment",
          "Deposit",
          "Financial",
          "Financial",
          "Deposit",
          "Financial",
          "Financial",
          "Financial",
          "Grocery",
          "Grocery",
          "Financial",
          "Marcus",
          "Marcus",
          "CC Payment",
          "Deposit",
          "CC Payment",
          "IRS",
          "CC Payment",
          "Paycheck",
          "Marcus",
          "CC Payment",
          "Deposit",
          "Deposit",
          "Paycheck",
          "CC Payment",
          "Tuition",
          "Marcus",
          "Paycheck",
          "Marcus",
          "CC Payment",
          "Deposit",
          "Paycheck",
          "Financial",
          "CC Payment",
          "Marcus",
          "CC Payment",
          "Paycheck",
          "CC Payment",
          "Deposit",
          "Marcus",
          "CC Payment",
          "Paycheck",
          "Marcus",
          "CC Payment",
          "Tuition",
          "Paycheck",
          "Marcus",
          "Marcus",
          "CC Payment",
          "CC Payment",
          "CC Payment",
          "Paycheck",
          "Marcus",
          "Financial",
          "Robinhood",
          "CC Payment",
          "Paycheck",
          "Marcus",
          "CC Payment",
          "Paycheck",
          "Marcus",
          "Robinhood",
          "Marcus",
          "CC Payment",
          "Paycheck",
          "Robinhood",
          "Robinhood",
          "Marcus",
          "Robinhood",
          "Tuition",
          "Paycheck",
          "Robinhood",
          "Robinhood",
          "CC Payment",
          "Paycheck",
          "Marcus",
          "Robinhood",
          "Paycheck",
          "Marcus",
          "PayPal",
          "Paycheck",
          "Marcus",
          "CC Payment",
          "Venmo",
          "Robinhood",
          "Paycheck",
          "Deposit",
          "Marcus",
          "Paycheck",
          "CC Payment",
          "Robinhood",
          "Venmo",
          "CC Payment",
          "Robinhood",
          "Marcus",
          "Other",
          "Robinhood",
          "Paycheck",
          "Robinhood",
          "CC Payment",
          "Paycheck",
          "Marcus",
          "CC Payment",
          "Paycheck",
          "CC Payment",
          "Paycheck",
          "Venmo",
          "Marcus",
          "CC Payment",
          "Robinhood",
          "Paycheck",
          "CC Payment",
          "Paycheck",
          "CC Payment",
          "CC Payment",
          "Paycheck",
          "Paycheck",
          "CC Payment",
          "Marcus",
          "CC Payment",
          "Paycheck",
          "CC Payment",
          "CC Payment",
          "Paycheck",
          "CC Payment",
          "CC Payment",
          "Robinhood",
          "Marcus",
          "Robinhood",
          "Paycheck",
          "CC Payment",
          "CC Payment",
          "Zelle",
          "Marcus",
          "CC Payment",
          "Paycheck",
          "Zelle",
          "Marcus",
          "Paycheck",
          "CC Payment",
          "Venmo",
          "Venmo",
          "Venmo",
          "Paycheck",
          "Financial",
          "CC Payment",
          "Marcus",
          "CC Payment",
          "Paycheck",
          "Venmo",
          "Marcus",
          "Paycheck",
          "CC Payment",
          "Paycheck",
          "Paycheck",
          "CC Payment",
          "Paycheck",
          "Marcus",
          "IRS",
          "CC Payment",
          "Robinhood",
          "Paycheck",
          "Paycheck",
          "CC Payment",
          "Paycheck",
          "CC Payment",
          "Paycheck",
          "CC Payment",
          "Paycheck",
          "Zelle",
          "Marcus",
          "Paycheck",
          "CC Payment",
          "Robinhood",
          "Marcus",
          "CC Payment",
          "Robinhood",
          "Paycheck",
          "Venmo",
          "Venmo",
          "Paycheck",
          "CC Payment",
          "Paycheck",
          "Paycheck",
          "CC Payment",
          "Robinhood",
          "CC Payment",
          "Paycheck",
          "Other",
          "CC Payment",
          "Paycheck",
          "Venmo",
          "CC Payment",
          "Robinhood",
          "CC Payment",
          "Paycheck",
          "CC Payment",
          "Marcus",
          "CC Payment",
          "Paycheck",
          "Marcus",
          "CC Payment",
          "Paycheck",
          "CC Payment",
          "Paycheck",
          "Marcus",
          "Deposit",
          "CC Payment",
          "Paycheck",
          "Paycheck",
          "CC Payment",
          "Marcus",
          "Robinhood",
          "Paycheck",
          "Paycheck",
          "Marcus",
          "Robinhood",
          "Paycheck",
          "Deposit",
          "Marcus",
          "CC Payment",
          "Paycheck",
          "Deposit",
          "CC Payment",
          "Marcus",
          "CC Payment",
          "Paycheck",
          "Paycheck",
          "CC Payment",
          "CC Payment",
          "Paycheck",
          "CC Payment",
          "Paycheck",
          "CC Payment",
          "Marcus",
          "Paycheck",
          "CC Payment",
          "CC Payment",
          "CC Payment",
          "Paycheck",
          "Venmo",
          "CC Payment",
          "Paycheck",
          "Venmo",
          "CC Payment",
          "Marcus",
          "Paycheck",
          "CC Payment",
          "CC Payment",
          "Paycheck",
          "CC Payment",
          "CC Payment",
          "Paycheck",
          "Venmo",
          "Zelle",
          "Zelle",
          "Marcus",
          "Paycheck",
          "Venmo",
          "Marcus",
          "Venmo",
          "CC Payment",
          "CC Payment",
          "Zelle",
          "Tutoring",
          "Venmo",
          "Zelle",
          "Marcus",
          "Paycheck",
          "Venmo",
          "Marcus",
          "CC Payment",
          "Financial",
          "CC Payment",
          "Paycheck",
          "Venmo",
          "CC Payment",
          "Financial",
          "Venmo",
          "Financial",
          "Paycheck",
          "Tutoring",
          "Marcus",
          "Financial",
          "Venmo",
          "Tutoring",
          "Paycheck",
          "Venmo",
          "Financial",
          "CC Payment",
          "Tutoring",
          "Marcus",
          "Venmo",
          "Paycheck",
          "Tutoring",
          "Venmo",
          "Paycheck",
          "Marcus",
          "CC Payment",
          "CC Payment",
          "Paycheck",
          "Financial",
          "Marcus",
          "Marcus",
          "Paycheck",
          "CC Payment",
          "Marcus",
          "CC Payment",
          "CC Payment",
          "CC Payment",
          "Venmo",
          "Venmo",
          "Paycheck",
          "Marcus",
          "Paycheck",
          "CC Payment",
          "Marcus",
          "Marcus",
          "Financial",
          "Financial",
          "Paycheck",
          "Marcus",
          "Zelle",
          "Paycheck",
          "Marcus",
          "Financial",
          "Marcus",
          "Marcus",
          "Paycheck",
          "Venmo",
          "CC Payment",
          "Marcus",
          "Marcus",
          "CC Payment",
          "Paycheck",
          "Marcus",
          "Zelle",
          "Venmo",
          "CC Payment",
          "Paycheck",
          "DMV",
          "Financial",
          "Marcus",
          "Paycheck",
          "Venmo",
          "Marcus",
          "Paycheck",
          "Marcus",
          "CC Payment",
          "CC Payment",
          "Marcus",
          "Tutoring",
          "Zelle",
          "Paycheck",
          "Paycheck",
          "Marcus",
          "Marcus",
          "CC Payment",
          "Robinhood",
          "Paycheck",
          "CC Payment",
          "Robinhood",
          "Paycheck",
          "Marcus",
          "Marcus",
          "CC Payment",
          "CC Payment",
          "Paycheck",
          "CC Payment",
          "CC Payment",
          "Marcus",
          "Robinhood",
          "Marcus",
          "Venmo",
          "Marcus",
          "Paycheck",
          "Deposit",
          "CC Payment",
          "CC Payment",
          "Marcus",
          "Paycheck",
          "Marcus",
          "CC Payment",
          "Venmo",
          "Venmo",
          "Venmo",
          "Venmo",
          "Paycheck",
          "CC Payment",
          "Marcus",
          "CC Payment",
          "CC Payment",
          "Venmo",
          "Paycheck",
          "Venmo",
          "Marcus",
          "CC Payment",
          "Paycheck",
          "CC Payment",
          "Marcus",
          "Venmo",
          "CC Payment",
          "CC Payment",
          "Paycheck",
          "Marcus",
          "CC Payment",
          "Marcus",
          "CC Payment",
          "Marcus",
          "Marcus",
          "CC Payment",
          "CC Payment",
          "CC Payment",
          "Marcus",
          "CC Payment",
          "Paycheck",
          "CC Payment",
          "Marcus",
          "CC Payment",
          "CC Payment",
          "CC Payment",
          "Paycheck",
          "Marcus",
          "Paycheck",
          "Marcus",
          "CC Payment",
          "Paycheck",
          "Marcus",
          "Paycheck",
          "Marcus",
          "Paycheck",
          "Deposit",
          "Marcus",
          "CC Payment",
          "CC Payment",
          "CC Payment",
          "Paycheck",
          "Marcus",
          "CC Payment",
          "Paycheck",
          "CC Payment",
          "Marcus",
          "Paycheck",
          "Marcus",
          "CC Payment",
          "CC Payment",
          "Deposit",
          "Paycheck",
          "Paycheck",
          "Paycheck",
          "Marcus",
          "Marcus",
          "Paycheck",
          "Marcus",
          "Marcus",
          "CC Payment",
          "CC Payment",
          "Paycheck",
          "CC Payment",
          "Marcus",
          "DMV",
          "Paycheck",
          "Marcus",
          "CC Payment",
          "Deposit",
          "Paycheck",
          "Marcus",
          "Paycheck",
          "CC Payment",
          "Marcus",
          "Paycheck",
          "CC Payment",
          "Deposit",
          "Paycheck",
          "Marcus",
          "Paycheck",
          "Marcus",
          "CC Payment"
         ],
         "xaxis": "x",
         "y": [
          2969.25,
          -160,
          -180,
          -240,
          -370,
          -400,
          -39.46,
          5300,
          -240,
          -280,
          -320,
          -360,
          1000,
          -150,
          -240,
          -240,
          -240,
          -280,
          -280,
          -320,
          -1326.28,
          -240,
          -240,
          -240,
          -1000,
          -240,
          -240,
          -240,
          -240,
          340,
          100,
          -18,
          -50,
          -20,
          -200,
          300,
          -30,
          -1000,
          -120,
          62.25,
          -58,
          1000,
          -200,
          1200,
          -1022.98,
          200.13,
          -356.07,
          13862,
          0.02,
          -62,
          -13785,
          -500,
          9190,
          -140,
          -150,
          -180,
          -200,
          -250,
          -300,
          -400,
          -450,
          -900,
          -1000,
          -100,
          -100,
          -150,
          -400,
          -1333.59,
          30.07,
          19.73,
          -186.26,
          11000,
          -50,
          -13785,
          -154.34,
          -17.15,
          -100,
          -14.15,
          -25,
          2000,
          -11.66,
          -1725.37,
          -11.27,
          -11,
          -13.17,
          -75.45,
          -15.14,
          -19.05,
          -15,
          -40,
          50,
          -443.44,
          -14,
          2000,
          -51,
          -1110.32,
          15017.61,
          3000,
          -312.26,
          -300,
          -400,
          -1100,
          -1200,
          600,
          -14891,
          -250.95,
          3600,
          -200,
          -250,
          -350,
          -1200,
          -1573.76,
          0.34,
          0.03,
          500,
          0.19,
          0.04,
          -0.03,
          -0.34,
          -0.04,
          -0.19,
          540,
          -491.94,
          5701,
          1600,
          0.42,
          0.35,
          -80.59,
          -0.35,
          -0.42,
          -100,
          -100,
          -400,
          -550,
          -650,
          -825,
          -900,
          -1200,
          -2000,
          -100,
          -250,
          550,
          -100,
          -100,
          -250,
          -400,
          -400,
          -500,
          -102.23,
          500,
          0.48,
          0.15,
          100,
          3.04,
          -0.15,
          -0.48,
          -9.27,
          -81.29,
          125.13,
          0.21,
          0.09,
          -73.92,
          550,
          -540,
          1400,
          -475.73,
          846.51,
          -846.51,
          -965.35,
          500,
          9600,
          1437.58,
          -419.31,
          -9510,
          -1437.58,
          1584.42,
          -1584.42,
          -368.25,
          500,
          1584.45,
          11.18,
          -390,
          -1584.45,
          -336.65,
          1584.44,
          -831.2,
          530,
          -114.16,
          -639.08,
          1439.59,
          -1439.59,
          -214.72,
          4755,
          1439.58,
          -1439.58,
          -4755,
          -217.97,
          -267.28,
          -264.26,
          1584.43,
          -1000,
          2065.71,
          -2000,
          -369.55,
          1439.58,
          -1000,
          -527.86,
          1584.45,
          -1000,
          -500,
          16000,
          -163.34,
          1584.44,
          -16000,
          -0.59,
          -1000,
          -500,
          -100,
          1584.43,
          -500,
          -500,
          -713.92,
          1584.44,
          -1000,
          -500,
          1439.59,
          -1000,
          -173,
          1584.42,
          -1000,
          -262.14,
          -2,
          -500,
          2252.2,
          500,
          -1500,
          952.99,
          -394.1,
          -500,
          -100,
          -340.02,
          -500,
          1500,
          -100,
          -250,
          760.1,
          500,
          -462.96,
          911.46,
          -1500,
          -272.78,
          585.73,
          -176.85,
          911.46,
          1.56,
          5000,
          -174.19,
          5000,
          861.63,
          -52.04,
          861.63,
          -767.55,
          -137.78,
          861.63,
          869.36,
          -115.96,
          -4200,
          -2024.74,
          869.36,
          -12.81,
          -2363.87,
          869.36,
          -829.94,
          -481.49,
          -1000,
          -200,
          -500,
          716.57,
          -105.58,
          -37.97,
          -100,
          -2000,
          -87.1,
          869.36,
          -350,
          2000,
          869.36,
          -560.8,
          -5,
          -5,
          -17,
          869.36,
          13.9,
          -411.8,
          -1000,
          -3554.9,
          869.36,
          -10,
          -1000,
          716.57,
          -180.79,
          869.36,
          869.36,
          -307.34,
          869.36,
          -1000,
          406,
          -516.6,
          -1000,
          869.36,
          869.36,
          -685.79,
          869.36,
          -186.88,
          869.36,
          -445.26,
          869.36,
          -400,
          -3000,
          869.36,
          -577.23,
          -200,
          3222.91,
          -71.47,
          -3000,
          869.36,
          -1,
          -1.44,
          869.36,
          -369.56,
          869.36,
          869.36,
          -8.25,
          -2000,
          -2.09,
          716.57,
          -175.77,
          -311.27,
          869.36,
          -3.6,
          -483.35,
          5000,
          -402.22,
          716.57,
          -368,
          -5000,
          -67.68,
          716.57,
          3025,
          -3138.92,
          869.36,
          -430.34,
          716.57,
          -3500,
          804,
          -859.39,
          869.36,
          869.36,
          -125.4,
          -2000,
          282.9,
          869.36,
          869.36,
          -1000,
          -1000,
          869.36,
          92.5,
          -1000,
          -485.85,
          869.36,
          2000,
          -461.27,
          -2000,
          -33.88,
          869.36,
          869.36,
          -213.27,
          -179.26,
          869.36,
          -25,
          869.36,
          -467.54,
          -3000,
          869.36,
          -262.92,
          -441.81,
          -343.96,
          382.97,
          -20,
          -80.01,
          869.36,
          25,
          -41.33,
          -800,
          869.36,
          -20.46,
          -433.44,
          382.97,
          -50.05,
          -24.95,
          869.36,
          170,
          35,
          15,
          -1300,
          869.36,
          124.56,
          -1500,
          20,
          -6.45,
          -23.15,
          74,
          25.5,
          25,
          1,
          -144.56,
          716.57,
          25,
          -100,
          -39.95,
          -500,
          -484.7,
          869.36,
          12.5,
          -43.82,
          40,
          12.5,
          -50,
          552.03,
          51,
          -500,
          30.01,
          25,
          12.75,
          869.36,
          30,
          5,
          -137.52,
          46.75,
          -1000,
          20,
          869.36,
          59.5,
          5,
          869.36,
          -1500,
          -59.85,
          -521.29,
          869.36,
          200.29,
          -1000,
          -200,
          723.53,
          -420.46,
          2200,
          -27.81,
          -19.29,
          -2222.62,
          20,
          -15,
          723.53,
          -500,
          886.07,
          -427.18,
          5000,
          -1000,
          -400,
          -4600,
          723.53,
          -500,
          33,
          886.07,
          -1000,
          1005.92,
          -500,
          -1000,
          886.07,
          100,
          -69.54,
          -100,
          -400,
          -51.99,
          886.07,
          -200,
          30,
          25,
          -401.51,
          886.07,
          -221,
          4983,
          -5000,
          723.53,
          54,
          -1500,
          886.07,
          500,
          -78.01,
          -632.41,
          -1200,
          23.38,
          20,
          886.07,
          886.07,
          -1000,
          200,
          -414,
          -500,
          886.07,
          -186.58,
          -300,
          886.07,
          -1500,
          100,
          -77.63,
          -84.31,
          3294.54,
          -30.89,
          -396.01,
          -1500,
          -500,
          -500,
          90,
          -100,
          3219.49,
          181.82,
          -169.32,
          -9.8,
          -3000,
          3219.48,
          -3000,
          -466.44,
          30,
          50,
          30,
          90,
          3219.5,
          -500,
          -1000,
          -348.63,
          -407.31,
          60,
          4020.11,
          5,
          -4000,
          -538.96,
          4286.97,
          -387.49,
          -4300,
          40,
          -24.94,
          -117.66,
          2945.61,
          -2500,
          -100.59,
          1000,
          -396.01,
          3000,
          2000,
          -2107.87,
          -1052.9,
          -1903.97,
          2200,
          -2123.53,
          3319.56,
          -1228.57,
          -2000,
          -41.22,
          -153.93,
          -531.25,
          3219.49,
          -3000,
          4020.11,
          -3500,
          -188.52,
          3219.48,
          -3000,
          3219.49,
          -3400,
          3219.49,
          100,
          -3000,
          -296.69,
          -307.53,
          -105.59,
          3219.48,
          -3300,
          -7.53,
          3219.5,
          -53.25,
          -3500,
          1819.44,
          -2000,
          -76.81,
          -3.91,
          13800,
          3486.36,
          273.57,
          146.93,
          -13000,
          -4000,
          1482.53,
          -1500,
          4700,
          -25.19,
          -65.43,
          2959.98,
          -4672.67,
          -3000,
          -228,
          2960,
          -2500,
          -132.2,
          600,
          2409.45,
          -3000,
          3235.25,
          -249.59,
          -2500,
          392.6,
          -166.22,
          300,
          5839.26,
          -6300,
          3235.25,
          -3000,
          -427.16
         ],
         "yaxis": "y"
        }
       ],
       "layout": {
        "barmode": "relative",
        "legend": {
         "tracegroupgap": 0
        },
        "margin": {
         "t": 60
        },
        "template": {
         "data": {
          "bar": [
           {
            "error_x": {
             "color": "#2a3f5f"
            },
            "error_y": {
             "color": "#2a3f5f"
            },
            "marker": {
             "line": {
              "color": "#E5ECF6",
              "width": 0.5
             },
             "pattern": {
              "fillmode": "overlay",
              "size": 10,
              "solidity": 0.2
             }
            },
            "type": "bar"
           }
          ],
          "barpolar": [
           {
            "marker": {
             "line": {
              "color": "#E5ECF6",
              "width": 0.5
             },
             "pattern": {
              "fillmode": "overlay",
              "size": 10,
              "solidity": 0.2
             }
            },
            "type": "barpolar"
           }
          ],
          "carpet": [
           {
            "aaxis": {
             "endlinecolor": "#2a3f5f",
             "gridcolor": "white",
             "linecolor": "white",
             "minorgridcolor": "white",
             "startlinecolor": "#2a3f5f"
            },
            "baxis": {
             "endlinecolor": "#2a3f5f",
             "gridcolor": "white",
             "linecolor": "white",
             "minorgridcolor": "white",
             "startlinecolor": "#2a3f5f"
            },
            "type": "carpet"
           }
          ],
          "choropleth": [
           {
            "colorbar": {
             "outlinewidth": 0,
             "ticks": ""
            },
            "type": "choropleth"
           }
          ],
          "contour": [
           {
            "colorbar": {
             "outlinewidth": 0,
             "ticks": ""
            },
            "colorscale": [
             [
              0,
              "#0d0887"
             ],
             [
              0.1111111111111111,
              "#46039f"
             ],
             [
              0.2222222222222222,
              "#7201a8"
             ],
             [
              0.3333333333333333,
              "#9c179e"
             ],
             [
              0.4444444444444444,
              "#bd3786"
             ],
             [
              0.5555555555555556,
              "#d8576b"
             ],
             [
              0.6666666666666666,
              "#ed7953"
             ],
             [
              0.7777777777777778,
              "#fb9f3a"
             ],
             [
              0.8888888888888888,
              "#fdca26"
             ],
             [
              1,
              "#f0f921"
             ]
            ],
            "type": "contour"
           }
          ],
          "contourcarpet": [
           {
            "colorbar": {
             "outlinewidth": 0,
             "ticks": ""
            },
            "type": "contourcarpet"
           }
          ],
          "heatmap": [
           {
            "colorbar": {
             "outlinewidth": 0,
             "ticks": ""
            },
            "colorscale": [
             [
              0,
              "#0d0887"
             ],
             [
              0.1111111111111111,
              "#46039f"
             ],
             [
              0.2222222222222222,
              "#7201a8"
             ],
             [
              0.3333333333333333,
              "#9c179e"
             ],
             [
              0.4444444444444444,
              "#bd3786"
             ],
             [
              0.5555555555555556,
              "#d8576b"
             ],
             [
              0.6666666666666666,
              "#ed7953"
             ],
             [
              0.7777777777777778,
              "#fb9f3a"
             ],
             [
              0.8888888888888888,
              "#fdca26"
             ],
             [
              1,
              "#f0f921"
             ]
            ],
            "type": "heatmap"
           }
          ],
          "heatmapgl": [
           {
            "colorbar": {
             "outlinewidth": 0,
             "ticks": ""
            },
            "colorscale": [
             [
              0,
              "#0d0887"
             ],
             [
              0.1111111111111111,
              "#46039f"
             ],
             [
              0.2222222222222222,
              "#7201a8"
             ],
             [
              0.3333333333333333,
              "#9c179e"
             ],
             [
              0.4444444444444444,
              "#bd3786"
             ],
             [
              0.5555555555555556,
              "#d8576b"
             ],
             [
              0.6666666666666666,
              "#ed7953"
             ],
             [
              0.7777777777777778,
              "#fb9f3a"
             ],
             [
              0.8888888888888888,
              "#fdca26"
             ],
             [
              1,
              "#f0f921"
             ]
            ],
            "type": "heatmapgl"
           }
          ],
          "histogram": [
           {
            "marker": {
             "pattern": {
              "fillmode": "overlay",
              "size": 10,
              "solidity": 0.2
             }
            },
            "type": "histogram"
           }
          ],
          "histogram2d": [
           {
            "colorbar": {
             "outlinewidth": 0,
             "ticks": ""
            },
            "colorscale": [
             [
              0,
              "#0d0887"
             ],
             [
              0.1111111111111111,
              "#46039f"
             ],
             [
              0.2222222222222222,
              "#7201a8"
             ],
             [
              0.3333333333333333,
              "#9c179e"
             ],
             [
              0.4444444444444444,
              "#bd3786"
             ],
             [
              0.5555555555555556,
              "#d8576b"
             ],
             [
              0.6666666666666666,
              "#ed7953"
             ],
             [
              0.7777777777777778,
              "#fb9f3a"
             ],
             [
              0.8888888888888888,
              "#fdca26"
             ],
             [
              1,
              "#f0f921"
             ]
            ],
            "type": "histogram2d"
           }
          ],
          "histogram2dcontour": [
           {
            "colorbar": {
             "outlinewidth": 0,
             "ticks": ""
            },
            "colorscale": [
             [
              0,
              "#0d0887"
             ],
             [
              0.1111111111111111,
              "#46039f"
             ],
             [
              0.2222222222222222,
              "#7201a8"
             ],
             [
              0.3333333333333333,
              "#9c179e"
             ],
             [
              0.4444444444444444,
              "#bd3786"
             ],
             [
              0.5555555555555556,
              "#d8576b"
             ],
             [
              0.6666666666666666,
              "#ed7953"
             ],
             [
              0.7777777777777778,
              "#fb9f3a"
             ],
             [
              0.8888888888888888,
              "#fdca26"
             ],
             [
              1,
              "#f0f921"
             ]
            ],
            "type": "histogram2dcontour"
           }
          ],
          "mesh3d": [
           {
            "colorbar": {
             "outlinewidth": 0,
             "ticks": ""
            },
            "type": "mesh3d"
           }
          ],
          "parcoords": [
           {
            "line": {
             "colorbar": {
              "outlinewidth": 0,
              "ticks": ""
             }
            },
            "type": "parcoords"
           }
          ],
          "pie": [
           {
            "automargin": true,
            "type": "pie"
           }
          ],
          "scatter": [
           {
            "fillpattern": {
             "fillmode": "overlay",
             "size": 10,
             "solidity": 0.2
            },
            "type": "scatter"
           }
          ],
          "scatter3d": [
           {
            "line": {
             "colorbar": {
              "outlinewidth": 0,
              "ticks": ""
             }
            },
            "marker": {
             "colorbar": {
              "outlinewidth": 0,
              "ticks": ""
             }
            },
            "type": "scatter3d"
           }
          ],
          "scattercarpet": [
           {
            "marker": {
             "colorbar": {
              "outlinewidth": 0,
              "ticks": ""
             }
            },
            "type": "scattercarpet"
           }
          ],
          "scattergeo": [
           {
            "marker": {
             "colorbar": {
              "outlinewidth": 0,
              "ticks": ""
             }
            },
            "type": "scattergeo"
           }
          ],
          "scattergl": [
           {
            "marker": {
             "colorbar": {
              "outlinewidth": 0,
              "ticks": ""
             }
            },
            "type": "scattergl"
           }
          ],
          "scattermapbox": [
           {
            "marker": {
             "colorbar": {
              "outlinewidth": 0,
              "ticks": ""
             }
            },
            "type": "scattermapbox"
           }
          ],
          "scatterpolar": [
           {
            "marker": {
             "colorbar": {
              "outlinewidth": 0,
              "ticks": ""
             }
            },
            "type": "scatterpolar"
           }
          ],
          "scatterpolargl": [
           {
            "marker": {
             "colorbar": {
              "outlinewidth": 0,
              "ticks": ""
             }
            },
            "type": "scatterpolargl"
           }
          ],
          "scatterternary": [
           {
            "marker": {
             "colorbar": {
              "outlinewidth": 0,
              "ticks": ""
             }
            },
            "type": "scatterternary"
           }
          ],
          "surface": [
           {
            "colorbar": {
             "outlinewidth": 0,
             "ticks": ""
            },
            "colorscale": [
             [
              0,
              "#0d0887"
             ],
             [
              0.1111111111111111,
              "#46039f"
             ],
             [
              0.2222222222222222,
              "#7201a8"
             ],
             [
              0.3333333333333333,
              "#9c179e"
             ],
             [
              0.4444444444444444,
              "#bd3786"
             ],
             [
              0.5555555555555556,
              "#d8576b"
             ],
             [
              0.6666666666666666,
              "#ed7953"
             ],
             [
              0.7777777777777778,
              "#fb9f3a"
             ],
             [
              0.8888888888888888,
              "#fdca26"
             ],
             [
              1,
              "#f0f921"
             ]
            ],
            "type": "surface"
           }
          ],
          "table": [
           {
            "cells": {
             "fill": {
              "color": "#EBF0F8"
             },
             "line": {
              "color": "white"
             }
            },
            "header": {
             "fill": {
              "color": "#C8D4E3"
             },
             "line": {
              "color": "white"
             }
            },
            "type": "table"
           }
          ]
         },
         "layout": {
          "annotationdefaults": {
           "arrowcolor": "#2a3f5f",
           "arrowhead": 0,
           "arrowwidth": 1
          },
          "autotypenumbers": "strict",
          "coloraxis": {
           "colorbar": {
            "outlinewidth": 0,
            "ticks": ""
           }
          },
          "colorscale": {
           "diverging": [
            [
             0,
             "#8e0152"
            ],
            [
             0.1,
             "#c51b7d"
            ],
            [
             0.2,
             "#de77ae"
            ],
            [
             0.3,
             "#f1b6da"
            ],
            [
             0.4,
             "#fde0ef"
            ],
            [
             0.5,
             "#f7f7f7"
            ],
            [
             0.6,
             "#e6f5d0"
            ],
            [
             0.7,
             "#b8e186"
            ],
            [
             0.8,
             "#7fbc41"
            ],
            [
             0.9,
             "#4d9221"
            ],
            [
             1,
             "#276419"
            ]
           ],
           "sequential": [
            [
             0,
             "#0d0887"
            ],
            [
             0.1111111111111111,
             "#46039f"
            ],
            [
             0.2222222222222222,
             "#7201a8"
            ],
            [
             0.3333333333333333,
             "#9c179e"
            ],
            [
             0.4444444444444444,
             "#bd3786"
            ],
            [
             0.5555555555555556,
             "#d8576b"
            ],
            [
             0.6666666666666666,
             "#ed7953"
            ],
            [
             0.7777777777777778,
             "#fb9f3a"
            ],
            [
             0.8888888888888888,
             "#fdca26"
            ],
            [
             1,
             "#f0f921"
            ]
           ],
           "sequentialminus": [
            [
             0,
             "#0d0887"
            ],
            [
             0.1111111111111111,
             "#46039f"
            ],
            [
             0.2222222222222222,
             "#7201a8"
            ],
            [
             0.3333333333333333,
             "#9c179e"
            ],
            [
             0.4444444444444444,
             "#bd3786"
            ],
            [
             0.5555555555555556,
             "#d8576b"
            ],
            [
             0.6666666666666666,
             "#ed7953"
            ],
            [
             0.7777777777777778,
             "#fb9f3a"
            ],
            [
             0.8888888888888888,
             "#fdca26"
            ],
            [
             1,
             "#f0f921"
            ]
           ]
          },
          "colorway": [
           "#636efa",
           "#EF553B",
           "#00cc96",
           "#ab63fa",
           "#FFA15A",
           "#19d3f3",
           "#FF6692",
           "#B6E880",
           "#FF97FF",
           "#FECB52"
          ],
          "font": {
           "color": "#2a3f5f"
          },
          "geo": {
           "bgcolor": "white",
           "lakecolor": "white",
           "landcolor": "#E5ECF6",
           "showlakes": true,
           "showland": true,
           "subunitcolor": "white"
          },
          "hoverlabel": {
           "align": "left"
          },
          "hovermode": "closest",
          "mapbox": {
           "style": "light"
          },
          "paper_bgcolor": "white",
          "plot_bgcolor": "#E5ECF6",
          "polar": {
           "angularaxis": {
            "gridcolor": "white",
            "linecolor": "white",
            "ticks": ""
           },
           "bgcolor": "#E5ECF6",
           "radialaxis": {
            "gridcolor": "white",
            "linecolor": "white",
            "ticks": ""
           }
          },
          "scene": {
           "xaxis": {
            "backgroundcolor": "#E5ECF6",
            "gridcolor": "white",
            "gridwidth": 2,
            "linecolor": "white",
            "showbackground": true,
            "ticks": "",
            "zerolinecolor": "white"
           },
           "yaxis": {
            "backgroundcolor": "#E5ECF6",
            "gridcolor": "white",
            "gridwidth": 2,
            "linecolor": "white",
            "showbackground": true,
            "ticks": "",
            "zerolinecolor": "white"
           },
           "zaxis": {
            "backgroundcolor": "#E5ECF6",
            "gridcolor": "white",
            "gridwidth": 2,
            "linecolor": "white",
            "showbackground": true,
            "ticks": "",
            "zerolinecolor": "white"
           }
          },
          "shapedefaults": {
           "line": {
            "color": "#2a3f5f"
           }
          },
          "ternary": {
           "aaxis": {
            "gridcolor": "white",
            "linecolor": "white",
            "ticks": ""
           },
           "baxis": {
            "gridcolor": "white",
            "linecolor": "white",
            "ticks": ""
           },
           "bgcolor": "#E5ECF6",
           "caxis": {
            "gridcolor": "white",
            "linecolor": "white",
            "ticks": ""
           }
          },
          "title": {
           "x": 0.05
          },
          "xaxis": {
           "automargin": true,
           "gridcolor": "white",
           "linecolor": "white",
           "ticks": "",
           "title": {
            "standoff": 15
           },
           "zerolinecolor": "white",
           "zerolinewidth": 2
          },
          "yaxis": {
           "automargin": true,
           "gridcolor": "white",
           "linecolor": "white",
           "ticks": "",
           "title": {
            "standoff": 15
           },
           "zerolinecolor": "white",
           "zerolinewidth": 2
          }
         }
        },
        "xaxis": {
         "anchor": "y",
         "domain": [
          0,
          1
         ],
         "title": {
          "text": "category"
         }
        },
        "yaxis": {
         "anchor": "x",
         "domain": [
          0,
          1
         ],
         "title": {
          "text": "float_amount"
         }
        }
       }
      }
     },
     "metadata": {},
     "output_type": "display_data"
    }
   ],
   "source": [
    "fig = px.bar(east_west_bank_bank_statements_categorized_worksheet_df, x='category', y='float_amount')\n",
    "fig.show()"
   ]
  },
  {
   "cell_type": "code",
   "execution_count": 140,
   "metadata": {},
   "outputs": [
    {
     "data": {
      "text/html": [
       "<div>\n",
       "<style scoped>\n",
       "    .dataframe tbody tr th:only-of-type {\n",
       "        vertical-align: middle;\n",
       "    }\n",
       "\n",
       "    .dataframe tbody tr th {\n",
       "        vertical-align: top;\n",
       "    }\n",
       "\n",
       "    .dataframe thead th {\n",
       "        text-align: right;\n",
       "    }\n",
       "</style>\n",
       "<table border=\"1\" class=\"dataframe\">\n",
       "  <thead>\n",
       "    <tr style=\"text-align: right;\">\n",
       "      <th></th>\n",
       "      <th>transaction_date</th>\n",
       "      <th>description</th>\n",
       "      <th>amount</th>\n",
       "      <th>category</th>\n",
       "      <th>float_amount</th>\n",
       "      <th>float_amount_cumsum</th>\n",
       "    </tr>\n",
       "  </thead>\n",
       "  <tbody>\n",
       "    <tr>\n",
       "      <th>0</th>\n",
       "      <td>2020-01-02</td>\n",
       "      <td>Deposit</td>\n",
       "      <td>$510.00</td>\n",
       "      <td>Deposit</td>\n",
       "      <td>2969.25</td>\n",
       "      <td>2969.25</td>\n",
       "    </tr>\n",
       "    <tr>\n",
       "      <th>1</th>\n",
       "      <td>2020-01-06</td>\n",
       "      <td>Preauth Debit        VENMO PAYMENT 200106</td>\n",
       "      <td>-$160.00</td>\n",
       "      <td>Venmo</td>\n",
       "      <td>-160.00</td>\n",
       "      <td>2809.25</td>\n",
       "    </tr>\n",
       "    <tr>\n",
       "      <th>2</th>\n",
       "      <td>2020-01-06</td>\n",
       "      <td>Preauth Debit        VENMO PAYMENT 200106</td>\n",
       "      <td>-$180.00</td>\n",
       "      <td>Venmo</td>\n",
       "      <td>-180.00</td>\n",
       "      <td>2629.25</td>\n",
       "    </tr>\n",
       "    <tr>\n",
       "      <th>3</th>\n",
       "      <td>2020-01-06</td>\n",
       "      <td>Preauth Debit        VENMO PAYMENT 200106</td>\n",
       "      <td>-$240.00</td>\n",
       "      <td>Venmo</td>\n",
       "      <td>-240.00</td>\n",
       "      <td>2389.25</td>\n",
       "    </tr>\n",
       "    <tr>\n",
       "      <th>4</th>\n",
       "      <td>2020-01-06</td>\n",
       "      <td>Preauth Debit        VENMO PAYMENT 200106</td>\n",
       "      <td>-$370.00</td>\n",
       "      <td>Venmo</td>\n",
       "      <td>-370.00</td>\n",
       "      <td>2019.25</td>\n",
       "    </tr>\n",
       "    <tr>\n",
       "      <th>...</th>\n",
       "      <td>...</td>\n",
       "      <td>...</td>\n",
       "      <td>...</td>\n",
       "      <td>...</td>\n",
       "      <td>...</td>\n",
       "      <td>...</td>\n",
       "    </tr>\n",
       "    <tr>\n",
       "      <th>621</th>\n",
       "      <td>2024-04-08</td>\n",
       "      <td>Pre-Auth Credit             CPRIME INC DIRECT ...</td>\n",
       "      <td>$5,839.26</td>\n",
       "      <td>Paycheck</td>\n",
       "      <td>5839.26</td>\n",
       "      <td>9474.65</td>\n",
       "    </tr>\n",
       "    <tr>\n",
       "      <th>622</th>\n",
       "      <td>2024-04-08</td>\n",
       "      <td>Preauth Debit        GOLDMAN SACHS BA COLLECTI...</td>\n",
       "      <td>-$6,300.00</td>\n",
       "      <td>Marcus</td>\n",
       "      <td>-6300.00</td>\n",
       "      <td>3174.65</td>\n",
       "    </tr>\n",
       "    <tr>\n",
       "      <th>623</th>\n",
       "      <td>2024-04-23</td>\n",
       "      <td>Pre-Auth Credit             CPRIME INC DIRECT ...</td>\n",
       "      <td>$3,235.25</td>\n",
       "      <td>Paycheck</td>\n",
       "      <td>3235.25</td>\n",
       "      <td>6409.90</td>\n",
       "    </tr>\n",
       "    <tr>\n",
       "      <th>624</th>\n",
       "      <td>2024-04-23</td>\n",
       "      <td>Preauth Debit        GOLDMAN SACHS BA COLLECTI...</td>\n",
       "      <td>-$3,000.00</td>\n",
       "      <td>Marcus</td>\n",
       "      <td>-3000.00</td>\n",
       "      <td>3409.90</td>\n",
       "    </tr>\n",
       "    <tr>\n",
       "      <th>625</th>\n",
       "      <td>2024-04-24</td>\n",
       "      <td>Preauth Debit        DISCOVER E-PAYMENT 240424</td>\n",
       "      <td>-$427.16</td>\n",
       "      <td>CC Payment</td>\n",
       "      <td>-427.16</td>\n",
       "      <td>2982.74</td>\n",
       "    </tr>\n",
       "  </tbody>\n",
       "</table>\n",
       "<p>626 rows × 6 columns</p>\n",
       "</div>"
      ],
      "text/plain": [
       "    transaction_date                                        description  \\\n",
       "0         2020-01-02                                            Deposit   \n",
       "1         2020-01-06          Preauth Debit        VENMO PAYMENT 200106   \n",
       "2         2020-01-06          Preauth Debit        VENMO PAYMENT 200106   \n",
       "3         2020-01-06          Preauth Debit        VENMO PAYMENT 200106   \n",
       "4         2020-01-06          Preauth Debit        VENMO PAYMENT 200106   \n",
       "..               ...                                                ...   \n",
       "621       2024-04-08  Pre-Auth Credit             CPRIME INC DIRECT ...   \n",
       "622       2024-04-08  Preauth Debit        GOLDMAN SACHS BA COLLECTI...   \n",
       "623       2024-04-23  Pre-Auth Credit             CPRIME INC DIRECT ...   \n",
       "624       2024-04-23  Preauth Debit        GOLDMAN SACHS BA COLLECTI...   \n",
       "625       2024-04-24     Preauth Debit        DISCOVER E-PAYMENT 240424   \n",
       "\n",
       "         amount    category  float_amount  float_amount_cumsum  \n",
       "0       $510.00     Deposit       2969.25              2969.25  \n",
       "1      -$160.00       Venmo       -160.00              2809.25  \n",
       "2      -$180.00       Venmo       -180.00              2629.25  \n",
       "3      -$240.00       Venmo       -240.00              2389.25  \n",
       "4      -$370.00       Venmo       -370.00              2019.25  \n",
       "..          ...         ...           ...                  ...  \n",
       "621   $5,839.26    Paycheck       5839.26              9474.65  \n",
       "622  -$6,300.00      Marcus      -6300.00              3174.65  \n",
       "623   $3,235.25    Paycheck       3235.25              6409.90  \n",
       "624  -$3,000.00      Marcus      -3000.00              3409.90  \n",
       "625    -$427.16  CC Payment       -427.16              2982.74  \n",
       "\n",
       "[626 rows x 6 columns]"
      ]
     },
     "execution_count": 140,
     "metadata": {},
     "output_type": "execute_result"
    }
   ],
   "source": [
    "east_west_bank_bank_statements_categorized_worksheet_df"
   ]
  },
  {
   "cell_type": "code",
   "execution_count": 141,
   "metadata": {},
   "outputs": [
    {
     "data": {
      "application/vnd.plotly.v1+json": {
       "config": {
        "plotlyServerURL": "https://plot.ly"
       },
       "data": [
        {
         "hovertemplate": "transaction_date=%{x}<br>float_amount_cumsum=%{y}<extra></extra>",
         "legendgroup": "",
         "line": {
          "color": "#636efa",
          "dash": "solid"
         },
         "marker": {
          "symbol": "circle"
         },
         "mode": "lines",
         "name": "",
         "orientation": "v",
         "showlegend": false,
         "type": "scatter",
         "x": [
          "2020-01-02T00:00:00",
          "2020-01-06T00:00:00",
          "2020-01-06T00:00:00",
          "2020-01-06T00:00:00",
          "2020-01-06T00:00:00",
          "2020-01-06T00:00:00",
          "2020-01-15T00:00:00",
          "2020-01-16T00:00:00",
          "2020-01-16T00:00:00",
          "2020-01-16T00:00:00",
          "2020-01-16T00:00:00",
          "2020-01-16T00:00:00",
          "2020-01-21T00:00:00",
          "2020-01-21T00:00:00",
          "2020-01-21T00:00:00",
          "2020-01-21T00:00:00",
          "2020-01-21T00:00:00",
          "2020-01-21T00:00:00",
          "2020-01-21T00:00:00",
          "2020-01-21T00:00:00",
          "2020-01-21T00:00:00",
          "2020-01-23T00:00:00",
          "2020-01-23T00:00:00",
          "2020-01-23T00:00:00",
          "2020-01-23T00:00:00",
          "2020-01-24T00:00:00",
          "2020-01-24T00:00:00",
          "2020-01-27T00:00:00",
          "2020-01-27T00:00:00",
          "2020-02-04T00:00:00",
          "2020-02-06T00:00:00",
          "2020-02-06T00:00:00",
          "2020-02-11T00:00:00",
          "2020-02-18T00:00:00",
          "2020-02-24T00:00:00",
          "2020-03-02T00:00:00",
          "2020-03-03T00:00:00",
          "2020-03-27T00:00:00",
          "2020-03-30T00:00:00",
          "2020-04-07T00:00:00",
          "2020-04-09T00:00:00",
          "2020-04-22T00:00:00",
          "2020-04-22T00:00:00",
          "2020-04-29T00:00:00",
          "2020-04-30T00:00:00",
          "2020-05-19T00:00:00",
          "2020-05-19T00:00:00",
          "2020-05-21T00:00:00",
          "2020-06-01T00:00:00",
          "2020-06-02T00:00:00",
          "2020-06-02T00:00:00",
          "2020-06-09T00:00:00",
          "2020-06-18T00:00:00",
          "2020-06-19T00:00:00",
          "2020-06-19T00:00:00",
          "2020-06-19T00:00:00",
          "2020-06-19T00:00:00",
          "2020-06-19T00:00:00",
          "2020-06-19T00:00:00",
          "2020-06-19T00:00:00",
          "2020-06-19T00:00:00",
          "2020-06-19T00:00:00",
          "2020-06-19T00:00:00",
          "2020-06-22T00:00:00",
          "2020-06-22T00:00:00",
          "2020-06-22T00:00:00",
          "2020-06-22T00:00:00",
          "2020-06-24T00:00:00",
          "2020-07-20T00:00:00",
          "2020-07-22T00:00:00",
          "2020-07-29T00:00:00",
          "2020-07-31T00:00:00",
          "2020-08-04T00:00:00",
          "2020-08-11T00:00:00",
          "2020-08-12T00:00:00",
          "2020-09-16T00:00:00",
          "2020-09-21T00:00:00",
          "2020-09-22T00:00:00",
          "2020-09-24T00:00:00",
          "2020-09-28T00:00:00",
          "2020-09-29T00:00:00",
          "2020-09-30T00:00:00",
          "2020-10-05T00:00:00",
          "2020-10-08T00:00:00",
          "2020-10-13T00:00:00",
          "2020-10-19T00:00:00",
          "2020-10-20T00:00:00",
          "2020-10-27T00:00:00",
          "2020-10-29T00:00:00",
          "2020-11-13T00:00:00",
          "2020-11-18T00:00:00",
          "2020-11-24T00:00:00",
          "2020-12-10T00:00:00",
          "2020-12-18T00:00:00",
          "2020-12-21T00:00:00",
          "2020-12-22T00:00:00",
          "2020-12-28T00:00:00",
          "2020-12-28T00:00:00",
          "2020-12-29T00:00:00",
          "2020-12-30T00:00:00",
          "2020-12-30T00:00:00",
          "2020-12-30T00:00:00",
          "2020-12-30T00:00:00",
          "2021-01-04T00:00:00",
          "2021-01-04T00:00:00",
          "2021-01-12T00:00:00",
          "2021-01-15T00:00:00",
          "2021-01-19T00:00:00",
          "2021-01-19T00:00:00",
          "2021-01-19T00:00:00",
          "2021-01-19T00:00:00",
          "2021-01-21T00:00:00",
          "2021-02-02T00:00:00",
          "2021-02-02T00:00:00",
          "2021-02-03T00:00:00",
          "2021-02-03T00:00:00",
          "2021-02-03T00:00:00",
          "2021-02-03T00:00:00",
          "2021-02-03T00:00:00",
          "2021-02-04T00:00:00",
          "2021-02-04T00:00:00",
          "2021-02-08T00:00:00",
          "2021-02-08T00:00:00",
          "2021-02-09T00:00:00",
          "2021-02-09T00:00:00",
          "2021-02-09T00:00:00",
          "2021-02-09T00:00:00",
          "2021-02-09T00:00:00",
          "2021-02-10T00:00:00",
          "2021-02-10T00:00:00",
          "2021-02-10T00:00:00",
          "2021-02-10T00:00:00",
          "2021-02-10T00:00:00",
          "2021-02-10T00:00:00",
          "2021-02-10T00:00:00",
          "2021-02-10T00:00:00",
          "2021-02-10T00:00:00",
          "2021-02-10T00:00:00",
          "2021-02-10T00:00:00",
          "2021-02-11T00:00:00",
          "2021-02-11T00:00:00",
          "2021-02-16T00:00:00",
          "2021-02-17T00:00:00",
          "2021-02-17T00:00:00",
          "2021-02-17T00:00:00",
          "2021-02-17T00:00:00",
          "2021-02-17T00:00:00",
          "2021-02-17T00:00:00",
          "2021-02-18T00:00:00",
          "2021-02-25T00:00:00",
          "2021-02-25T00:00:00",
          "2021-02-25T00:00:00",
          "2021-03-01T00:00:00",
          "2021-03-01T00:00:00",
          "2021-03-01T00:00:00",
          "2021-03-01T00:00:00",
          "2021-03-01T00:00:00",
          "2021-03-01T00:00:00",
          "2021-03-04T00:00:00",
          "2021-03-09T00:00:00",
          "2021-03-09T00:00:00",
          "2021-03-10T00:00:00",
          "2021-03-11T00:00:00",
          "2021-03-16T00:00:00",
          "2021-03-17T00:00:00",
          "2021-03-23T00:00:00",
          "2021-03-26T00:00:00",
          "2021-03-26T00:00:00",
          "2021-03-26T00:00:00",
          "2021-04-06T00:00:00",
          "2021-04-07T00:00:00",
          "2021-04-09T00:00:00",
          "2021-04-09T00:00:00",
          "2021-04-12T00:00:00",
          "2021-04-13T00:00:00",
          "2021-04-23T00:00:00",
          "2021-04-26T00:00:00",
          "2021-04-29T00:00:00",
          "2021-05-03T00:00:00",
          "2021-05-07T00:00:00",
          "2021-05-07T00:00:00",
          "2021-05-07T00:00:00",
          "2021-05-10T00:00:00",
          "2021-05-12T00:00:00",
          "2021-05-21T00:00:00",
          "2021-05-25T00:00:00",
          "2021-06-03T00:00:00",
          "2021-06-03T00:00:00",
          "2021-06-03T00:00:00",
          "2021-06-04T00:00:00",
          "2021-06-07T00:00:00",
          "2021-06-09T00:00:00",
          "2021-06-15T00:00:00",
          "2021-06-18T00:00:00",
          "2021-06-18T00:00:00",
          "2021-06-18T00:00:00",
          "2021-06-23T00:00:00",
          "2021-06-24T00:00:00",
          "2021-07-01T00:00:00",
          "2021-07-02T00:00:00",
          "2021-07-06T00:00:00",
          "2021-07-07T00:00:00",
          "2021-07-09T00:00:00",
          "2021-07-13T00:00:00",
          "2021-07-16T00:00:00",
          "2021-07-19T00:00:00",
          "2021-07-27T00:00:00",
          "2021-07-30T00:00:00",
          "2021-08-02T00:00:00",
          "2021-08-05T00:00:00",
          "2021-08-11T00:00:00",
          "2021-08-12T00:00:00",
          "2021-08-13T00:00:00",
          "2021-08-13T00:00:00",
          "2021-08-16T00:00:00",
          "2021-08-16T00:00:00",
          "2021-08-17T00:00:00",
          "2021-08-25T00:00:00",
          "2021-08-27T00:00:00",
          "2021-08-31T00:00:00",
          "2021-09-01T00:00:00",
          "2021-09-01T00:00:00",
          "2021-09-10T00:00:00",
          "2021-09-13T00:00:00",
          "2021-09-14T00:00:00",
          "2021-09-24T00:00:00",
          "2021-09-28T00:00:00",
          "2021-10-04T00:00:00",
          "2021-10-08T00:00:00",
          "2021-10-12T00:00:00",
          "2021-10-15T00:00:00",
          "2021-10-18T00:00:00",
          "2021-10-19T00:00:00",
          "2021-10-22T00:00:00",
          "2021-10-25T00:00:00",
          "2021-10-25T00:00:00",
          "2021-10-26T00:00:00",
          "2021-10-26T00:00:00",
          "2021-10-26T00:00:00",
          "2021-11-03T00:00:00",
          "2021-11-03T00:00:00",
          "2021-11-03T00:00:00",
          "2021-11-08T00:00:00",
          "2021-11-08T00:00:00",
          "2021-11-18T00:00:00",
          "2021-11-19T00:00:00",
          "2021-11-24T00:00:00",
          "2021-11-24T00:00:00",
          "2021-11-26T00:00:00",
          "2021-11-30T00:00:00",
          "2021-12-01T00:00:00",
          "2021-12-03T00:00:00",
          "2021-12-08T00:00:00",
          "2021-12-10T00:00:00",
          "2021-12-13T00:00:00",
          "2021-12-15T00:00:00",
          "2021-12-15T00:00:00",
          "2021-12-16T00:00:00",
          "2021-12-17T00:00:00",
          "2021-12-22T00:00:00",
          "2021-12-23T00:00:00",
          "2021-12-24T00:00:00",
          "2021-12-29T00:00:00",
          "2021-12-30T00:00:00",
          "2022-01-07T00:00:00",
          "2022-01-07T00:00:00",
          "2022-01-10T00:00:00",
          "2022-01-12T00:00:00",
          "2022-01-14T00:00:00",
          "2022-01-19T00:00:00",
          "2022-01-19T00:00:00",
          "2022-01-21T00:00:00",
          "2022-01-21T00:00:00",
          "2022-01-25T00:00:00",
          "2022-01-26T00:00:00",
          "2022-01-27T00:00:00",
          "2022-01-27T00:00:00",
          "2022-01-28T00:00:00",
          "2022-01-28T00:00:00",
          "2022-02-01T00:00:00",
          "2022-02-01T00:00:00",
          "2022-02-02T00:00:00",
          "2022-02-03T00:00:00",
          "2022-02-04T00:00:00",
          "2022-02-08T00:00:00",
          "2022-02-11T00:00:00",
          "2022-02-11T00:00:00",
          "2022-02-11T00:00:00",
          "2022-02-14T00:00:00",
          "2022-02-14T00:00:00",
          "2022-02-14T00:00:00",
          "2022-02-18T00:00:00",
          "2022-02-18T00:00:00",
          "2022-02-22T00:00:00",
          "2022-02-24T00:00:00",
          "2022-02-24T00:00:00",
          "2022-02-25T00:00:00",
          "2022-02-28T00:00:00",
          "2022-02-28T00:00:00",
          "2022-03-04T00:00:00",
          "2022-03-07T00:00:00",
          "2022-03-11T00:00:00",
          "2022-03-18T00:00:00",
          "2022-03-21T00:00:00",
          "2022-03-25T00:00:00",
          "2022-03-29T00:00:00",
          "2022-03-30T00:00:00",
          "2022-03-30T00:00:00",
          "2022-03-30T00:00:00",
          "2022-04-01T00:00:00",
          "2022-04-08T00:00:00",
          "2022-04-11T00:00:00",
          "2022-04-15T00:00:00",
          "2022-04-18T00:00:00",
          "2022-04-22T00:00:00",
          "2022-04-26T00:00:00",
          "2022-04-29T00:00:00",
          "2022-05-02T00:00:00",
          "2022-05-03T00:00:00",
          "2022-05-06T00:00:00",
          "2022-05-09T00:00:00",
          "2022-05-10T00:00:00",
          "2022-05-11T00:00:00",
          "2022-05-12T00:00:00",
          "2022-05-12T00:00:00",
          "2022-05-13T00:00:00",
          "2022-05-13T00:00:00",
          "2022-05-13T00:00:00",
          "2022-05-20T00:00:00",
          "2022-05-23T00:00:00",
          "2022-05-27T00:00:00",
          "2022-06-03T00:00:00",
          "2022-06-07T00:00:00",
          "2022-06-07T00:00:00",
          "2022-06-09T00:00:00",
          "2022-06-10T00:00:00",
          "2022-06-14T00:00:00",
          "2022-06-16T00:00:00",
          "2022-06-17T00:00:00",
          "2022-06-21T00:00:00",
          "2022-06-21T00:00:00",
          "2022-06-23T00:00:00",
          "2022-06-23T00:00:00",
          "2022-06-24T00:00:00",
          "2022-06-27T00:00:00",
          "2022-06-27T00:00:00",
          "2022-06-30T00:00:00",
          "2022-07-01T00:00:00",
          "2022-07-05T00:00:00",
          "2022-07-07T00:00:00",
          "2022-07-08T00:00:00",
          "2022-07-14T00:00:00",
          "2022-07-15T00:00:00",
          "2022-07-18T00:00:00",
          "2022-07-20T00:00:00",
          "2022-07-21T00:00:00",
          "2022-07-22T00:00:00",
          "2022-07-29T00:00:00",
          "2022-08-01T00:00:00",
          "2022-08-01T00:00:00",
          "2022-08-02T00:00:00",
          "2022-08-05T00:00:00",
          "2022-08-12T00:00:00",
          "2022-08-12T00:00:00",
          "2022-08-15T00:00:00",
          "2022-08-19T00:00:00",
          "2022-08-22T00:00:00",
          "2022-08-24T00:00:00",
          "2022-08-25T00:00:00",
          "2022-08-26T00:00:00",
          "2022-08-29T00:00:00",
          "2022-08-31T00:00:00",
          "2022-08-31T00:00:00",
          "2022-09-01T00:00:00",
          "2022-09-02T00:00:00",
          "2022-09-09T00:00:00",
          "2022-09-12T00:00:00",
          "2022-09-13T00:00:00",
          "2022-09-16T00:00:00",
          "2022-09-19T00:00:00",
          "2022-09-23T00:00:00",
          "2022-09-26T00:00:00",
          "2022-09-26T00:00:00",
          "2022-09-30T00:00:00",
          "2022-10-04T00:00:00",
          "2022-10-04T00:00:00",
          "2022-10-06T00:00:00",
          "2022-10-07T00:00:00",
          "2022-10-11T00:00:00",
          "2022-10-12T00:00:00",
          "2022-10-14T00:00:00",
          "2022-10-17T00:00:00",
          "2022-10-17T00:00:00",
          "2022-10-17T00:00:00",
          "2022-10-21T00:00:00",
          "2022-10-26T00:00:00",
          "2022-10-26T00:00:00",
          "2022-10-28T00:00:00",
          "2022-11-02T00:00:00",
          "2022-11-03T00:00:00",
          "2022-11-04T00:00:00",
          "2022-11-04T00:00:00",
          "2022-11-07T00:00:00",
          "2022-11-07T00:00:00",
          "2022-11-08T00:00:00",
          "2022-11-10T00:00:00",
          "2022-11-14T00:00:00",
          "2022-11-14T00:00:00",
          "2022-11-15T00:00:00",
          "2022-11-15T00:00:00",
          "2022-11-16T00:00:00",
          "2022-11-17T00:00:00",
          "2022-11-17T00:00:00",
          "2022-11-17T00:00:00",
          "2022-11-17T00:00:00",
          "2022-11-17T00:00:00",
          "2022-11-18T00:00:00",
          "2022-11-18T00:00:00",
          "2022-11-18T00:00:00",
          "2022-11-21T00:00:00",
          "2022-11-21T00:00:00",
          "2022-11-23T00:00:00",
          "2022-11-25T00:00:00",
          "2022-11-25T00:00:00",
          "2022-11-28T00:00:00",
          "2022-11-29T00:00:00",
          "2022-12-01T00:00:00",
          "2022-12-01T00:00:00",
          "2022-12-02T00:00:00",
          "2022-12-02T00:00:00",
          "2022-12-02T00:00:00",
          "2022-12-05T00:00:00",
          "2022-12-05T00:00:00",
          "2022-12-06T00:00:00",
          "2022-12-09T00:00:00",
          "2022-12-12T00:00:00",
          "2022-12-12T00:00:00",
          "2022-12-12T00:00:00",
          "2022-12-14T00:00:00",
          "2022-12-14T00:00:00",
          "2022-12-15T00:00:00",
          "2022-12-16T00:00:00",
          "2022-12-16T00:00:00",
          "2022-12-19T00:00:00",
          "2022-12-23T00:00:00",
          "2022-12-27T00:00:00",
          "2022-12-28T00:00:00",
          "2022-12-28T00:00:00",
          "2022-12-30T00:00:00",
          "2023-01-03T00:00:00",
          "2023-01-03T00:00:00",
          "2023-01-05T00:00:00",
          "2023-01-06T00:00:00",
          "2023-01-06T00:00:00",
          "2023-01-09T00:00:00",
          "2023-01-09T00:00:00",
          "2023-01-11T00:00:00",
          "2023-01-11T00:00:00",
          "2023-01-12T00:00:00",
          "2023-01-12T00:00:00",
          "2023-01-13T00:00:00",
          "2023-01-18T00:00:00",
          "2023-01-20T00:00:00",
          "2023-01-20T00:00:00",
          "2023-01-23T00:00:00",
          "2023-01-23T00:00:00",
          "2023-01-25T00:00:00",
          "2023-01-25T00:00:00",
          "2023-01-27T00:00:00",
          "2023-01-27T00:00:00",
          "2023-01-30T00:00:00",
          "2023-02-03T00:00:00",
          "2023-02-03T00:00:00",
          "2023-02-06T00:00:00",
          "2023-02-06T00:00:00",
          "2023-02-06T00:00:00",
          "2023-02-10T00:00:00",
          "2023-02-13T00:00:00",
          "2023-02-13T00:00:00",
          "2023-02-13T00:00:00",
          "2023-02-13T00:00:00",
          "2023-02-14T00:00:00",
          "2023-02-17T00:00:00",
          "2023-02-17T00:00:00",
          "2023-02-21T00:00:00",
          "2023-02-23T00:00:00",
          "2023-02-23T00:00:00",
          "2023-02-24T00:00:00",
          "2023-02-24T00:00:00",
          "2023-02-28T00:00:00",
          "2023-03-02T00:00:00",
          "2023-03-03T00:00:00",
          "2023-03-06T00:00:00",
          "2023-03-08T00:00:00",
          "2023-03-10T00:00:00",
          "2023-03-10T00:00:00",
          "2023-03-13T00:00:00",
          "2023-03-13T00:00:00",
          "2023-03-13T00:00:00",
          "2023-03-14T00:00:00",
          "2023-03-15T00:00:00",
          "2023-03-17T00:00:00",
          "2023-03-24T00:00:00",
          "2023-03-24T00:00:00",
          "2023-03-30T00:00:00",
          "2023-03-30T00:00:00",
          "2023-03-30T00:00:00",
          "2023-03-31T00:00:00",
          "2023-03-31T00:00:00",
          "2023-03-31T00:00:00",
          "2023-04-03T00:00:00",
          "2023-04-04T00:00:00",
          "2023-04-12T00:00:00",
          "2023-04-13T00:00:00",
          "2023-04-14T00:00:00",
          "2023-04-21T00:00:00",
          "2023-04-24T00:00:00",
          "2023-04-24T00:00:00",
          "2023-04-24T00:00:00",
          "2023-04-25T00:00:00",
          "2023-05-01T00:00:00",
          "2023-05-02T00:00:00",
          "2023-05-02T00:00:00",
          "2023-05-08T00:00:00",
          "2023-05-08T00:00:00",
          "2023-05-10T00:00:00",
          "2023-05-11T00:00:00",
          "2023-05-11T00:00:00",
          "2023-05-23T00:00:00",
          "2023-05-25T00:00:00",
          "2023-05-26T00:00:00",
          "2023-05-30T00:00:00",
          "2023-05-31T00:00:00",
          "2023-06-05T00:00:00",
          "2023-06-06T00:00:00",
          "2023-06-08T00:00:00",
          "2023-06-08T00:00:00",
          "2023-06-09T00:00:00",
          "2023-06-12T00:00:00",
          "2023-06-12T00:00:00",
          "2023-06-21T00:00:00",
          "2023-06-23T00:00:00",
          "2023-06-26T00:00:00",
          "2023-06-26T00:00:00",
          "2023-06-27T00:00:00",
          "2023-07-07T00:00:00",
          "2023-07-10T00:00:00",
          "2023-07-10T00:00:00",
          "2023-07-12T00:00:00",
          "2023-07-13T00:00:00",
          "2023-07-13T00:00:00",
          "2023-07-21T00:00:00",
          "2023-07-21T00:00:00",
          "2023-07-27T00:00:00",
          "2023-07-28T00:00:00",
          "2023-07-28T00:00:00",
          "2023-07-31T00:00:00",
          "2023-07-31T00:00:00",
          "2023-08-01T00:00:00",
          "2023-08-02T00:00:00",
          "2023-08-02T00:00:00",
          "2023-08-03T00:00:00",
          "2023-08-07T00:00:00",
          "2023-08-08T00:00:00",
          "2023-08-09T00:00:00",
          "2023-08-10T00:00:00",
          "2023-08-11T00:00:00",
          "2023-08-22T00:00:00",
          "2023-08-22T00:00:00",
          "2023-08-23T00:00:00",
          "2023-08-24T00:00:00",
          "2023-09-08T00:00:00",
          "2023-09-08T00:00:00",
          "2023-09-20T00:00:00",
          "2023-09-22T00:00:00",
          "2023-09-25T00:00:00",
          "2023-10-06T00:00:00",
          "2023-10-06T00:00:00",
          "2023-10-23T00:00:00",
          "2023-10-23T00:00:00",
          "2023-10-23T00:00:00",
          "2023-10-24T00:00:00",
          "2023-10-24T00:00:00",
          "2023-11-03T00:00:00",
          "2023-11-08T00:00:00",
          "2023-11-08T00:00:00",
          "2023-11-09T00:00:00",
          "2023-11-22T00:00:00",
          "2023-11-22T00:00:00",
          "2023-11-22T00:00:00",
          "2023-12-08T00:00:00",
          "2023-12-08T00:00:00",
          "2023-12-12T00:00:00",
          "2023-12-13T00:00:00",
          "2023-12-21T00:00:00",
          "2023-12-22T00:00:00",
          "2023-12-29T00:00:00",
          "2023-12-29T00:00:00",
          "2024-01-02T00:00:00",
          "2024-01-04T00:00:00",
          "2024-01-08T00:00:00",
          "2024-01-08T00:00:00",
          "2024-01-10T00:00:00",
          "2024-01-16T00:00:00",
          "2024-01-16T00:00:00",
          "2024-01-23T00:00:00",
          "2024-01-23T00:00:00",
          "2024-01-24T00:00:00",
          "2024-01-30T00:00:00",
          "2024-02-08T00:00:00",
          "2024-02-08T00:00:00",
          "2024-02-09T00:00:00",
          "2024-02-22T00:00:00",
          "2024-02-23T00:00:00",
          "2024-02-26T00:00:00",
          "2024-03-08T00:00:00",
          "2024-03-11T00:00:00",
          "2024-03-11T00:00:00",
          "2024-03-22T00:00:00",
          "2024-04-02T00:00:00",
          "2024-04-03T00:00:00",
          "2024-04-08T00:00:00",
          "2024-04-08T00:00:00",
          "2024-04-23T00:00:00",
          "2024-04-23T00:00:00",
          "2024-04-24T00:00:00"
         ],
         "xaxis": "x",
         "y": [
          2969.25,
          2809.25,
          2629.25,
          2389.25,
          2019.25,
          1619.25,
          1579.79,
          6879.79,
          6639.79,
          6359.79,
          6039.79,
          5679.79,
          6679.79,
          6529.79,
          6289.79,
          6049.79,
          5809.79,
          5529.79,
          5249.79,
          4929.79,
          3603.51,
          3363.51,
          3123.51,
          2883.51,
          1883.5100000000002,
          1643.5100000000002,
          1403.5100000000002,
          1163.5100000000002,
          923.5100000000002,
          1263.5100000000002,
          1363.5100000000002,
          1345.5100000000002,
          1295.5100000000002,
          1275.5100000000002,
          1075.5100000000002,
          1375.5100000000002,
          1345.5100000000002,
          345.5100000000002,
          225.51000000000022,
          287.7600000000002,
          229.76000000000022,
          1229.7600000000002,
          1029.7600000000002,
          2229.76,
          1206.7800000000002,
          1406.9100000000003,
          1050.8400000000004,
          14912.84,
          14912.86,
          14850.86,
          1065.8600000000006,
          565.8600000000006,
          9755.86,
          9615.86,
          9465.86,
          9285.86,
          9085.86,
          8835.86,
          8535.86,
          8135.860000000001,
          7685.860000000001,
          6785.860000000001,
          5785.860000000001,
          5685.860000000001,
          5585.860000000001,
          5435.860000000001,
          5035.860000000001,
          3702.2700000000004,
          3732.3400000000006,
          3752.0700000000006,
          3565.8100000000004,
          14565.810000000001,
          14515.810000000001,
          730.8100000000013,
          576.4700000000013,
          559.3200000000013,
          459.3200000000013,
          445.1700000000013,
          420.1700000000013,
          2420.1700000000014,
          2408.5100000000016,
          683.1400000000017,
          671.8700000000017,
          660.8700000000017,
          647.7000000000018,
          572.2500000000017,
          557.1100000000017,
          538.0600000000018,
          523.0600000000018,
          483.06000000000176,
          533.0600000000018,
          89.62000000000177,
          75.62000000000177,
          2075.6200000000017,
          2024.6200000000017,
          914.3000000000018,
          15931.910000000002,
          18931.910000000003,
          18619.650000000005,
          18319.650000000005,
          17919.650000000005,
          16819.650000000005,
          15619.650000000005,
          16219.650000000005,
          1328.650000000005,
          1077.700000000005,
          4677.700000000005,
          4477.700000000005,
          4227.700000000005,
          3877.7000000000053,
          2677.7000000000053,
          1103.9400000000053,
          1104.2800000000052,
          1104.3100000000052,
          1604.3100000000052,
          1604.5000000000052,
          1604.5400000000052,
          1604.5100000000052,
          1604.1700000000053,
          1604.1300000000053,
          1603.9400000000053,
          2143.940000000005,
          1652.000000000005,
          7353.0000000000055,
          8953.000000000005,
          8953.420000000006,
          8953.770000000006,
          8873.180000000006,
          8872.830000000005,
          8872.410000000005,
          8772.410000000005,
          8672.410000000005,
          8272.410000000005,
          7722.410000000005,
          7072.410000000005,
          6247.410000000005,
          5347.410000000005,
          4147.410000000005,
          2147.4100000000053,
          2047.4100000000053,
          1797.4100000000053,
          2347.4100000000053,
          2247.4100000000053,
          2147.4100000000053,
          1897.4100000000053,
          1497.4100000000053,
          1097.4100000000053,
          597.4100000000053,
          495.1800000000053,
          995.1800000000053,
          995.6600000000053,
          995.8100000000053,
          1095.8100000000054,
          1098.8500000000054,
          1098.7000000000053,
          1098.2200000000053,
          1088.9500000000053,
          1007.6600000000053,
          1132.7900000000054,
          1133.0000000000055,
          1133.0900000000054,
          1059.1700000000053,
          1609.1700000000053,
          1069.1700000000053,
          2469.1700000000055,
          1993.4400000000055,
          2839.9500000000053,
          1993.4400000000053,
          1028.0900000000051,
          1528.0900000000051,
          11128.090000000006,
          12565.670000000006,
          12146.360000000006,
          2636.360000000006,
          1198.780000000006,
          2783.200000000006,
          1198.780000000006,
          830.5300000000061,
          1330.530000000006,
          2914.980000000006,
          2926.1600000000058,
          2536.1600000000058,
          951.7100000000057,
          615.0600000000057,
          2199.500000000006,
          1368.3000000000059,
          1898.3000000000059,
          1784.1400000000058,
          1145.0600000000059,
          2584.650000000006,
          1145.060000000006,
          930.3400000000061,
          5685.340000000006,
          7124.9200000000055,
          5685.340000000006,
          930.3400000000056,
          712.3700000000056,
          445.0900000000056,
          180.8300000000056,
          1765.2600000000057,
          765.2600000000057,
          2830.9700000000057,
          830.9700000000057,
          461.4200000000057,
          1901.0000000000057,
          901.0000000000057,
          373.14000000000567,
          1957.5900000000056,
          957.5900000000056,
          457.5900000000056,
          16457.590000000004,
          16294.250000000004,
          17878.690000000002,
          1878.6900000000023,
          1878.1000000000024,
          878.1000000000024,
          378.1000000000024,
          278.1000000000024,
          1862.5300000000025,
          1362.5300000000025,
          862.5300000000025,
          148.61000000000251,
          1733.0500000000025,
          733.0500000000025,
          233.05000000000246,
          1672.6400000000024,
          672.6400000000024,
          499.6400000000024,
          2084.060000000002,
          1084.0600000000022,
          821.9200000000022,
          819.9200000000022,
          319.92000000000223,
          2572.120000000002,
          3072.120000000002,
          1572.1200000000022,
          2525.1100000000024,
          2131.0100000000025,
          1631.0100000000025,
          1531.0100000000025,
          1190.9900000000025,
          690.9900000000025,
          2190.9900000000025,
          2090.9900000000025,
          1840.9900000000025,
          2601.0900000000024,
          3101.0900000000024,
          2638.1300000000024,
          3549.5900000000024,
          2049.5900000000024,
          1776.8100000000024,
          2362.5400000000027,
          2185.690000000003,
          3097.150000000003,
          3098.7100000000028,
          8098.710000000003,
          7924.520000000003,
          12924.520000000004,
          13786.150000000003,
          13734.110000000002,
          14595.740000000002,
          13828.190000000002,
          13690.410000000002,
          14552.04,
          15421.400000000001,
          15305.440000000002,
          11105.440000000002,
          9080.700000000003,
          9950.060000000003,
          9937.250000000004,
          7573.380000000004,
          8442.740000000003,
          7612.800000000003,
          7131.310000000003,
          6131.310000000003,
          5931.310000000003,
          5431.310000000003,
          6147.880000000003,
          6042.300000000003,
          6004.330000000003,
          5904.330000000003,
          3904.3300000000027,
          3817.2300000000027,
          4686.590000000003,
          4336.590000000003,
          6336.590000000003,
          7205.950000000003,
          6645.150000000002,
          6640.150000000002,
          6635.150000000002,
          6618.150000000002,
          7487.510000000002,
          7501.410000000002,
          7089.6100000000015,
          6089.6100000000015,
          2534.7100000000014,
          3404.0700000000015,
          3394.0700000000015,
          2394.0700000000015,
          3110.6400000000017,
          2929.8500000000017,
          3799.210000000002,
          4668.5700000000015,
          4361.230000000001,
          5230.590000000001,
          4230.590000000001,
          4636.590000000001,
          4119.990000000001,
          3119.9900000000007,
          3989.350000000001,
          4858.710000000001,
          4172.920000000001,
          5042.280000000001,
          4855.400000000001,
          5724.76,
          5279.5,
          6148.86,
          5748.86,
          2748.8599999999997,
          3618.22,
          3040.99,
          2840.99,
          6063.9,
          5992.429999999999,
          2992.4299999999994,
          3861.7899999999995,
          3860.7899999999995,
          3859.3499999999995,
          4728.709999999999,
          4359.149999999999,
          5228.509999999998,
          6097.869999999998,
          6089.619999999998,
          4089.619999999998,
          4087.529999999998,
          4804.099999999998,
          4628.329999999997,
          4317.059999999998,
          5186.419999999997,
          5182.819999999997,
          4699.469999999997,
          9699.469999999998,
          9297.249999999998,
          10013.819999999998,
          9645.819999999998,
          4645.819999999998,
          4578.139999999998,
          5294.709999999997,
          8319.709999999997,
          5180.789999999997,
          6050.149999999997,
          5619.809999999997,
          6336.3799999999965,
          2836.3799999999965,
          3640.3799999999965,
          2780.9899999999966,
          3650.3499999999967,
          4519.709999999996,
          4394.309999999997,
          2394.3099999999968,
          2677.209999999997,
          3546.569999999997,
          4415.929999999997,
          3415.9299999999967,
          2415.9299999999967,
          3285.289999999997,
          3377.789999999997,
          2377.789999999997,
          1891.9399999999969,
          2761.299999999997,
          4761.299999999997,
          4300.029999999997,
          2300.029999999997,
          2266.149999999997,
          3135.509999999997,
          4004.869999999997,
          3791.599999999997,
          3612.3399999999974,
          4481.699999999997,
          4456.699999999997,
          5326.059999999997,
          4858.519999999997,
          1858.5199999999968,
          2727.879999999997,
          2464.959999999997,
          2023.149999999997,
          1679.1899999999969,
          2062.159999999997,
          2042.1599999999971,
          1962.1499999999971,
          2831.509999999997,
          2856.509999999997,
          2815.179999999997,
          2015.179999999997,
          2884.5399999999972,
          2864.079999999997,
          2430.639999999997,
          2813.609999999997,
          2763.5599999999968,
          2738.609999999997,
          3607.969999999997,
          3777.969999999997,
          3812.969999999997,
          3827.969999999997,
          2527.969999999997,
          3397.329999999997,
          3521.889999999997,
          2021.8899999999971,
          2041.8899999999971,
          2035.439999999997,
          2012.289999999997,
          2086.2899999999972,
          2111.7899999999972,
          2136.7899999999972,
          2137.7899999999972,
          1993.2299999999973,
          2709.7999999999975,
          2734.7999999999975,
          2634.7999999999975,
          2594.8499999999976,
          2094.8499999999976,
          1610.1499999999976,
          2479.5099999999975,
          2492.0099999999975,
          2448.1899999999973,
          2488.1899999999973,
          2500.6899999999973,
          2450.6899999999973,
          3002.7199999999975,
          3053.7199999999975,
          2553.7199999999975,
          2583.7299999999977,
          2608.7299999999977,
          2621.4799999999977,
          3490.839999999998,
          3520.839999999998,
          3525.839999999998,
          3388.319999999998,
          3435.069999999998,
          2435.069999999998,
          2455.069999999998,
          3324.429999999998,
          3383.929999999998,
          3388.929999999998,
          4258.289999999998,
          2758.289999999998,
          2698.4399999999982,
          2177.1499999999983,
          3046.5099999999984,
          3246.7999999999984,
          2246.7999999999984,
          2046.7999999999984,
          2770.329999999998,
          2349.869999999998,
          4549.869999999998,
          4522.059999999998,
          4502.769999999998,
          2280.149999999998,
          2300.149999999998,
          2285.149999999998,
          3008.6799999999976,
          2508.6799999999976,
          3394.7499999999977,
          2967.569999999998,
          7967.569999999998,
          6967.569999999998,
          6567.569999999998,
          1967.569999999998,
          2691.0999999999976,
          2191.0999999999976,
          2224.0999999999976,
          3110.169999999998,
          2110.169999999998,
          3116.089999999998,
          2616.089999999998,
          1616.0899999999979,
          2502.159999999998,
          2602.159999999998,
          2532.619999999998,
          2432.619999999998,
          2032.619999999998,
          1980.629999999998,
          2866.699999999998,
          2666.699999999998,
          2696.699999999998,
          2721.699999999998,
          2320.189999999998,
          3206.259999999998,
          2985.259999999998,
          7968.259999999998,
          2968.2599999999984,
          3691.789999999998,
          3745.789999999998,
          2245.789999999998,
          3131.8599999999983,
          3631.8599999999983,
          3553.849999999998,
          2921.4399999999982,
          1721.4399999999982,
          1744.8199999999983,
          1764.8199999999983,
          2650.8899999999985,
          3536.9599999999987,
          2536.9599999999987,
          2736.9599999999987,
          2322.9599999999987,
          1822.9599999999987,
          2709.029999999999,
          2522.449999999999,
          2222.449999999999,
          3108.519999999999,
          1608.519999999999,
          1708.519999999999,
          1630.889999999999,
          1546.579999999999,
          4841.119999999999,
          4810.229999999999,
          4414.219999999998,
          2914.2199999999984,
          2414.2199999999984,
          1914.2199999999984,
          2004.2199999999984,
          1904.2199999999984,
          5123.709999999998,
          5305.529999999998,
          5136.209999999998,
          5126.409999999998,
          2126.409999999998,
          5345.889999999998,
          2345.8899999999976,
          1879.4499999999975,
          1909.4499999999975,
          1959.4499999999975,
          1989.4499999999975,
          2079.4499999999975,
          5298.949999999997,
          4798.949999999997,
          3798.949999999997,
          3450.319999999997,
          3043.009999999997,
          3103.009999999997,
          7123.119999999997,
          7128.119999999997,
          3128.119999999997,
          2589.159999999997,
          6876.129999999997,
          6488.639999999998,
          2188.6399999999976,
          2228.6399999999976,
          2203.6999999999975,
          2086.0399999999977,
          5031.649999999998,
          2531.649999999998,
          2431.0599999999977,
          3431.0599999999977,
          3035.0499999999975,
          6035.049999999997,
          8035.049999999997,
          5927.179999999998,
          4874.279999999997,
          2970.3099999999968,
          5170.309999999997,
          3046.7799999999966,
          6366.3399999999965,
          5137.769999999997,
          3137.769999999997,
          3096.549999999997,
          2942.619999999997,
          2411.369999999997,
          5630.859999999997,
          2630.859999999997,
          6650.9699999999975,
          3150.9699999999975,
          2962.4499999999975,
          6181.929999999998,
          3181.9299999999976,
          6401.419999999997,
          3001.4199999999973,
          6220.909999999997,
          6320.909999999997,
          3320.909999999997,
          3024.219999999997,
          2716.689999999997,
          2611.0999999999967,
          5830.579999999996,
          2530.5799999999963,
          2523.049999999996,
          5742.549999999996,
          5689.299999999996,
          2189.2999999999956,
          4008.7399999999957,
          2008.7399999999957,
          1931.9299999999957,
          1928.0199999999957,
          15728.019999999995,
          19214.379999999994,
          19487.949999999993,
          19634.879999999994,
          6634.879999999994,
          2634.8799999999937,
          4117.4099999999935,
          2617.4099999999935,
          7317.4099999999935,
          7292.219999999994,
          7226.789999999994,
          10186.769999999993,
          5514.099999999993,
          2514.099999999993,
          2286.099999999993,
          5246.099999999993,
          2746.099999999993,
          2613.8999999999933,
          3213.8999999999933,
          5623.349999999993,
          2623.349999999993,
          5858.599999999993,
          5609.009999999993,
          3109.009999999993,
          3501.609999999993,
          3335.389999999993,
          3635.389999999993,
          9474.649999999994,
          3174.649999999994,
          6409.899999999994,
          3409.899999999994,
          2982.7399999999943
         ],
         "yaxis": "y"
        }
       ],
       "layout": {
        "legend": {
         "tracegroupgap": 0
        },
        "template": {
         "data": {
          "bar": [
           {
            "error_x": {
             "color": "#2a3f5f"
            },
            "error_y": {
             "color": "#2a3f5f"
            },
            "marker": {
             "line": {
              "color": "#E5ECF6",
              "width": 0.5
             },
             "pattern": {
              "fillmode": "overlay",
              "size": 10,
              "solidity": 0.2
             }
            },
            "type": "bar"
           }
          ],
          "barpolar": [
           {
            "marker": {
             "line": {
              "color": "#E5ECF6",
              "width": 0.5
             },
             "pattern": {
              "fillmode": "overlay",
              "size": 10,
              "solidity": 0.2
             }
            },
            "type": "barpolar"
           }
          ],
          "carpet": [
           {
            "aaxis": {
             "endlinecolor": "#2a3f5f",
             "gridcolor": "white",
             "linecolor": "white",
             "minorgridcolor": "white",
             "startlinecolor": "#2a3f5f"
            },
            "baxis": {
             "endlinecolor": "#2a3f5f",
             "gridcolor": "white",
             "linecolor": "white",
             "minorgridcolor": "white",
             "startlinecolor": "#2a3f5f"
            },
            "type": "carpet"
           }
          ],
          "choropleth": [
           {
            "colorbar": {
             "outlinewidth": 0,
             "ticks": ""
            },
            "type": "choropleth"
           }
          ],
          "contour": [
           {
            "colorbar": {
             "outlinewidth": 0,
             "ticks": ""
            },
            "colorscale": [
             [
              0,
              "#0d0887"
             ],
             [
              0.1111111111111111,
              "#46039f"
             ],
             [
              0.2222222222222222,
              "#7201a8"
             ],
             [
              0.3333333333333333,
              "#9c179e"
             ],
             [
              0.4444444444444444,
              "#bd3786"
             ],
             [
              0.5555555555555556,
              "#d8576b"
             ],
             [
              0.6666666666666666,
              "#ed7953"
             ],
             [
              0.7777777777777778,
              "#fb9f3a"
             ],
             [
              0.8888888888888888,
              "#fdca26"
             ],
             [
              1,
              "#f0f921"
             ]
            ],
            "type": "contour"
           }
          ],
          "contourcarpet": [
           {
            "colorbar": {
             "outlinewidth": 0,
             "ticks": ""
            },
            "type": "contourcarpet"
           }
          ],
          "heatmap": [
           {
            "colorbar": {
             "outlinewidth": 0,
             "ticks": ""
            },
            "colorscale": [
             [
              0,
              "#0d0887"
             ],
             [
              0.1111111111111111,
              "#46039f"
             ],
             [
              0.2222222222222222,
              "#7201a8"
             ],
             [
              0.3333333333333333,
              "#9c179e"
             ],
             [
              0.4444444444444444,
              "#bd3786"
             ],
             [
              0.5555555555555556,
              "#d8576b"
             ],
             [
              0.6666666666666666,
              "#ed7953"
             ],
             [
              0.7777777777777778,
              "#fb9f3a"
             ],
             [
              0.8888888888888888,
              "#fdca26"
             ],
             [
              1,
              "#f0f921"
             ]
            ],
            "type": "heatmap"
           }
          ],
          "heatmapgl": [
           {
            "colorbar": {
             "outlinewidth": 0,
             "ticks": ""
            },
            "colorscale": [
             [
              0,
              "#0d0887"
             ],
             [
              0.1111111111111111,
              "#46039f"
             ],
             [
              0.2222222222222222,
              "#7201a8"
             ],
             [
              0.3333333333333333,
              "#9c179e"
             ],
             [
              0.4444444444444444,
              "#bd3786"
             ],
             [
              0.5555555555555556,
              "#d8576b"
             ],
             [
              0.6666666666666666,
              "#ed7953"
             ],
             [
              0.7777777777777778,
              "#fb9f3a"
             ],
             [
              0.8888888888888888,
              "#fdca26"
             ],
             [
              1,
              "#f0f921"
             ]
            ],
            "type": "heatmapgl"
           }
          ],
          "histogram": [
           {
            "marker": {
             "pattern": {
              "fillmode": "overlay",
              "size": 10,
              "solidity": 0.2
             }
            },
            "type": "histogram"
           }
          ],
          "histogram2d": [
           {
            "colorbar": {
             "outlinewidth": 0,
             "ticks": ""
            },
            "colorscale": [
             [
              0,
              "#0d0887"
             ],
             [
              0.1111111111111111,
              "#46039f"
             ],
             [
              0.2222222222222222,
              "#7201a8"
             ],
             [
              0.3333333333333333,
              "#9c179e"
             ],
             [
              0.4444444444444444,
              "#bd3786"
             ],
             [
              0.5555555555555556,
              "#d8576b"
             ],
             [
              0.6666666666666666,
              "#ed7953"
             ],
             [
              0.7777777777777778,
              "#fb9f3a"
             ],
             [
              0.8888888888888888,
              "#fdca26"
             ],
             [
              1,
              "#f0f921"
             ]
            ],
            "type": "histogram2d"
           }
          ],
          "histogram2dcontour": [
           {
            "colorbar": {
             "outlinewidth": 0,
             "ticks": ""
            },
            "colorscale": [
             [
              0,
              "#0d0887"
             ],
             [
              0.1111111111111111,
              "#46039f"
             ],
             [
              0.2222222222222222,
              "#7201a8"
             ],
             [
              0.3333333333333333,
              "#9c179e"
             ],
             [
              0.4444444444444444,
              "#bd3786"
             ],
             [
              0.5555555555555556,
              "#d8576b"
             ],
             [
              0.6666666666666666,
              "#ed7953"
             ],
             [
              0.7777777777777778,
              "#fb9f3a"
             ],
             [
              0.8888888888888888,
              "#fdca26"
             ],
             [
              1,
              "#f0f921"
             ]
            ],
            "type": "histogram2dcontour"
           }
          ],
          "mesh3d": [
           {
            "colorbar": {
             "outlinewidth": 0,
             "ticks": ""
            },
            "type": "mesh3d"
           }
          ],
          "parcoords": [
           {
            "line": {
             "colorbar": {
              "outlinewidth": 0,
              "ticks": ""
             }
            },
            "type": "parcoords"
           }
          ],
          "pie": [
           {
            "automargin": true,
            "type": "pie"
           }
          ],
          "scatter": [
           {
            "fillpattern": {
             "fillmode": "overlay",
             "size": 10,
             "solidity": 0.2
            },
            "type": "scatter"
           }
          ],
          "scatter3d": [
           {
            "line": {
             "colorbar": {
              "outlinewidth": 0,
              "ticks": ""
             }
            },
            "marker": {
             "colorbar": {
              "outlinewidth": 0,
              "ticks": ""
             }
            },
            "type": "scatter3d"
           }
          ],
          "scattercarpet": [
           {
            "marker": {
             "colorbar": {
              "outlinewidth": 0,
              "ticks": ""
             }
            },
            "type": "scattercarpet"
           }
          ],
          "scattergeo": [
           {
            "marker": {
             "colorbar": {
              "outlinewidth": 0,
              "ticks": ""
             }
            },
            "type": "scattergeo"
           }
          ],
          "scattergl": [
           {
            "marker": {
             "colorbar": {
              "outlinewidth": 0,
              "ticks": ""
             }
            },
            "type": "scattergl"
           }
          ],
          "scattermapbox": [
           {
            "marker": {
             "colorbar": {
              "outlinewidth": 0,
              "ticks": ""
             }
            },
            "type": "scattermapbox"
           }
          ],
          "scatterpolar": [
           {
            "marker": {
             "colorbar": {
              "outlinewidth": 0,
              "ticks": ""
             }
            },
            "type": "scatterpolar"
           }
          ],
          "scatterpolargl": [
           {
            "marker": {
             "colorbar": {
              "outlinewidth": 0,
              "ticks": ""
             }
            },
            "type": "scatterpolargl"
           }
          ],
          "scatterternary": [
           {
            "marker": {
             "colorbar": {
              "outlinewidth": 0,
              "ticks": ""
             }
            },
            "type": "scatterternary"
           }
          ],
          "surface": [
           {
            "colorbar": {
             "outlinewidth": 0,
             "ticks": ""
            },
            "colorscale": [
             [
              0,
              "#0d0887"
             ],
             [
              0.1111111111111111,
              "#46039f"
             ],
             [
              0.2222222222222222,
              "#7201a8"
             ],
             [
              0.3333333333333333,
              "#9c179e"
             ],
             [
              0.4444444444444444,
              "#bd3786"
             ],
             [
              0.5555555555555556,
              "#d8576b"
             ],
             [
              0.6666666666666666,
              "#ed7953"
             ],
             [
              0.7777777777777778,
              "#fb9f3a"
             ],
             [
              0.8888888888888888,
              "#fdca26"
             ],
             [
              1,
              "#f0f921"
             ]
            ],
            "type": "surface"
           }
          ],
          "table": [
           {
            "cells": {
             "fill": {
              "color": "#EBF0F8"
             },
             "line": {
              "color": "white"
             }
            },
            "header": {
             "fill": {
              "color": "#C8D4E3"
             },
             "line": {
              "color": "white"
             }
            },
            "type": "table"
           }
          ]
         },
         "layout": {
          "annotationdefaults": {
           "arrowcolor": "#2a3f5f",
           "arrowhead": 0,
           "arrowwidth": 1
          },
          "autotypenumbers": "strict",
          "coloraxis": {
           "colorbar": {
            "outlinewidth": 0,
            "ticks": ""
           }
          },
          "colorscale": {
           "diverging": [
            [
             0,
             "#8e0152"
            ],
            [
             0.1,
             "#c51b7d"
            ],
            [
             0.2,
             "#de77ae"
            ],
            [
             0.3,
             "#f1b6da"
            ],
            [
             0.4,
             "#fde0ef"
            ],
            [
             0.5,
             "#f7f7f7"
            ],
            [
             0.6,
             "#e6f5d0"
            ],
            [
             0.7,
             "#b8e186"
            ],
            [
             0.8,
             "#7fbc41"
            ],
            [
             0.9,
             "#4d9221"
            ],
            [
             1,
             "#276419"
            ]
           ],
           "sequential": [
            [
             0,
             "#0d0887"
            ],
            [
             0.1111111111111111,
             "#46039f"
            ],
            [
             0.2222222222222222,
             "#7201a8"
            ],
            [
             0.3333333333333333,
             "#9c179e"
            ],
            [
             0.4444444444444444,
             "#bd3786"
            ],
            [
             0.5555555555555556,
             "#d8576b"
            ],
            [
             0.6666666666666666,
             "#ed7953"
            ],
            [
             0.7777777777777778,
             "#fb9f3a"
            ],
            [
             0.8888888888888888,
             "#fdca26"
            ],
            [
             1,
             "#f0f921"
            ]
           ],
           "sequentialminus": [
            [
             0,
             "#0d0887"
            ],
            [
             0.1111111111111111,
             "#46039f"
            ],
            [
             0.2222222222222222,
             "#7201a8"
            ],
            [
             0.3333333333333333,
             "#9c179e"
            ],
            [
             0.4444444444444444,
             "#bd3786"
            ],
            [
             0.5555555555555556,
             "#d8576b"
            ],
            [
             0.6666666666666666,
             "#ed7953"
            ],
            [
             0.7777777777777778,
             "#fb9f3a"
            ],
            [
             0.8888888888888888,
             "#fdca26"
            ],
            [
             1,
             "#f0f921"
            ]
           ]
          },
          "colorway": [
           "#636efa",
           "#EF553B",
           "#00cc96",
           "#ab63fa",
           "#FFA15A",
           "#19d3f3",
           "#FF6692",
           "#B6E880",
           "#FF97FF",
           "#FECB52"
          ],
          "font": {
           "color": "#2a3f5f"
          },
          "geo": {
           "bgcolor": "white",
           "lakecolor": "white",
           "landcolor": "#E5ECF6",
           "showlakes": true,
           "showland": true,
           "subunitcolor": "white"
          },
          "hoverlabel": {
           "align": "left"
          },
          "hovermode": "closest",
          "mapbox": {
           "style": "light"
          },
          "paper_bgcolor": "white",
          "plot_bgcolor": "#E5ECF6",
          "polar": {
           "angularaxis": {
            "gridcolor": "white",
            "linecolor": "white",
            "ticks": ""
           },
           "bgcolor": "#E5ECF6",
           "radialaxis": {
            "gridcolor": "white",
            "linecolor": "white",
            "ticks": ""
           }
          },
          "scene": {
           "xaxis": {
            "backgroundcolor": "#E5ECF6",
            "gridcolor": "white",
            "gridwidth": 2,
            "linecolor": "white",
            "showbackground": true,
            "ticks": "",
            "zerolinecolor": "white"
           },
           "yaxis": {
            "backgroundcolor": "#E5ECF6",
            "gridcolor": "white",
            "gridwidth": 2,
            "linecolor": "white",
            "showbackground": true,
            "ticks": "",
            "zerolinecolor": "white"
           },
           "zaxis": {
            "backgroundcolor": "#E5ECF6",
            "gridcolor": "white",
            "gridwidth": 2,
            "linecolor": "white",
            "showbackground": true,
            "ticks": "",
            "zerolinecolor": "white"
           }
          },
          "shapedefaults": {
           "line": {
            "color": "#2a3f5f"
           }
          },
          "ternary": {
           "aaxis": {
            "gridcolor": "white",
            "linecolor": "white",
            "ticks": ""
           },
           "baxis": {
            "gridcolor": "white",
            "linecolor": "white",
            "ticks": ""
           },
           "bgcolor": "#E5ECF6",
           "caxis": {
            "gridcolor": "white",
            "linecolor": "white",
            "ticks": ""
           }
          },
          "title": {
           "x": 0.05
          },
          "xaxis": {
           "automargin": true,
           "gridcolor": "white",
           "linecolor": "white",
           "ticks": "",
           "title": {
            "standoff": 15
           },
           "zerolinecolor": "white",
           "zerolinewidth": 2
          },
          "yaxis": {
           "automargin": true,
           "gridcolor": "white",
           "linecolor": "white",
           "ticks": "",
           "title": {
            "standoff": 15
           },
           "zerolinecolor": "white",
           "zerolinewidth": 2
          }
         }
        },
        "title": {
         "text": "Line Plot of Cumulative Sum of Amount"
        },
        "xaxis": {
         "anchor": "y",
         "domain": [
          0,
          1
         ],
         "title": {
          "text": "transaction_date"
         }
        },
        "yaxis": {
         "anchor": "x",
         "domain": [
          0,
          1
         ],
         "title": {
          "text": "float_amount_cumsum"
         }
        }
       }
      }
     },
     "metadata": {},
     "output_type": "display_data"
    }
   ],
   "source": [
    "fig = px.line(\n",
    "    east_west_bank_bank_statements_categorized_worksheet_df,\n",
    "    x=\"transaction_date\",\n",
    "    y=\"float_amount_cumsum\",\n",
    "    title='Line Plot of Cumulative Sum of Amount'\n",
    ")\n",
    "fig.show()"
   ]
  },
  {
   "cell_type": "code",
   "execution_count": 54,
   "metadata": {},
   "outputs": [],
   "source": [
    "east_west_bank_bank_statements_categorized_worksheet_df['float_amount'] = \\\n",
    "    east_west_bank_bank_statements_categorized_worksheet_df['amount'] \\\n",
    "    .apply(lambda x: float(x.replace('$', '').replace(',', '')))\n",
    "\n",
    "EAST_WEST_BANK_BANK_STATEMENT_INITIAL_BALANCE=2459.25\n",
    "east_west_bank_bank_statements_categorized_worksheet_df.loc[0, 'float_amount'] += EAST_WEST_BANK_BANK_STATEMENT_INITIAL_BALANCE\n",
    "\n",
    "east_west_bank_bank_statements_categorized_worksheet_df['balance'] = \\\n",
    "    east_west_bank_bank_statements_categorized_worksheet_df['float_amount'].cumsum()\n",
    "\n",
    "marcus_worksheet_df['float_balance'] = marcus_worksheet_df['balance'].apply(lambda x: float(x.replace('$', '').replace(',', '')))"
   ]
  },
  {
   "cell_type": "code",
   "execution_count": 89,
   "metadata": {},
   "outputs": [],
   "source": [
    "from plotly.subplots import make_subplots\n",
    "import plotly.graph_objects as go\n",
    "import numpy as np"
   ]
  },
  {
   "cell_type": "code",
   "execution_count": 97,
   "metadata": {},
   "outputs": [],
   "source": [
    "robinhood_brokerage_worksheet_df['Portfolio Value'].replace('', np.nan, inplace=True)\n",
    "robinhood_brokerage_worksheet_df['Portfolio Value'].ffill(inplace=True)"
   ]
  },
  {
   "cell_type": "code",
   "execution_count": 99,
   "metadata": {},
   "outputs": [
    {
     "data": {
      "application/vnd.plotly.v1+json": {
       "config": {
        "plotlyServerURL": "https://plot.ly"
       },
       "data": [
        {
         "name": "East West Bank Checking",
         "type": "scatter",
         "x": [
          "2020-01-02",
          "2020-01-06",
          "2020-01-06",
          "2020-01-06",
          "2020-01-06",
          "2020-01-06",
          "2020-01-15",
          "2020-01-16",
          "2020-01-16",
          "2020-01-16",
          "2020-01-16",
          "2020-01-16",
          "2020-01-21",
          "2020-01-21",
          "2020-01-21",
          "2020-01-21",
          "2020-01-21",
          "2020-01-21",
          "2020-01-21",
          "2020-01-21",
          "2020-01-21",
          "2020-01-23",
          "2020-01-23",
          "2020-01-23",
          "2020-01-23",
          "2020-01-24",
          "2020-01-24",
          "2020-01-27",
          "2020-01-27",
          "2020-02-04",
          "2020-02-06",
          "2020-02-06",
          "2020-02-11",
          "2020-02-18",
          "2020-02-24",
          "2020-03-02",
          "2020-03-03",
          "2020-03-27",
          "2020-03-30",
          "2020-04-07",
          "2020-04-09",
          "2020-04-22",
          "2020-04-22",
          "2020-04-29",
          "2020-04-30",
          "2020-05-19",
          "2020-05-19",
          "2020-05-21",
          "2020-06-01",
          "2020-06-02",
          "2020-06-02",
          "2020-06-09",
          "2020-06-18",
          "2020-06-19",
          "2020-06-19",
          "2020-06-19",
          "2020-06-19",
          "2020-06-19",
          "2020-06-19",
          "2020-06-19",
          "2020-06-19",
          "2020-06-19",
          "2020-06-19",
          "2020-06-22",
          "2020-06-22",
          "2020-06-22",
          "2020-06-22",
          "2020-06-24",
          "2020-07-20",
          "2020-07-22",
          "2020-07-29",
          "2020-07-31",
          "2020-08-04",
          "2020-08-11",
          "2020-08-12",
          "2020-09-16",
          "2020-09-21",
          "2020-09-22",
          "2020-09-24",
          "2020-09-28",
          "2020-09-29",
          "2020-09-30",
          "2020-10-05",
          "2020-10-08",
          "2020-10-13",
          "2020-10-19",
          "2020-10-20",
          "2020-10-27",
          "2020-10-29",
          "2020-11-13",
          "2020-11-18",
          "2020-11-24",
          "2020-12-10",
          "2020-12-18",
          "2020-12-21",
          "2020-12-22",
          "2020-12-28",
          "2020-12-28",
          "2020-12-29",
          "2020-12-30",
          "2020-12-30",
          "2020-12-30",
          "2020-12-30",
          "2021-01-04",
          "2021-01-04",
          "2021-01-12",
          "2021-01-15",
          "2021-01-19",
          "2021-01-19",
          "2021-01-19",
          "2021-01-19",
          "2021-01-21",
          "2021-02-02",
          "2021-02-02",
          "2021-02-03",
          "2021-02-03",
          "2021-02-03",
          "2021-02-03",
          "2021-02-03",
          "2021-02-04",
          "2021-02-04",
          "2021-02-08",
          "2021-02-08",
          "2021-02-09",
          "2021-02-09",
          "2021-02-09",
          "2021-02-09",
          "2021-02-09",
          "2021-02-10",
          "2021-02-10",
          "2021-02-10",
          "2021-02-10",
          "2021-02-10",
          "2021-02-10",
          "2021-02-10",
          "2021-02-10",
          "2021-02-10",
          "2021-02-10",
          "2021-02-10",
          "2021-02-11",
          "2021-02-11",
          "2021-02-16",
          "2021-02-17",
          "2021-02-17",
          "2021-02-17",
          "2021-02-17",
          "2021-02-17",
          "2021-02-17",
          "2021-02-18",
          "2021-02-25",
          "2021-02-25",
          "2021-02-25",
          "2021-03-01",
          "2021-03-01",
          "2021-03-01",
          "2021-03-01",
          "2021-03-01",
          "2021-03-01",
          "2021-03-04",
          "2021-03-09",
          "2021-03-09",
          "2021-03-10",
          "2021-03-11",
          "2021-03-16",
          "2021-03-17",
          "2021-03-23",
          "2021-03-26",
          "2021-03-26",
          "2021-03-26",
          "2021-04-06",
          "2021-04-07",
          "2021-04-09",
          "2021-04-09",
          "2021-04-12",
          "2021-04-13",
          "2021-04-23",
          "2021-04-26",
          "2021-04-29",
          "2021-05-03",
          "2021-05-07",
          "2021-05-07",
          "2021-05-07",
          "2021-05-10",
          "2021-05-12",
          "2021-05-21",
          "2021-05-25",
          "2021-06-03",
          "2021-06-03",
          "2021-06-03",
          "2021-06-04",
          "2021-06-07",
          "2021-06-09",
          "2021-06-15",
          "2021-06-18",
          "2021-06-18",
          "2021-06-18",
          "2021-06-23",
          "2021-06-24",
          "2021-07-01",
          "2021-07-02",
          "2021-07-06",
          "2021-07-07",
          "2021-07-09",
          "2021-07-13",
          "2021-07-16",
          "2021-07-19",
          "2021-07-27",
          "2021-07-30",
          "2021-08-02",
          "2021-08-05",
          "2021-08-11",
          "2021-08-12",
          "2021-08-13",
          "2021-08-13",
          "2021-08-16",
          "2021-08-16",
          "2021-08-17",
          "2021-08-25",
          "2021-08-27",
          "2021-08-31",
          "2021-09-01",
          "2021-09-01",
          "2021-09-10",
          "2021-09-13",
          "2021-09-14",
          "2021-09-24",
          "2021-09-28",
          "2021-10-04",
          "2021-10-08",
          "2021-10-12",
          "2021-10-15",
          "2021-10-18",
          "2021-10-19",
          "2021-10-22",
          "2021-10-25",
          "2021-10-25",
          "2021-10-26",
          "2021-10-26",
          "2021-10-26",
          "2021-11-03",
          "2021-11-03",
          "2021-11-03",
          "2021-11-08",
          "2021-11-08",
          "2021-11-18",
          "2021-11-19",
          "2021-11-24",
          "2021-11-24",
          "2021-11-26",
          "2021-11-30",
          "2021-12-01",
          "2021-12-03",
          "2021-12-08",
          "2021-12-10",
          "2021-12-13",
          "2021-12-15",
          "2021-12-15",
          "2021-12-16",
          "2021-12-17",
          "2021-12-22",
          "2021-12-23",
          "2021-12-24",
          "2021-12-29",
          "2021-12-30",
          "2022-01-07",
          "2022-01-07",
          "2022-01-10",
          "2022-01-12",
          "2022-01-14",
          "2022-01-19",
          "2022-01-19",
          "2022-01-21",
          "2022-01-21",
          "2022-01-25",
          "2022-01-26",
          "2022-01-27",
          "2022-01-27",
          "2022-01-28",
          "2022-01-28",
          "2022-02-01",
          "2022-02-01",
          "2022-02-02",
          "2022-02-03",
          "2022-02-04",
          "2022-02-08",
          "2022-02-11",
          "2022-02-11",
          "2022-02-11",
          "2022-02-14",
          "2022-02-14",
          "2022-02-14",
          "2022-02-18",
          "2022-02-18",
          "2022-02-22",
          "2022-02-24",
          "2022-02-24",
          "2022-02-25",
          "2022-02-28",
          "2022-02-28",
          "2022-03-04",
          "2022-03-07",
          "2022-03-11",
          "2022-03-18",
          "2022-03-21",
          "2022-03-25",
          "2022-03-29",
          "2022-03-30",
          "2022-03-30",
          "2022-03-30",
          "2022-04-01",
          "2022-04-08",
          "2022-04-11",
          "2022-04-15",
          "2022-04-18",
          "2022-04-22",
          "2022-04-26",
          "2022-04-29",
          "2022-05-02",
          "2022-05-03",
          "2022-05-06",
          "2022-05-09",
          "2022-05-10",
          "2022-05-11",
          "2022-05-12",
          "2022-05-12",
          "2022-05-13",
          "2022-05-13",
          "2022-05-13",
          "2022-05-20",
          "2022-05-23",
          "2022-05-27",
          "2022-06-03",
          "2022-06-07",
          "2022-06-07",
          "2022-06-09",
          "2022-06-10",
          "2022-06-14",
          "2022-06-16",
          "2022-06-17",
          "2022-06-21",
          "2022-06-21",
          "2022-06-23",
          "2022-06-23",
          "2022-06-24",
          "2022-06-27",
          "2022-06-27",
          "2022-06-30",
          "2022-07-01",
          "2022-07-05",
          "2022-07-07",
          "2022-07-08",
          "2022-07-14",
          "2022-07-15",
          "2022-07-18",
          "2022-07-20",
          "2022-07-21",
          "2022-07-22",
          "2022-07-29",
          "2022-08-01",
          "2022-08-01",
          "2022-08-02",
          "2022-08-05",
          "2022-08-12",
          "2022-08-12",
          "2022-08-15",
          "2022-08-19",
          "2022-08-22",
          "2022-08-24",
          "2022-08-25",
          "2022-08-26",
          "2022-08-29",
          "2022-08-31",
          "2022-08-31",
          "2022-09-01",
          "2022-09-02",
          "2022-09-09",
          "2022-09-12",
          "2022-09-13",
          "2022-09-16",
          "2022-09-19",
          "2022-09-23",
          "2022-09-26",
          "2022-09-26",
          "2022-09-30",
          "2022-10-04",
          "2022-10-04",
          "2022-10-06",
          "2022-10-07",
          "2022-10-11",
          "2022-10-12",
          "2022-10-14",
          "2022-10-17",
          "2022-10-17",
          "2022-10-17",
          "2022-10-21",
          "2022-10-26",
          "2022-10-26",
          "2022-10-28",
          "2022-11-02",
          "2022-11-03",
          "2022-11-04",
          "2022-11-04",
          "2022-11-07",
          "2022-11-07",
          "2022-11-08",
          "2022-11-10",
          "2022-11-14",
          "2022-11-14",
          "2022-11-15",
          "2022-11-15",
          "2022-11-16",
          "2022-11-17",
          "2022-11-17",
          "2022-11-17",
          "2022-11-17",
          "2022-11-17",
          "2022-11-18",
          "2022-11-18",
          "2022-11-18",
          "2022-11-21",
          "2022-11-21",
          "2022-11-23",
          "2022-11-25",
          "2022-11-25",
          "2022-11-28",
          "2022-11-29",
          "2022-12-01",
          "2022-12-01",
          "2022-12-02",
          "2022-12-02",
          "2022-12-02",
          "2022-12-05",
          "2022-12-05",
          "2022-12-06",
          "2022-12-09",
          "2022-12-12",
          "2022-12-12",
          "2022-12-12",
          "2022-12-14",
          "2022-12-14",
          "2022-12-15",
          "2022-12-16",
          "2022-12-16",
          "2022-12-19",
          "2022-12-23",
          "2022-12-27",
          "2022-12-28",
          "2022-12-28",
          "2022-12-30",
          "2023-01-03",
          "2023-01-03",
          "2023-01-05",
          "2023-01-06",
          "2023-01-06",
          "2023-01-09",
          "2023-01-09",
          "2023-01-11",
          "2023-01-11",
          "2023-01-12",
          "2023-01-12",
          "2023-01-13",
          "2023-01-18",
          "2023-01-20",
          "2023-01-20",
          "2023-01-23",
          "2023-01-23",
          "2023-01-25",
          "2023-01-25",
          "2023-01-27",
          "2023-01-27",
          "2023-01-30",
          "2023-02-03",
          "2023-02-03",
          "2023-02-06",
          "2023-02-06",
          "2023-02-06",
          "2023-02-10",
          "2023-02-13",
          "2023-02-13",
          "2023-02-13",
          "2023-02-13",
          "2023-02-14",
          "2023-02-17",
          "2023-02-17",
          "2023-02-21",
          "2023-02-23",
          "2023-02-23",
          "2023-02-24",
          "2023-02-24",
          "2023-02-28",
          "2023-03-02",
          "2023-03-03",
          "2023-03-06",
          "2023-03-08",
          "2023-03-10",
          "2023-03-10",
          "2023-03-13",
          "2023-03-13",
          "2023-03-13",
          "2023-03-14",
          "2023-03-15",
          "2023-03-17",
          "2023-03-24",
          "2023-03-24",
          "2023-03-30",
          "2023-03-30",
          "2023-03-30",
          "2023-03-31",
          "2023-03-31",
          "2023-03-31",
          "2023-04-03",
          "2023-04-04",
          "2023-04-12",
          "2023-04-13",
          "2023-04-14",
          "2023-04-21",
          "2023-04-24",
          "2023-04-24",
          "2023-04-24",
          "2023-04-25",
          "2023-05-01",
          "2023-05-02",
          "2023-05-02",
          "2023-05-08",
          "2023-05-08",
          "2023-05-10",
          "2023-05-11",
          "2023-05-11",
          "2023-05-23",
          "2023-05-25",
          "2023-05-26",
          "2023-05-30",
          "2023-05-31",
          "2023-06-05",
          "2023-06-06",
          "2023-06-08",
          "2023-06-08",
          "2023-06-09",
          "2023-06-12",
          "2023-06-12",
          "2023-06-21",
          "2023-06-23",
          "2023-06-26",
          "2023-06-26",
          "2023-06-27",
          "2023-07-07",
          "2023-07-10",
          "2023-07-10",
          "2023-07-12",
          "2023-07-13",
          "2023-07-13",
          "2023-07-21",
          "2023-07-21",
          "2023-07-27",
          "2023-07-28",
          "2023-07-28",
          "2023-07-31",
          "2023-07-31",
          "2023-08-01",
          "2023-08-02",
          "2023-08-02",
          "2023-08-03",
          "2023-08-07",
          "2023-08-08",
          "2023-08-09",
          "2023-08-10",
          "2023-08-11",
          "2023-08-22",
          "2023-08-22",
          "2023-08-23",
          "2023-08-24",
          "2023-09-08",
          "2023-09-08",
          "2023-09-20",
          "2023-09-22",
          "2023-09-25",
          "2023-10-06",
          "2023-10-06",
          "2023-10-23",
          "2023-10-23",
          "2023-10-23",
          "2023-10-24",
          "2023-10-24",
          "2023-11-03",
          "2023-11-08",
          "2023-11-08",
          "2023-11-09",
          "2023-11-22",
          "2023-11-22",
          "2023-11-22",
          "2023-12-08",
          "2023-12-08",
          "2023-12-12",
          "2023-12-13",
          "2023-12-21",
          "2023-12-22",
          "2023-12-29",
          "2023-12-29",
          "2024-01-02",
          "2024-01-04",
          "2024-01-08",
          "2024-01-08",
          "2024-01-10",
          "2024-01-16",
          "2024-01-16",
          "2024-01-23",
          "2024-01-23",
          "2024-01-24",
          "2024-01-30",
          "2024-02-08",
          "2024-02-08",
          "2024-02-09",
          "2024-02-22",
          "2024-02-23",
          "2024-02-26",
          "2024-03-08",
          "2024-03-11",
          "2024-03-11",
          "2024-03-22",
          "2024-04-02",
          "2024-04-03",
          "2024-04-08",
          "2024-04-08",
          "2024-04-23",
          "2024-04-23",
          "2024-04-24"
         ],
         "xaxis": "x",
         "y": [
          2969.25,
          2809.25,
          2629.25,
          2389.25,
          2019.25,
          1619.25,
          1579.79,
          6879.79,
          6639.79,
          6359.79,
          6039.79,
          5679.79,
          6679.79,
          6529.79,
          6289.79,
          6049.79,
          5809.79,
          5529.79,
          5249.79,
          4929.79,
          3603.51,
          3363.51,
          3123.51,
          2883.51,
          1883.5100000000002,
          1643.5100000000002,
          1403.5100000000002,
          1163.5100000000002,
          923.5100000000002,
          1263.5100000000002,
          1363.5100000000002,
          1345.5100000000002,
          1295.5100000000002,
          1275.5100000000002,
          1075.5100000000002,
          1375.5100000000002,
          1345.5100000000002,
          345.5100000000002,
          225.51000000000022,
          287.7600000000002,
          229.76000000000022,
          1229.7600000000002,
          1029.7600000000002,
          2229.76,
          1206.7800000000002,
          1406.9100000000003,
          1050.8400000000004,
          14912.84,
          14912.86,
          14850.86,
          1065.8600000000006,
          565.8600000000006,
          9755.86,
          9615.86,
          9465.86,
          9285.86,
          9085.86,
          8835.86,
          8535.86,
          8135.860000000001,
          7685.860000000001,
          6785.860000000001,
          5785.860000000001,
          5685.860000000001,
          5585.860000000001,
          5435.860000000001,
          5035.860000000001,
          3702.2700000000004,
          3732.3400000000006,
          3752.0700000000006,
          3565.8100000000004,
          14565.810000000001,
          14515.810000000001,
          730.8100000000013,
          576.4700000000013,
          559.3200000000013,
          459.3200000000013,
          445.1700000000013,
          420.1700000000013,
          2420.1700000000014,
          2408.5100000000016,
          683.1400000000017,
          671.8700000000017,
          660.8700000000017,
          647.7000000000018,
          572.2500000000017,
          557.1100000000017,
          538.0600000000018,
          523.0600000000018,
          483.06000000000176,
          533.0600000000018,
          89.62000000000177,
          75.62000000000177,
          2075.6200000000017,
          2024.6200000000017,
          914.3000000000018,
          15931.910000000002,
          18931.910000000003,
          18619.650000000005,
          18319.650000000005,
          17919.650000000005,
          16819.650000000005,
          15619.650000000005,
          16219.650000000005,
          1328.650000000005,
          1077.700000000005,
          4677.700000000005,
          4477.700000000005,
          4227.700000000005,
          3877.7000000000053,
          2677.7000000000053,
          1103.9400000000053,
          1104.2800000000052,
          1104.3100000000052,
          1604.3100000000052,
          1604.5000000000052,
          1604.5400000000052,
          1604.5100000000052,
          1604.1700000000053,
          1604.1300000000053,
          1603.9400000000053,
          2143.940000000005,
          1652.000000000005,
          7353.0000000000055,
          8953.000000000005,
          8953.420000000006,
          8953.770000000006,
          8873.180000000006,
          8872.830000000005,
          8872.410000000005,
          8772.410000000005,
          8672.410000000005,
          8272.410000000005,
          7722.410000000005,
          7072.410000000005,
          6247.410000000005,
          5347.410000000005,
          4147.410000000005,
          2147.4100000000053,
          2047.4100000000053,
          1797.4100000000053,
          2347.4100000000053,
          2247.4100000000053,
          2147.4100000000053,
          1897.4100000000053,
          1497.4100000000053,
          1097.4100000000053,
          597.4100000000053,
          495.1800000000053,
          995.1800000000053,
          995.6600000000053,
          995.8100000000053,
          1095.8100000000054,
          1098.8500000000054,
          1098.7000000000053,
          1098.2200000000053,
          1088.9500000000053,
          1007.6600000000053,
          1132.7900000000054,
          1133.0000000000055,
          1133.0900000000054,
          1059.1700000000053,
          1609.1700000000053,
          1069.1700000000053,
          2469.1700000000055,
          1993.4400000000055,
          2839.9500000000053,
          1993.4400000000053,
          1028.0900000000051,
          1528.0900000000051,
          11128.090000000006,
          12565.670000000006,
          12146.360000000006,
          2636.360000000006,
          1198.780000000006,
          2783.200000000006,
          1198.780000000006,
          830.5300000000061,
          1330.530000000006,
          2914.980000000006,
          2926.1600000000058,
          2536.1600000000058,
          951.7100000000057,
          615.0600000000057,
          2199.500000000006,
          1368.3000000000059,
          1898.3000000000059,
          1784.1400000000058,
          1145.0600000000059,
          2584.650000000006,
          1145.060000000006,
          930.3400000000061,
          5685.340000000006,
          7124.9200000000055,
          5685.340000000006,
          930.3400000000056,
          712.3700000000056,
          445.0900000000056,
          180.8300000000056,
          1765.2600000000057,
          765.2600000000057,
          2830.9700000000057,
          830.9700000000057,
          461.4200000000057,
          1901.0000000000057,
          901.0000000000057,
          373.14000000000567,
          1957.5900000000056,
          957.5900000000056,
          457.5900000000056,
          16457.590000000004,
          16294.250000000004,
          17878.690000000002,
          1878.6900000000023,
          1878.1000000000024,
          878.1000000000024,
          378.1000000000024,
          278.1000000000024,
          1862.5300000000025,
          1362.5300000000025,
          862.5300000000025,
          148.61000000000251,
          1733.0500000000025,
          733.0500000000025,
          233.05000000000246,
          1672.6400000000024,
          672.6400000000024,
          499.6400000000024,
          2084.060000000002,
          1084.0600000000022,
          821.9200000000022,
          819.9200000000022,
          319.92000000000223,
          2572.120000000002,
          3072.120000000002,
          1572.1200000000022,
          2525.1100000000024,
          2131.0100000000025,
          1631.0100000000025,
          1531.0100000000025,
          1190.9900000000025,
          690.9900000000025,
          2190.9900000000025,
          2090.9900000000025,
          1840.9900000000025,
          2601.0900000000024,
          3101.0900000000024,
          2638.1300000000024,
          3549.5900000000024,
          2049.5900000000024,
          1776.8100000000024,
          2362.5400000000027,
          2185.690000000003,
          3097.150000000003,
          3098.7100000000028,
          8098.710000000003,
          7924.520000000003,
          12924.520000000004,
          13786.150000000003,
          13734.110000000002,
          14595.740000000002,
          13828.190000000002,
          13690.410000000002,
          14552.04,
          15421.400000000001,
          15305.440000000002,
          11105.440000000002,
          9080.700000000003,
          9950.060000000003,
          9937.250000000004,
          7573.380000000004,
          8442.740000000003,
          7612.800000000003,
          7131.310000000003,
          6131.310000000003,
          5931.310000000003,
          5431.310000000003,
          6147.880000000003,
          6042.300000000003,
          6004.330000000003,
          5904.330000000003,
          3904.3300000000027,
          3817.2300000000027,
          4686.590000000003,
          4336.590000000003,
          6336.590000000003,
          7205.950000000003,
          6645.150000000002,
          6640.150000000002,
          6635.150000000002,
          6618.150000000002,
          7487.510000000002,
          7501.410000000002,
          7089.6100000000015,
          6089.6100000000015,
          2534.7100000000014,
          3404.0700000000015,
          3394.0700000000015,
          2394.0700000000015,
          3110.6400000000017,
          2929.8500000000017,
          3799.210000000002,
          4668.5700000000015,
          4361.230000000001,
          5230.590000000001,
          4230.590000000001,
          4636.590000000001,
          4119.990000000001,
          3119.9900000000007,
          3989.350000000001,
          4858.710000000001,
          4172.920000000001,
          5042.280000000001,
          4855.400000000001,
          5724.76,
          5279.5,
          6148.86,
          5748.86,
          2748.8599999999997,
          3618.22,
          3040.99,
          2840.99,
          6063.9,
          5992.429999999999,
          2992.4299999999994,
          3861.7899999999995,
          3860.7899999999995,
          3859.3499999999995,
          4728.709999999999,
          4359.149999999999,
          5228.509999999998,
          6097.869999999998,
          6089.619999999998,
          4089.619999999998,
          4087.529999999998,
          4804.099999999998,
          4628.329999999997,
          4317.059999999998,
          5186.419999999997,
          5182.819999999997,
          4699.469999999997,
          9699.469999999998,
          9297.249999999998,
          10013.819999999998,
          9645.819999999998,
          4645.819999999998,
          4578.139999999998,
          5294.709999999997,
          8319.709999999997,
          5180.789999999997,
          6050.149999999997,
          5619.809999999997,
          6336.3799999999965,
          2836.3799999999965,
          3640.3799999999965,
          2780.9899999999966,
          3650.3499999999967,
          4519.709999999996,
          4394.309999999997,
          2394.3099999999968,
          2677.209999999997,
          3546.569999999997,
          4415.929999999997,
          3415.9299999999967,
          2415.9299999999967,
          3285.289999999997,
          3377.789999999997,
          2377.789999999997,
          1891.9399999999969,
          2761.299999999997,
          4761.299999999997,
          4300.029999999997,
          2300.029999999997,
          2266.149999999997,
          3135.509999999997,
          4004.869999999997,
          3791.599999999997,
          3612.3399999999974,
          4481.699999999997,
          4456.699999999997,
          5326.059999999997,
          4858.519999999997,
          1858.5199999999968,
          2727.879999999997,
          2464.959999999997,
          2023.149999999997,
          1679.1899999999969,
          2062.159999999997,
          2042.1599999999971,
          1962.1499999999971,
          2831.509999999997,
          2856.509999999997,
          2815.179999999997,
          2015.179999999997,
          2884.5399999999972,
          2864.079999999997,
          2430.639999999997,
          2813.609999999997,
          2763.5599999999968,
          2738.609999999997,
          3607.969999999997,
          3777.969999999997,
          3812.969999999997,
          3827.969999999997,
          2527.969999999997,
          3397.329999999997,
          3521.889999999997,
          2021.8899999999971,
          2041.8899999999971,
          2035.439999999997,
          2012.289999999997,
          2086.2899999999972,
          2111.7899999999972,
          2136.7899999999972,
          2137.7899999999972,
          1993.2299999999973,
          2709.7999999999975,
          2734.7999999999975,
          2634.7999999999975,
          2594.8499999999976,
          2094.8499999999976,
          1610.1499999999976,
          2479.5099999999975,
          2492.0099999999975,
          2448.1899999999973,
          2488.1899999999973,
          2500.6899999999973,
          2450.6899999999973,
          3002.7199999999975,
          3053.7199999999975,
          2553.7199999999975,
          2583.7299999999977,
          2608.7299999999977,
          2621.4799999999977,
          3490.839999999998,
          3520.839999999998,
          3525.839999999998,
          3388.319999999998,
          3435.069999999998,
          2435.069999999998,
          2455.069999999998,
          3324.429999999998,
          3383.929999999998,
          3388.929999999998,
          4258.289999999998,
          2758.289999999998,
          2698.4399999999982,
          2177.1499999999983,
          3046.5099999999984,
          3246.7999999999984,
          2246.7999999999984,
          2046.7999999999984,
          2770.329999999998,
          2349.869999999998,
          4549.869999999998,
          4522.059999999998,
          4502.769999999998,
          2280.149999999998,
          2300.149999999998,
          2285.149999999998,
          3008.6799999999976,
          2508.6799999999976,
          3394.7499999999977,
          2967.569999999998,
          7967.569999999998,
          6967.569999999998,
          6567.569999999998,
          1967.569999999998,
          2691.0999999999976,
          2191.0999999999976,
          2224.0999999999976,
          3110.169999999998,
          2110.169999999998,
          3116.089999999998,
          2616.089999999998,
          1616.0899999999979,
          2502.159999999998,
          2602.159999999998,
          2532.619999999998,
          2432.619999999998,
          2032.619999999998,
          1980.629999999998,
          2866.699999999998,
          2666.699999999998,
          2696.699999999998,
          2721.699999999998,
          2320.189999999998,
          3206.259999999998,
          2985.259999999998,
          7968.259999999998,
          2968.2599999999984,
          3691.789999999998,
          3745.789999999998,
          2245.789999999998,
          3131.8599999999983,
          3631.8599999999983,
          3553.849999999998,
          2921.4399999999982,
          1721.4399999999982,
          1744.8199999999983,
          1764.8199999999983,
          2650.8899999999985,
          3536.9599999999987,
          2536.9599999999987,
          2736.9599999999987,
          2322.9599999999987,
          1822.9599999999987,
          2709.029999999999,
          2522.449999999999,
          2222.449999999999,
          3108.519999999999,
          1608.519999999999,
          1708.519999999999,
          1630.889999999999,
          1546.579999999999,
          4841.119999999999,
          4810.229999999999,
          4414.219999999998,
          2914.2199999999984,
          2414.2199999999984,
          1914.2199999999984,
          2004.2199999999984,
          1904.2199999999984,
          5123.709999999998,
          5305.529999999998,
          5136.209999999998,
          5126.409999999998,
          2126.409999999998,
          5345.889999999998,
          2345.8899999999976,
          1879.4499999999975,
          1909.4499999999975,
          1959.4499999999975,
          1989.4499999999975,
          2079.4499999999975,
          5298.949999999997,
          4798.949999999997,
          3798.949999999997,
          3450.319999999997,
          3043.009999999997,
          3103.009999999997,
          7123.119999999997,
          7128.119999999997,
          3128.119999999997,
          2589.159999999997,
          6876.129999999997,
          6488.639999999998,
          2188.6399999999976,
          2228.6399999999976,
          2203.6999999999975,
          2086.0399999999977,
          5031.649999999998,
          2531.649999999998,
          2431.0599999999977,
          3431.0599999999977,
          3035.0499999999975,
          6035.049999999997,
          8035.049999999997,
          5927.179999999998,
          4874.279999999997,
          2970.3099999999968,
          5170.309999999997,
          3046.7799999999966,
          6366.3399999999965,
          5137.769999999997,
          3137.769999999997,
          3096.549999999997,
          2942.619999999997,
          2411.369999999997,
          5630.859999999997,
          2630.859999999997,
          6650.9699999999975,
          3150.9699999999975,
          2962.4499999999975,
          6181.929999999998,
          3181.9299999999976,
          6401.419999999997,
          3001.4199999999973,
          6220.909999999997,
          6320.909999999997,
          3320.909999999997,
          3024.219999999997,
          2716.689999999997,
          2611.0999999999967,
          5830.579999999996,
          2530.5799999999963,
          2523.049999999996,
          5742.549999999996,
          5689.299999999996,
          2189.2999999999956,
          4008.7399999999957,
          2008.7399999999957,
          1931.9299999999957,
          1928.0199999999957,
          15728.019999999995,
          19214.379999999994,
          19487.949999999993,
          19634.879999999994,
          6634.879999999994,
          2634.8799999999937,
          4117.4099999999935,
          2617.4099999999935,
          7317.4099999999935,
          7292.219999999994,
          7226.789999999994,
          10186.769999999993,
          5514.099999999993,
          2514.099999999993,
          2286.099999999993,
          5246.099999999993,
          2746.099999999993,
          2613.8999999999933,
          3213.8999999999933,
          5623.349999999993,
          2623.349999999993,
          5858.599999999993,
          5609.009999999993,
          3109.009999999993,
          3501.609999999993,
          3335.389999999993,
          3635.389999999993,
          9474.649999999994,
          3174.649999999994,
          6409.899999999994,
          3409.899999999994,
          2982.7399999999943
         ],
         "yaxis": "y"
        },
        {
         "name": "Marcus Savings",
         "type": "scatter",
         "x": [
          "2021-03-26",
          "2021-03-31",
          "2021-04-12",
          "2021-04-26",
          "2021-04-30",
          "2021-05-10",
          "2021-05-31",
          "2021-06-02",
          "2021-06-07",
          "2021-06-18",
          "2021-06-18",
          "2021-06-30",
          "2021-07-06",
          "2021-07-19",
          "2021-07-31",
          "2021-08-02",
          "2021-08-11",
          "2021-08-16",
          "2021-08-31",
          "2021-09-13",
          "2021-09-28",
          "2021-09-30",
          "2021-10-05",
          "2021-10-12",
          "2021-10-25",
          "2021-10-25",
          "2021-10-31",
          "2021-11-03",
          "2021-11-03",
          "2021-11-08",
          "2021-11-08",
          "2021-11-15",
          "2021-11-29",
          "2021-11-29",
          "2021-11-30",
          "2021-12-01",
          "2021-12-01",
          "2021-12-01",
          "2021-12-15",
          "2021-12-31",
          "2022-01-10",
          "2022-01-20",
          "2022-01-25",
          "2022-01-27",
          "2022-01-27",
          "2022-01-27",
          "2022-01-31",
          "2022-02-02",
          "2022-02-10",
          "2022-02-23",
          "2022-02-25",
          "2022-02-28",
          "2022-03-04",
          "2022-03-29",
          "2022-03-31",
          "2022-04-04",
          "2022-04-30",
          "2022-05-03",
          "2022-05-11",
          "2022-05-31",
          "2022-06-27",
          "2022-06-30",
          "2022-07-05",
          "2022-07-18",
          "2022-07-29",
          "2022-07-31",
          "2022-08-08",
          "2022-08-12",
          "2022-08-24",
          "2022-08-30",
          "2022-08-31",
          "2022-09-12",
          "2022-09-16",
          "2022-09-26",
          "2022-09-30",
          "2022-10-13",
          "2022-10-13",
          "2022-10-17",
          "2022-10-31",
          "2022-11-01",
          "2022-11-01",
          "2022-11-01",
          "2022-11-01",
          "2022-11-02",
          "2022-11-03",
          "2022-11-03",
          "2022-11-04",
          "2022-11-07",
          "2022-11-14",
          "2022-11-17",
          "2022-11-18",
          "2022-11-30",
          "2022-12-02",
          "2022-12-06",
          "2022-12-14",
          "2022-12-16",
          "2022-12-27",
          "2022-12-28",
          "2022-12-31",
          "2023-01-03",
          "2023-01-05",
          "2023-01-09",
          "2023-01-17",
          "2023-01-18",
          "2023-01-20",
          "2023-01-23",
          "2023-01-27",
          "2023-01-31",
          "2023-02-02",
          "2023-02-03",
          "2023-02-06",
          "2023-02-06",
          "2023-02-07",
          "2023-02-09",
          "2023-02-09",
          "2023-02-13",
          "2023-02-13",
          "2023-02-16",
          "2023-02-17",
          "2023-02-28",
          "2023-03-02",
          "2023-03-07",
          "2023-03-09",
          "2023-03-10",
          "2023-03-13",
          "2023-03-21",
          "2023-03-21",
          "2023-03-24",
          "2023-03-29",
          "2023-03-31",
          "2023-04-04",
          "2023-04-04",
          "2023-04-12",
          "2023-04-17",
          "2023-04-24",
          "2023-04-24",
          "2023-04-24",
          "2023-04-30",
          "2023-05-01",
          "2023-05-02",
          "2023-05-11",
          "2023-05-15",
          "2023-05-25",
          "2023-05-31",
          "2023-06-09",
          "2023-06-20",
          "2023-06-26",
          "2023-06-30",
          "2023-07-03",
          "2023-07-10",
          "2023-07-21",
          "2023-07-27",
          "2023-07-31",
          "2023-07-31",
          "2023-07-31",
          "2023-07-31",
          "2023-08-03",
          "2023-08-10",
          "2023-08-24",
          "2023-08-31",
          "2023-09-08",
          "2023-09-18",
          "2023-09-25",
          "2023-09-30",
          "2023-10-02",
          "2023-10-06",
          "2023-10-23",
          "2023-10-31",
          "2023-11-02",
          "2023-11-08",
          "2023-11-13",
          "2023-11-14",
          "2023-11-22",
          "2023-11-27",
          "2023-11-30",
          "2023-12-05",
          "2023-12-08",
          "2023-12-31",
          "2024-01-02",
          "2024-01-03",
          "2024-01-08",
          "2024-01-09",
          "2024-01-16",
          "2024-01-22",
          "2024-01-24",
          "2024-01-31",
          "2024-02-08",
          "2024-02-23",
          "2024-02-29",
          "2024-03-04",
          "2024-03-08",
          "2024-03-31",
          "2024-04-02",
          "2024-04-08",
          "2024-04-08",
          "2024-04-08",
          "2024-04-08",
          "2024-04-23",
          "2024-04-30",
          "2024-04-30"
         ],
         "xaxis": "x2",
         "y": [
          846.51,
          846.57,
          2284.15,
          3868.57,
          3869.4,
          5453.85,
          5455.97,
          5570.13,
          7009.72,
          11764.72,
          13204.3,
          13208.15,
          14208.15,
          15208.15,
          15214.28,
          16214.28,
          214.28,
          1214.28,
          1216.77,
          2216.77,
          3216.77,
          3217.55,
          1717.55,
          2717.55,
          3717.55,
          2217.55,
          3718.73,
          3218.73,
          3518.73,
          1218.73,
          2718.73,
          218.73,
          11718.73,
          1718.73,
          11719.53,
          6719.26,
          1719.53,
          1719.26,
          1719.26,
          1720.94,
          5920.94,
          1720.94,
          720.94,
          920.94,
          720.94,
          220.94,
          222.12,
          2222.12,
          222.12,
          1222.12,
          2222.12,
          2222.56,
          222.56,
          1222.56,
          1222.78,
          222.78,
          222.91,
          3222.91,
          0,
          0.43,
          5000.43,
          5000.98,
          1975.98,
          5475.98,
          7475.98,
          7480.36,
          7518.76,
          8518.76,
          9518.76,
          11518.76,
          11530.55,
          11030.55,
          10030.55,
          13030.55,
          13048.12,
          7048.12,
          12048.12,
          7848.12,
          7866.64,
          7866.64,
          7866.53,
          7866.24,
          7866.35,
          2866.64,
          7822.76,
          7922.76,
          1822.76,
          3122.76,
          4622.76,
          4767.32,
          4867.32,
          4877.32,
          5377.32,
          3377.32,
          4377.32,
          4373.32,
          5873.32,
          6523.32,
          6535.32,
          7535.32,
          7735.32,
          5535.32,
          6035.32,
          8038.85,
          9038.85,
          4038.85,
          4538.85,
          4555.9,
          4557.28,
          5557.28,
          7057.28,
          6057.28,
          6557.28,
          16557.3,
          6557.3,
          16657.3,
          17057.3,
          17058.3,
          17258.3,
          17306.12,
          22306.12,
          23806.12,
          13806.12,
          13306.12,
          14506.12,
          14606.12,
          19617.63,
          20617.63,
          20417.63,
          20490.17,
          24108.17,
          22608.17,
          24008.17,
          22968.17,
          26156.17,
          24656.17,
          25116.17,
          25208.34,
          25708.34,
          25808.34,
          28808.34,
          27758.34,
          30758.34,
          30858.38,
          31858.38,
          30778.38,
          34778.38,
          34885.04,
          24885.04,
          29185.04,
          31685.04,
          30685.04,
          11685.04,
          28685.04,
          25685.04,
          11784.31,
          9584.31,
          11584.31,
          14584.31,
          14626.87,
          18126.87,
          16826.87,
          19826.87,
          19887.76,
          18587.76,
          21987.76,
          24987.76,
          25069.65,
          23769.65,
          27069.65,
          27123.65,
          27173.65,
          30673.65,
          28673.65,
          28770.03,
          4770.03,
          6770.03,
          6804.76,
          19804.76,
          23804.76,
          25304.76,
          20604.76,
          6204.76,
          4904.76,
          7904.76,
          7956.04,
          10456.04,
          13456.04,
          13492.99,
          10492.99,
          12992.99,
          13040.49,
          14540.49,
          13940.49,
          20240.49,
          19940.49,
          16940.49,
          19940.49,
          30416.49,
          30478.36
         ],
         "yaxis": "y2"
        }
       ],
       "layout": {
        "template": {
         "data": {
          "bar": [
           {
            "error_x": {
             "color": "#2a3f5f"
            },
            "error_y": {
             "color": "#2a3f5f"
            },
            "marker": {
             "line": {
              "color": "#E5ECF6",
              "width": 0.5
             },
             "pattern": {
              "fillmode": "overlay",
              "size": 10,
              "solidity": 0.2
             }
            },
            "type": "bar"
           }
          ],
          "barpolar": [
           {
            "marker": {
             "line": {
              "color": "#E5ECF6",
              "width": 0.5
             },
             "pattern": {
              "fillmode": "overlay",
              "size": 10,
              "solidity": 0.2
             }
            },
            "type": "barpolar"
           }
          ],
          "carpet": [
           {
            "aaxis": {
             "endlinecolor": "#2a3f5f",
             "gridcolor": "white",
             "linecolor": "white",
             "minorgridcolor": "white",
             "startlinecolor": "#2a3f5f"
            },
            "baxis": {
             "endlinecolor": "#2a3f5f",
             "gridcolor": "white",
             "linecolor": "white",
             "minorgridcolor": "white",
             "startlinecolor": "#2a3f5f"
            },
            "type": "carpet"
           }
          ],
          "choropleth": [
           {
            "colorbar": {
             "outlinewidth": 0,
             "ticks": ""
            },
            "type": "choropleth"
           }
          ],
          "contour": [
           {
            "colorbar": {
             "outlinewidth": 0,
             "ticks": ""
            },
            "colorscale": [
             [
              0,
              "#0d0887"
             ],
             [
              0.1111111111111111,
              "#46039f"
             ],
             [
              0.2222222222222222,
              "#7201a8"
             ],
             [
              0.3333333333333333,
              "#9c179e"
             ],
             [
              0.4444444444444444,
              "#bd3786"
             ],
             [
              0.5555555555555556,
              "#d8576b"
             ],
             [
              0.6666666666666666,
              "#ed7953"
             ],
             [
              0.7777777777777778,
              "#fb9f3a"
             ],
             [
              0.8888888888888888,
              "#fdca26"
             ],
             [
              1,
              "#f0f921"
             ]
            ],
            "type": "contour"
           }
          ],
          "contourcarpet": [
           {
            "colorbar": {
             "outlinewidth": 0,
             "ticks": ""
            },
            "type": "contourcarpet"
           }
          ],
          "heatmap": [
           {
            "colorbar": {
             "outlinewidth": 0,
             "ticks": ""
            },
            "colorscale": [
             [
              0,
              "#0d0887"
             ],
             [
              0.1111111111111111,
              "#46039f"
             ],
             [
              0.2222222222222222,
              "#7201a8"
             ],
             [
              0.3333333333333333,
              "#9c179e"
             ],
             [
              0.4444444444444444,
              "#bd3786"
             ],
             [
              0.5555555555555556,
              "#d8576b"
             ],
             [
              0.6666666666666666,
              "#ed7953"
             ],
             [
              0.7777777777777778,
              "#fb9f3a"
             ],
             [
              0.8888888888888888,
              "#fdca26"
             ],
             [
              1,
              "#f0f921"
             ]
            ],
            "type": "heatmap"
           }
          ],
          "heatmapgl": [
           {
            "colorbar": {
             "outlinewidth": 0,
             "ticks": ""
            },
            "colorscale": [
             [
              0,
              "#0d0887"
             ],
             [
              0.1111111111111111,
              "#46039f"
             ],
             [
              0.2222222222222222,
              "#7201a8"
             ],
             [
              0.3333333333333333,
              "#9c179e"
             ],
             [
              0.4444444444444444,
              "#bd3786"
             ],
             [
              0.5555555555555556,
              "#d8576b"
             ],
             [
              0.6666666666666666,
              "#ed7953"
             ],
             [
              0.7777777777777778,
              "#fb9f3a"
             ],
             [
              0.8888888888888888,
              "#fdca26"
             ],
             [
              1,
              "#f0f921"
             ]
            ],
            "type": "heatmapgl"
           }
          ],
          "histogram": [
           {
            "marker": {
             "pattern": {
              "fillmode": "overlay",
              "size": 10,
              "solidity": 0.2
             }
            },
            "type": "histogram"
           }
          ],
          "histogram2d": [
           {
            "colorbar": {
             "outlinewidth": 0,
             "ticks": ""
            },
            "colorscale": [
             [
              0,
              "#0d0887"
             ],
             [
              0.1111111111111111,
              "#46039f"
             ],
             [
              0.2222222222222222,
              "#7201a8"
             ],
             [
              0.3333333333333333,
              "#9c179e"
             ],
             [
              0.4444444444444444,
              "#bd3786"
             ],
             [
              0.5555555555555556,
              "#d8576b"
             ],
             [
              0.6666666666666666,
              "#ed7953"
             ],
             [
              0.7777777777777778,
              "#fb9f3a"
             ],
             [
              0.8888888888888888,
              "#fdca26"
             ],
             [
              1,
              "#f0f921"
             ]
            ],
            "type": "histogram2d"
           }
          ],
          "histogram2dcontour": [
           {
            "colorbar": {
             "outlinewidth": 0,
             "ticks": ""
            },
            "colorscale": [
             [
              0,
              "#0d0887"
             ],
             [
              0.1111111111111111,
              "#46039f"
             ],
             [
              0.2222222222222222,
              "#7201a8"
             ],
             [
              0.3333333333333333,
              "#9c179e"
             ],
             [
              0.4444444444444444,
              "#bd3786"
             ],
             [
              0.5555555555555556,
              "#d8576b"
             ],
             [
              0.6666666666666666,
              "#ed7953"
             ],
             [
              0.7777777777777778,
              "#fb9f3a"
             ],
             [
              0.8888888888888888,
              "#fdca26"
             ],
             [
              1,
              "#f0f921"
             ]
            ],
            "type": "histogram2dcontour"
           }
          ],
          "mesh3d": [
           {
            "colorbar": {
             "outlinewidth": 0,
             "ticks": ""
            },
            "type": "mesh3d"
           }
          ],
          "parcoords": [
           {
            "line": {
             "colorbar": {
              "outlinewidth": 0,
              "ticks": ""
             }
            },
            "type": "parcoords"
           }
          ],
          "pie": [
           {
            "automargin": true,
            "type": "pie"
           }
          ],
          "scatter": [
           {
            "fillpattern": {
             "fillmode": "overlay",
             "size": 10,
             "solidity": 0.2
            },
            "type": "scatter"
           }
          ],
          "scatter3d": [
           {
            "line": {
             "colorbar": {
              "outlinewidth": 0,
              "ticks": ""
             }
            },
            "marker": {
             "colorbar": {
              "outlinewidth": 0,
              "ticks": ""
             }
            },
            "type": "scatter3d"
           }
          ],
          "scattercarpet": [
           {
            "marker": {
             "colorbar": {
              "outlinewidth": 0,
              "ticks": ""
             }
            },
            "type": "scattercarpet"
           }
          ],
          "scattergeo": [
           {
            "marker": {
             "colorbar": {
              "outlinewidth": 0,
              "ticks": ""
             }
            },
            "type": "scattergeo"
           }
          ],
          "scattergl": [
           {
            "marker": {
             "colorbar": {
              "outlinewidth": 0,
              "ticks": ""
             }
            },
            "type": "scattergl"
           }
          ],
          "scattermapbox": [
           {
            "marker": {
             "colorbar": {
              "outlinewidth": 0,
              "ticks": ""
             }
            },
            "type": "scattermapbox"
           }
          ],
          "scatterpolar": [
           {
            "marker": {
             "colorbar": {
              "outlinewidth": 0,
              "ticks": ""
             }
            },
            "type": "scatterpolar"
           }
          ],
          "scatterpolargl": [
           {
            "marker": {
             "colorbar": {
              "outlinewidth": 0,
              "ticks": ""
             }
            },
            "type": "scatterpolargl"
           }
          ],
          "scatterternary": [
           {
            "marker": {
             "colorbar": {
              "outlinewidth": 0,
              "ticks": ""
             }
            },
            "type": "scatterternary"
           }
          ],
          "surface": [
           {
            "colorbar": {
             "outlinewidth": 0,
             "ticks": ""
            },
            "colorscale": [
             [
              0,
              "#0d0887"
             ],
             [
              0.1111111111111111,
              "#46039f"
             ],
             [
              0.2222222222222222,
              "#7201a8"
             ],
             [
              0.3333333333333333,
              "#9c179e"
             ],
             [
              0.4444444444444444,
              "#bd3786"
             ],
             [
              0.5555555555555556,
              "#d8576b"
             ],
             [
              0.6666666666666666,
              "#ed7953"
             ],
             [
              0.7777777777777778,
              "#fb9f3a"
             ],
             [
              0.8888888888888888,
              "#fdca26"
             ],
             [
              1,
              "#f0f921"
             ]
            ],
            "type": "surface"
           }
          ],
          "table": [
           {
            "cells": {
             "fill": {
              "color": "#EBF0F8"
             },
             "line": {
              "color": "white"
             }
            },
            "header": {
             "fill": {
              "color": "#C8D4E3"
             },
             "line": {
              "color": "white"
             }
            },
            "type": "table"
           }
          ]
         },
         "layout": {
          "annotationdefaults": {
           "arrowcolor": "#2a3f5f",
           "arrowhead": 0,
           "arrowwidth": 1
          },
          "autotypenumbers": "strict",
          "coloraxis": {
           "colorbar": {
            "outlinewidth": 0,
            "ticks": ""
           }
          },
          "colorscale": {
           "diverging": [
            [
             0,
             "#8e0152"
            ],
            [
             0.1,
             "#c51b7d"
            ],
            [
             0.2,
             "#de77ae"
            ],
            [
             0.3,
             "#f1b6da"
            ],
            [
             0.4,
             "#fde0ef"
            ],
            [
             0.5,
             "#f7f7f7"
            ],
            [
             0.6,
             "#e6f5d0"
            ],
            [
             0.7,
             "#b8e186"
            ],
            [
             0.8,
             "#7fbc41"
            ],
            [
             0.9,
             "#4d9221"
            ],
            [
             1,
             "#276419"
            ]
           ],
           "sequential": [
            [
             0,
             "#0d0887"
            ],
            [
             0.1111111111111111,
             "#46039f"
            ],
            [
             0.2222222222222222,
             "#7201a8"
            ],
            [
             0.3333333333333333,
             "#9c179e"
            ],
            [
             0.4444444444444444,
             "#bd3786"
            ],
            [
             0.5555555555555556,
             "#d8576b"
            ],
            [
             0.6666666666666666,
             "#ed7953"
            ],
            [
             0.7777777777777778,
             "#fb9f3a"
            ],
            [
             0.8888888888888888,
             "#fdca26"
            ],
            [
             1,
             "#f0f921"
            ]
           ],
           "sequentialminus": [
            [
             0,
             "#0d0887"
            ],
            [
             0.1111111111111111,
             "#46039f"
            ],
            [
             0.2222222222222222,
             "#7201a8"
            ],
            [
             0.3333333333333333,
             "#9c179e"
            ],
            [
             0.4444444444444444,
             "#bd3786"
            ],
            [
             0.5555555555555556,
             "#d8576b"
            ],
            [
             0.6666666666666666,
             "#ed7953"
            ],
            [
             0.7777777777777778,
             "#fb9f3a"
            ],
            [
             0.8888888888888888,
             "#fdca26"
            ],
            [
             1,
             "#f0f921"
            ]
           ]
          },
          "colorway": [
           "#636efa",
           "#EF553B",
           "#00cc96",
           "#ab63fa",
           "#FFA15A",
           "#19d3f3",
           "#FF6692",
           "#B6E880",
           "#FF97FF",
           "#FECB52"
          ],
          "font": {
           "color": "#2a3f5f"
          },
          "geo": {
           "bgcolor": "white",
           "lakecolor": "white",
           "landcolor": "#E5ECF6",
           "showlakes": true,
           "showland": true,
           "subunitcolor": "white"
          },
          "hoverlabel": {
           "align": "left"
          },
          "hovermode": "closest",
          "mapbox": {
           "style": "light"
          },
          "paper_bgcolor": "white",
          "plot_bgcolor": "#E5ECF6",
          "polar": {
           "angularaxis": {
            "gridcolor": "white",
            "linecolor": "white",
            "ticks": ""
           },
           "bgcolor": "#E5ECF6",
           "radialaxis": {
            "gridcolor": "white",
            "linecolor": "white",
            "ticks": ""
           }
          },
          "scene": {
           "xaxis": {
            "backgroundcolor": "#E5ECF6",
            "gridcolor": "white",
            "gridwidth": 2,
            "linecolor": "white",
            "showbackground": true,
            "ticks": "",
            "zerolinecolor": "white"
           },
           "yaxis": {
            "backgroundcolor": "#E5ECF6",
            "gridcolor": "white",
            "gridwidth": 2,
            "linecolor": "white",
            "showbackground": true,
            "ticks": "",
            "zerolinecolor": "white"
           },
           "zaxis": {
            "backgroundcolor": "#E5ECF6",
            "gridcolor": "white",
            "gridwidth": 2,
            "linecolor": "white",
            "showbackground": true,
            "ticks": "",
            "zerolinecolor": "white"
           }
          },
          "shapedefaults": {
           "line": {
            "color": "#2a3f5f"
           }
          },
          "ternary": {
           "aaxis": {
            "gridcolor": "white",
            "linecolor": "white",
            "ticks": ""
           },
           "baxis": {
            "gridcolor": "white",
            "linecolor": "white",
            "ticks": ""
           },
           "bgcolor": "#E5ECF6",
           "caxis": {
            "gridcolor": "white",
            "linecolor": "white",
            "ticks": ""
           }
          },
          "title": {
           "x": 0.05
          },
          "xaxis": {
           "automargin": true,
           "gridcolor": "white",
           "linecolor": "white",
           "ticks": "",
           "title": {
            "standoff": 15
           },
           "zerolinecolor": "white",
           "zerolinewidth": 2
          },
          "yaxis": {
           "automargin": true,
           "gridcolor": "white",
           "linecolor": "white",
           "ticks": "",
           "title": {
            "standoff": 15
           },
           "zerolinecolor": "white",
           "zerolinewidth": 2
          }
         }
        },
        "xaxis": {
         "anchor": "y",
         "domain": [
          0,
          0.45
         ]
        },
        "xaxis2": {
         "anchor": "y2",
         "domain": [
          0.55,
          1
         ]
        },
        "yaxis": {
         "anchor": "x",
         "domain": [
          0,
          1
         ]
        },
        "yaxis2": {
         "anchor": "x2",
         "domain": [
          0,
          1
         ]
        }
       }
      }
     },
     "metadata": {},
     "output_type": "display_data"
    }
   ],
   "source": [
    "fig = make_subplots(rows=1, cols=2)\n",
    "\n",
    "fig.add_trace(\n",
    "    go.Scatter(\n",
    "        name='East West Bank Checking',\n",
    "        x=east_west_bank_bank_statements_categorized_worksheet_df['transaction_date'].values.tolist(),\n",
    "        y=east_west_bank_bank_statements_categorized_worksheet_df['balance'].values.tolist()\n",
    "    ),\n",
    "    row=1, col=1\n",
    ")\n",
    "\n",
    "fig.add_trace(\n",
    "    go.Scatter(\n",
    "        name='Marcus Savings',\n",
    "        x=marcus_worksheet_df['transaction_date'].values.tolist(),\n",
    "        y=marcus_worksheet_df['float_balance'].values.tolist()\n",
    "    ),\n",
    "    row=1, col=2\n",
    ")\n",
    "\n",
    "fig.show()\n",
    "\n",
    "# fig.add_trace(\n",
    "#     go.Scatter(\n",
    "#         name='Robinhood Brokerage',\n",
    "#         x=robinhood_brokerage_worksheet_df['Activity Date'].values.tolist(),\n",
    "#         y=robinhood_brokerage_worksheet_df['Portfolio Value'].values.tolist()\n",
    "#     ),\n",
    "#     row=1, col=1\n",
    "# )"
   ]
  },
  {
   "cell_type": "code",
   "execution_count": null,
   "metadata": {},
   "outputs": [],
   "source": []
  },
  {
   "cell_type": "code",
   "execution_count": 29,
   "metadata": {},
   "outputs": [],
   "source": [
    "assets = pd.DataFrame({\n",
    "    'East West Bank': [east_west_bank_balance],\n",
    "    'Marcus': [marcus_balance],\n",
    "    'Robinhood Brokerage': [robinhood_brokerage_portfolio_value],\n",
    "    'Robinhood Traditional IRA': [robinhood_traditional_ira_worksheet_value]\n",
    "}).T\n",
    "assets.reset_index(inplace=True)"
   ]
  },
  {
   "cell_type": "code",
   "execution_count": 30,
   "metadata": {},
   "outputs": [],
   "source": [
    "assets.columns = ['Source', 'Value']"
   ]
  },
  {
   "cell_type": "code",
   "execution_count": 33,
   "metadata": {},
   "outputs": [],
   "source": [
    "# fig = px.pie(assets, values='Value', names='Source', title='Pie Chart of Assets')\n",
    "# fig.show()"
   ]
  },
  {
   "cell_type": "code",
   "execution_count": 62,
   "metadata": {},
   "outputs": [],
   "source": [
    "total_assets = round(\n",
    "    east_west_bank_balance + \n",
    "    marcus_balance + \n",
    "    robinhood_brokerage_portfolio_value + \n",
    "    robinhood_traditional_ira_worksheet_value,\n",
    "    2\n",
    ")\n",
    "\n",
    "total_liabilities = round(\n",
    "    east_west_bank_credit_card_balance + \n",
    "    discover_credit_card_balance,\n",
    "    2\n",
    ")\n",
    "\n",
    "net_worth = round(total_assets + total_liabilities, 2)"
   ]
  },
  {
   "cell_type": "code",
   "execution_count": 85,
   "metadata": {},
   "outputs": [],
   "source": [
    "net_worth_df = pd.DataFrame({\n",
    "    'update_date': ['05/27/2024'],\n",
    "    'total_assets': [total_assets],\n",
    "    'total_liabilities': [total_liabilities],\n",
    "    'net_worth': [net_worth],\n",
    "})\n",
    "net_worth_df['latest_net_worth'] = net_worth_df \\\n",
    "    .sort_values(by='update_date', ascending=True).tail(1)['net_worth'].values[0]"
   ]
  },
  {
   "cell_type": "code",
   "execution_count": 86,
   "metadata": {},
   "outputs": [
    {
     "data": {
      "text/plain": [
       "{'spreadsheetId': '1CAyyf2kr-pS7LNX1a_0ithw6niL3Js3K4ZEOlwDViZY',\n",
       " 'replies': [{}]}"
      ]
     },
     "execution_count": 86,
     "metadata": {},
     "output_type": "execute_result"
    }
   ],
   "source": [
    "net_worth_worksheet = finance_tracker_db_spreadsheet.worksheet(\n",
    "    'net_worth'\n",
    ")\n",
    "net_worth_worksheet.update(\n",
    "    [net_worth_df.columns.values.tolist()] + \\\n",
    "    net_worth_df.values.tolist()\n",
    ")\n",
    "net_worth_worksheet.format(\"A:A\", {\"numberFormat\": {\"type\": \"DATE_TIME\"}})\n",
    "net_worth_worksheet.format(\"B:E\", {\"numberFormat\": {\"type\": \"CURRENCY\"}})"
   ]
  },
  {
   "cell_type": "code",
   "execution_count": 74,
   "metadata": {},
   "outputs": [],
   "source": [
    "# finance_tracker_db_spreadsheet = gc.open_by_key(SPREADSHEET_KEY)\n",
    "# east_west_bank_worksheet = finance_tracker_db_spreadsheet.worksheet('east_west_bank_bank_statements')\n",
    "# east_west_bank_worksheet.update([total_transactions_df.columns.values.tolist()] + total_transactions_df.values.tolist())"
   ]
  },
  {
   "cell_type": "code",
   "execution_count": null,
   "metadata": {},
   "outputs": [],
   "source": [
    "# gc = gspread.service_account()\n",
    "# finance_tracker_db_spreadsheet = gc.open_by_key(SPREADSHEET_KEY)\n",
    "# east_west_bank_worksheet = finance_tracker_db_spreadsheet.worksheet('east_west_bank_bank_statements')\n",
    "# east_west_bank_worksheet.update([total_transactions_df.columns.values.tolist()] + total_transactions_df.values.tolist())\n",
    "# east_west_bank_worksheet.format(\"C:C\", {\"numberFormat\": {\"type\": \"CURRENCY\"}})\n",
    "# east_west_bank_worksheet.format(\"A\", {\"numberFormat\": {\"type\": \"DATE_TIME\"}})"
   ]
  },
  {
   "cell_type": "code",
   "execution_count": 7,
   "metadata": {},
   "outputs": [],
   "source": [
    "# gc = gspread.service_account()\n",
    "# finance_tracker_db_spreadsheet = gc.open_by_key(SPREADSHEET_KEY)\n",
    "# marcus_worksheet = finance_tracker_db_spreadsheet.worksheet('marcus_bank_statements')\n",
    "# marcus_worksheet.update([transactions_df.columns.values.tolist()] + transactions_df.values.tolist())\n",
    "# marcus_worksheet.format(\"C:D\", {\"numberFormat\": {\"type\": \"CURRENCY\"}})"
   ]
  },
  {
   "cell_type": "code",
   "execution_count": 8,
   "metadata": {},
   "outputs": [],
   "source": [
    "# gc = gspread.service_account()\n",
    "# finance_tracker_db_spreadsheet = gc.open_by_key(SPREADSHEET_KEY)\n",
    "# east_west_bank_credit_card_statements_worksheet = finance_tracker_db_spreadsheet.worksheet('east_west_bank_credit_card_statements')\n",
    "# east_west_bank_credit_card_statements_worksheet.update([total_transactions_df.columns.values.tolist()] + total_transactions_df.values.tolist())\n",
    "# east_west_bank_credit_card_statements_worksheet.format(\"D:D\", {\"numberFormat\": {\"type\": \"CURRENCY\"}})\n",
    "# east_west_bank_credit_card_statements_worksheet.format(\"A:B\", {\"numberFormat\": {\"type\": \"DATE_TIME\"}})"
   ]
  },
  {
   "cell_type": "code",
   "execution_count": 9,
   "metadata": {},
   "outputs": [],
   "source": [
    "# gc = gspread.service_account()\n",
    "# finance_tracker_db_spreadsheet = gc.open_by_key(SPREADSHEET_KEY)\n",
    "# east_west_bank_credit_card_statements_worksheet = finance_tracker_db_spreadsheet.worksheet('discover_credit_card_statements')\n",
    "# east_west_bank_credit_card_statements_worksheet.update([df.columns.values.tolist()] + df.values.tolist())\n",
    "# east_west_bank_credit_card_statements_worksheet.format(\"D:D\", {\"numberFormat\": {\"type\": \"CURRENCY\"}})\n",
    "# east_west_bank_credit_card_statements_worksheet.format(\"A:B\", {\"numberFormat\": {\"type\": \"DATE_TIME\"}})"
   ]
  },
  {
   "cell_type": "code",
   "execution_count": 4,
   "metadata": {},
   "outputs": [
    {
     "data": {
      "text/plain": [
       "94663.51000000001"
      ]
     },
     "execution_count": 4,
     "metadata": {},
     "output_type": "execute_result"
    }
   ],
   "source": [
    "523.49+30478.36+45198+18463.66\n",
    "# 523.49+45198+18463.66\n",
    "# 523.49+30478.36+18463.66"
   ]
  }
 ],
 "metadata": {
  "kernelspec": {
   "display_name": "finance_tracker_app",
   "language": "python",
   "name": "python3"
  },
  "language_info": {
   "codemirror_mode": {
    "name": "ipython",
    "version": 3
   },
   "file_extension": ".py",
   "mimetype": "text/x-python",
   "name": "python",
   "nbconvert_exporter": "python",
   "pygments_lexer": "ipython3",
   "version": "3.11.9"
  }
 },
 "nbformat": 4,
 "nbformat_minor": 2
}
